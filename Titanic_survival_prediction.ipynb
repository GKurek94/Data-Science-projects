{
  "nbformat": 4,
  "nbformat_minor": 0,
  "metadata": {
    "colab": {
      "name": "Titanic.ipynb",
      "provenance": [],
      "authorship_tag": "ABX9TyOzJAX4IO+JQh2SlLlKE4io",
      "include_colab_link": true
    },
    "kernelspec": {
      "name": "python3",
      "display_name": "Python 3"
    },
    "language_info": {
      "name": "python"
    }
  },
  "cells": [
    {
      "cell_type": "markdown",
      "metadata": {
        "id": "view-in-github",
        "colab_type": "text"
      },
      "source": [
        "<a href=\"https://colab.research.google.com/github/GKurek94/Data-Science-projects/blob/main/Titanic_survival_prediction.ipynb\" target=\"_parent\"><img src=\"https://colab.research.google.com/assets/colab-badge.svg\" alt=\"Open In Colab\"/></a>"
      ]
    },
    {
      "cell_type": "markdown",
      "metadata": {
        "id": "bKYA_eF8DZ6w"
      },
      "source": [
        "# Kaggle Titanic competition solution transfered to Google Collaboratory."
      ]
    },
    {
      "cell_type": "markdown",
      "metadata": {
        "id": "71EfzN5DfBsw"
      },
      "source": [
        "## Data Preprocessing "
      ]
    },
    {
      "cell_type": "markdown",
      "metadata": {
        "id": "oBvDS4z2e-Xz"
      },
      "source": [
        "Installing required library"
      ]
    },
    {
      "cell_type": "code",
      "metadata": {
        "colab": {
          "base_uri": "https://localhost:8080/"
        },
        "id": "gJs6_216p1Bu",
        "outputId": "2c5c16ab-dab9-40c9-fbbb-451a0b65b85d"
      },
      "source": [
        "!pip install catboost\n"
      ],
      "execution_count": null,
      "outputs": [
        {
          "output_type": "stream",
          "name": "stdout",
          "text": [
            "Requirement already satisfied: catboost in /usr/local/lib/python3.7/dist-packages (1.0.3)\n",
            "Requirement already satisfied: matplotlib in /usr/local/lib/python3.7/dist-packages (from catboost) (3.2.2)\n",
            "Requirement already satisfied: graphviz in /usr/local/lib/python3.7/dist-packages (from catboost) (0.10.1)\n",
            "Requirement already satisfied: numpy>=1.16.0 in /usr/local/lib/python3.7/dist-packages (from catboost) (1.19.5)\n",
            "Requirement already satisfied: scipy in /usr/local/lib/python3.7/dist-packages (from catboost) (1.4.1)\n",
            "Requirement already satisfied: plotly in /usr/local/lib/python3.7/dist-packages (from catboost) (4.4.1)\n",
            "Requirement already satisfied: pandas>=0.24.0 in /usr/local/lib/python3.7/dist-packages (from catboost) (1.1.5)\n",
            "Requirement already satisfied: six in /usr/local/lib/python3.7/dist-packages (from catboost) (1.15.0)\n",
            "Requirement already satisfied: python-dateutil>=2.7.3 in /usr/local/lib/python3.7/dist-packages (from pandas>=0.24.0->catboost) (2.8.2)\n",
            "Requirement already satisfied: pytz>=2017.2 in /usr/local/lib/python3.7/dist-packages (from pandas>=0.24.0->catboost) (2018.9)\n",
            "Requirement already satisfied: kiwisolver>=1.0.1 in /usr/local/lib/python3.7/dist-packages (from matplotlib->catboost) (1.3.2)\n",
            "Requirement already satisfied: pyparsing!=2.0.4,!=2.1.2,!=2.1.6,>=2.0.1 in /usr/local/lib/python3.7/dist-packages (from matplotlib->catboost) (2.4.7)\n",
            "Requirement already satisfied: cycler>=0.10 in /usr/local/lib/python3.7/dist-packages (from matplotlib->catboost) (0.11.0)\n",
            "Requirement already satisfied: retrying>=1.3.3 in /usr/local/lib/python3.7/dist-packages (from plotly->catboost) (1.3.3)\n"
          ]
        }
      ]
    },
    {
      "cell_type": "markdown",
      "metadata": {
        "id": "TNDAnW9nig_L"
      },
      "source": [
        "Importing the required libraries. Data load. First moment of preprocessing which is changing empty values to 0 or average.\n",
        "\n"
      ]
    },
    {
      "cell_type": "code",
      "metadata": {
        "id": "xv2GAz6Nd3GD"
      },
      "source": [
        "import pandas as pd\n",
        "import numpy as np\n",
        "from sklearn.feature_extraction.text import TfidfVectorizer\n",
        "from sklearn.naive_bayes import MultinomialNB\n",
        "from sklearn.metrics import confusion_matrix\n",
        "from sklearn.linear_model import LogisticRegression\n",
        "from sklearn.tree import DecisionTreeClassifier\n",
        "from sklearn.svm import SVC\n",
        "from sklearn.model_selection import train_test_split\n",
        "\n",
        "\n",
        "\n",
        "\n",
        "train_df = pd.read_csv('train.csv')\n",
        "test_df = pd.read_csv('test.csv')\n",
        "\n",
        "train_df['Cabin'] = train_df['Cabin'].fillna(0)\n",
        "test_df['Cabin'] = test_df['Cabin'].fillna(0)\n",
        "train_df['Age'] = train_df['Age'].fillna(train_df['Age'].mean())\n",
        "test_df['Age'] = test_df['Age'].fillna(test_df['Age'].mean())\n",
        "print(train_df.isnull().sum())\n",
        "train_df.duplicated().sum()\n",
        "#train_target = train_df.Survived\n",
        "#train_data = train_df.drop('Survived', axis=1)\n",
        "#test_df.head()\n",
        "\n"
      ],
      "execution_count": null,
      "outputs": []
    },
    {
      "cell_type": "code",
      "metadata": {
        "id": "gs06L51YyW2R"
      },
      "source": [
        "from catboost import CatBoostClassifier"
      ],
      "execution_count": null,
      "outputs": []
    },
    {
      "cell_type": "markdown",
      "metadata": {
        "id": "n9PHKlG9q1T3"
      },
      "source": [
        "Splitting the data. "
      ]
    },
    {
      "cell_type": "code",
      "metadata": {
        "id": "b4xBVUlixwww"
      },
      "source": [
        "train_target = train_df.Survived\n",
        "train_data = train_df.drop('Survived', axis=1)"
      ],
      "execution_count": null,
      "outputs": []
    },
    {
      "cell_type": "markdown",
      "metadata": {
        "id": "MqLHaUImq6OD"
      },
      "source": [
        "For ease of project dropping column containing the name of passengers. "
      ]
    },
    {
      "cell_type": "code",
      "metadata": {
        "id": "CEByxHB69DMJ"
      },
      "source": [
        "train_data = train_data.drop('Name', axis=1)\n",
        "test_df = test_df.drop('Name', axis=1)"
      ],
      "execution_count": null,
      "outputs": []
    },
    {
      "cell_type": "code",
      "metadata": {
        "colab": {
          "base_uri": "https://localhost:8080/"
        },
        "id": "Fh-YFjbQ9V6j",
        "outputId": "b5eefb0d-9ed5-4ad5-dbad-88cac3710e83"
      },
      "source": [
        "train_data.info()"
      ],
      "execution_count": null,
      "outputs": [
        {
          "output_type": "stream",
          "name": "stdout",
          "text": [
            "<class 'pandas.core.frame.DataFrame'>\n",
            "RangeIndex: 891 entries, 0 to 890\n",
            "Data columns (total 10 columns):\n",
            " #   Column       Non-Null Count  Dtype  \n",
            "---  ------       --------------  -----  \n",
            " 0   PassengerId  891 non-null    int64  \n",
            " 1   Pclass       891 non-null    int64  \n",
            " 2   Sex          891 non-null    object \n",
            " 3   Age          891 non-null    float64\n",
            " 4   SibSp        891 non-null    int64  \n",
            " 5   Parch        891 non-null    int64  \n",
            " 6   Ticket       891 non-null    object \n",
            " 7   Fare         891 non-null    float64\n",
            " 8   Cabin        891 non-null    object \n",
            " 9   Embarked     889 non-null    object \n",
            "dtypes: float64(2), int64(4), object(4)\n",
            "memory usage: 69.7+ KB\n"
          ]
        }
      ]
    },
    {
      "cell_type": "markdown",
      "metadata": {
        "id": "6h33m0yesBTn"
      },
      "source": [
        "Another operation. There are around 150 cabins for survivors. For making calculations easier every cabin is equal to 1, which makes only 2 different values."
      ]
    },
    {
      "cell_type": "code",
      "metadata": {
        "colab": {
          "base_uri": "https://localhost:8080/"
        },
        "id": "eQEs7o_rBLNE",
        "outputId": "4ee450e9-374e-4f33-d659-62983460abfb"
      },
      "source": [
        "train_data['Cabin'] = np.where(train_data['Cabin'] != 0, 1, \n",
        "                               train_data['Cabin'])\n",
        "test_df['Cabin'] = np.where(test_df['Cabin'] != 0, 1, \n",
        "                               test_df['Cabin'])"
      ],
      "execution_count": null,
      "outputs": [
        {
          "output_type": "execute_result",
          "data": {
            "text/plain": [
              "0      0\n",
              "1      1\n",
              "2      0\n",
              "3      1\n",
              "4      0\n",
              "      ..\n",
              "886    0\n",
              "887    1\n",
              "888    0\n",
              "889    1\n",
              "890    0\n",
              "Name: Cabin, Length: 891, dtype: object"
            ]
          },
          "metadata": {},
          "execution_count": 54
        }
      ]
    },
    {
      "cell_type": "code",
      "metadata": {
        "colab": {
          "base_uri": "https://localhost:8080/"
        },
        "id": "6AUJKRfsEDcR",
        "outputId": "a910d0af-65e9-46e6-cef8-d20cb1dfd01b"
      },
      "source": [
        "train_data.info()"
      ],
      "execution_count": null,
      "outputs": [
        {
          "output_type": "stream",
          "name": "stdout",
          "text": [
            "<class 'pandas.core.frame.DataFrame'>\n",
            "RangeIndex: 891 entries, 0 to 890\n",
            "Data columns (total 10 columns):\n",
            " #   Column       Non-Null Count  Dtype  \n",
            "---  ------       --------------  -----  \n",
            " 0   PassengerId  891 non-null    int64  \n",
            " 1   Pclass       891 non-null    int64  \n",
            " 2   Sex          891 non-null    object \n",
            " 3   Age          891 non-null    float64\n",
            " 4   SibSp        891 non-null    int64  \n",
            " 5   Parch        891 non-null    int64  \n",
            " 6   Ticket       891 non-null    object \n",
            " 7   Fare         891 non-null    float64\n",
            " 8   Cabin        891 non-null    object \n",
            " 9   Embarked     889 non-null    object \n",
            "dtypes: float64(2), int64(4), object(4)\n",
            "memory usage: 69.7+ KB\n"
          ]
        }
      ]
    },
    {
      "cell_type": "code",
      "metadata": {
        "colab": {
          "base_uri": "https://localhost:8080/"
        },
        "id": "hleIZwodERRy",
        "outputId": "f8aa4ac5-3376-4166-f39b-588ab87004cc"
      },
      "source": [
        "train_data['Ticket'].value_counts()"
      ],
      "execution_count": null,
      "outputs": [
        {
          "output_type": "execute_result",
          "data": {
            "text/plain": [
              "CA. 2343           7\n",
              "1601               7\n",
              "347082             7\n",
              "3101295            6\n",
              "347088             6\n",
              "                  ..\n",
              "244358             1\n",
              "113767             1\n",
              "SOTON/OQ 392089    1\n",
              "347081             1\n",
              "SW/PP 751          1\n",
              "Name: Ticket, Length: 681, dtype: int64"
            ]
          },
          "metadata": {},
          "execution_count": 56
        }
      ]
    },
    {
      "cell_type": "markdown",
      "metadata": {
        "id": "ph2Yd5jEtCIf"
      },
      "source": [
        "Deleting ticket column, which shouldn't have impact into predicting survival."
      ]
    },
    {
      "cell_type": "code",
      "metadata": {
        "id": "WNKAcDWXFNnE"
      },
      "source": [
        "train_data = train_data.drop('Ticket', axis=1)\n",
        "test_df = test_df.drop('Ticket', axis=1)"
      ],
      "execution_count": null,
      "outputs": []
    },
    {
      "cell_type": "code",
      "metadata": {
        "colab": {
          "base_uri": "https://localhost:8080/"
        },
        "id": "grgbvh_-FXXt",
        "outputId": "1a9fba02-d777-4d6c-babd-5a6471dc1c75"
      },
      "source": [
        "train_data.info()"
      ],
      "execution_count": null,
      "outputs": [
        {
          "output_type": "stream",
          "name": "stdout",
          "text": [
            "<class 'pandas.core.frame.DataFrame'>\n",
            "RangeIndex: 891 entries, 0 to 890\n",
            "Data columns (total 9 columns):\n",
            " #   Column       Non-Null Count  Dtype  \n",
            "---  ------       --------------  -----  \n",
            " 0   PassengerId  891 non-null    int64  \n",
            " 1   Pclass       891 non-null    int64  \n",
            " 2   Sex          891 non-null    object \n",
            " 3   Age          891 non-null    float64\n",
            " 4   SibSp        891 non-null    int64  \n",
            " 5   Parch        891 non-null    int64  \n",
            " 6   Fare         891 non-null    float64\n",
            " 7   Cabin        891 non-null    object \n",
            " 8   Embarked     889 non-null    object \n",
            "dtypes: float64(2), int64(4), object(3)\n",
            "memory usage: 62.8+ KB\n"
          ]
        }
      ]
    },
    {
      "cell_type": "markdown",
      "metadata": {
        "id": "tBqu9g-4tVSl"
      },
      "source": [
        "Changing type of cabin column to numeric."
      ]
    },
    {
      "cell_type": "code",
      "metadata": {
        "id": "djbTwX7SFvJG"
      },
      "source": [
        "train_data['Cabin'] = train_data['Cabin'].astype('int')\n",
        "test_df['Cabin'] = test_df['Cabin'].astype('int')"
      ],
      "execution_count": null,
      "outputs": []
    },
    {
      "cell_type": "code",
      "metadata": {
        "colab": {
          "base_uri": "https://localhost:8080/"
        },
        "id": "whNXPd7VF1NZ",
        "outputId": "10efefc3-7ea8-40c0-c1ee-1cd14a4a03e1"
      },
      "source": [
        "train_data.info()"
      ],
      "execution_count": null,
      "outputs": [
        {
          "output_type": "stream",
          "name": "stdout",
          "text": [
            "<class 'pandas.core.frame.DataFrame'>\n",
            "RangeIndex: 891 entries, 0 to 890\n",
            "Data columns (total 9 columns):\n",
            " #   Column       Non-Null Count  Dtype  \n",
            "---  ------       --------------  -----  \n",
            " 0   PassengerId  891 non-null    int64  \n",
            " 1   Pclass       891 non-null    int64  \n",
            " 2   Sex          891 non-null    object \n",
            " 3   Age          891 non-null    float64\n",
            " 4   SibSp        891 non-null    int64  \n",
            " 5   Parch        891 non-null    int64  \n",
            " 6   Fare         891 non-null    float64\n",
            " 7   Cabin        891 non-null    int64  \n",
            " 8   Embarked     889 non-null    object \n",
            "dtypes: float64(2), int64(5), object(2)\n",
            "memory usage: 62.8+ KB\n"
          ]
        }
      ]
    },
    {
      "cell_type": "markdown",
      "metadata": {
        "id": "jLCrKMidMdR-"
      },
      "source": [
        "Convert  variables into dummies."
      ]
    },
    {
      "cell_type": "code",
      "metadata": {
        "id": "Jl-suPdVF9d4"
      },
      "source": [
        "train_data = pd.get_dummies(train_data)\n",
        "test_df = pd.get_dummies(test_df)"
      ],
      "execution_count": null,
      "outputs": []
    },
    {
      "cell_type": "code",
      "metadata": {
        "id": "JOUKURq-GEZe"
      },
      "source": [
        "test_df['Fare'] = test_df['Fare'].fillna(test_df['Fare'].mean())"
      ],
      "execution_count": null,
      "outputs": []
    },
    {
      "cell_type": "markdown",
      "metadata": {
        "id": "PqQcyHrbOT_H"
      },
      "source": [
        "Application which contains functions and all argorithms required to find best classifier for titanic survival prediction."
      ]
    },
    {
      "cell_type": "code",
      "metadata": {
        "id": "fX1DLu3w3ROs"
      },
      "source": [
        "\n",
        "\n",
        "def best_classifier(dicts):\n",
        "        for e in dicts:\n",
        "            if dicts[e] == max(dicts.values()):\n",
        "                return e\n",
        "\n",
        "\n",
        "# Logistic Regression\n",
        "log_reg = LogisticRegression(random_state=0)\n",
        "log_reg.fit(train_data, train_target)\n",
        "y_pred_log = log_reg.predict(test_df)\n",
        "log_score = log_reg.score(train_data, train_target)\n",
        "\n",
        "# Multinomial Naive Bayes\n",
        "classifier_multi = MultinomialNB()\n",
        "classifier_multi.fit(train_data, train_target)\n",
        "y_pred = classifier_multi.predict(test_df)\n",
        "multi_score = classifier_multi.score(train_data, train_target)\n",
        "\n",
        "\n",
        "# Decision Tree Classifier\n",
        "classifier_tree = DecisionTreeClassifier(max_depth=2, random_state=0)\n",
        "classifier_tree.fit(train_data, train_target)\n",
        "y_pred_tree = classifier_tree.predict(test_df)\n",
        "tree_score = classifier_tree.score(train_data, train_target)\n",
        "\n",
        "# Linear SVC\n",
        "classifier_svc = SVC(C=1.0, kernel='linear')\n",
        "classifier_svc.fit(train_data, train_target)\n",
        "y_pred_svc = classifier_svc.predict(test_df)\n",
        "svc_score = classifier_svc.score(train_data, train_target)\n",
        "\n",
        "# Catboost\n",
        "cat_classifier = CatBoostClassifier(iterations=1000, learning_rate=0.01, depth=3)\n",
        "cat_classifier.fit(train_data, train_target)\n",
        "# Get predictions\n",
        "cat_pred = cat_classifier.predict(test_df)\n",
        "cat_score = cat_classifier.score(train_data, train_target)\n",
        "\n",
        "# Dictionary of algorithm names and their values in that case\n",
        "dict_of_algorithms = {\n",
        "\"LogisticRegression\": log_score,\n",
        "\"MultinomialNB\": multi_score,\n",
        "\"DecisionTreeClassifier\": tree_score,\n",
        "\"LinearSVC\": svc_score,\n",
        "\"CatBoost\": cat_score}\n",
        "\n",
        "results = {\n",
        "\"LogisticRegression\": log_score,\n",
        "\"MultinomialNB\": multi_score,\n",
        "\"DecisionTreeClassifier\": tree_score,\n",
        "\"LinearSVC\": svc_score,\n",
        "\"CatBoost\": cat_score,\n",
        "\"Best Classifier\": best_classifier(dict_of_algorithms),\n",
        "\"Best value\": max(log_score, multi_score, tree_score, svc_score, cat_score)\n",
        "}\n",
        "print(results)"
      ],
      "execution_count": null,
      "outputs": []
    },
    {
      "cell_type": "code",
      "metadata": {
        "colab": {
          "base_uri": "https://localhost:8080/",
          "height": 418
        },
        "id": "EZuisXZU9_bK",
        "outputId": "b6559851-be6c-4b4a-d57a-0311943bf724"
      },
      "source": [
        "submission = pd.DataFrame({\n",
        "        \"PassengerId\": test_df[\"PassengerId\"],\n",
        "        \"Survived\": cat_pred\n",
        "    })\n",
        "submission"
      ],
      "execution_count": null,
      "outputs": [
        {
          "output_type": "execute_result",
          "data": {
            "text/html": [
              "<div>\n",
              "<style scoped>\n",
              "    .dataframe tbody tr th:only-of-type {\n",
              "        vertical-align: middle;\n",
              "    }\n",
              "\n",
              "    .dataframe tbody tr th {\n",
              "        vertical-align: top;\n",
              "    }\n",
              "\n",
              "    .dataframe thead th {\n",
              "        text-align: right;\n",
              "    }\n",
              "</style>\n",
              "<table border=\"1\" class=\"dataframe\">\n",
              "  <thead>\n",
              "    <tr style=\"text-align: right;\">\n",
              "      <th></th>\n",
              "      <th>PassengerId</th>\n",
              "      <th>Survived</th>\n",
              "    </tr>\n",
              "  </thead>\n",
              "  <tbody>\n",
              "    <tr>\n",
              "      <th>0</th>\n",
              "      <td>892</td>\n",
              "      <td>0</td>\n",
              "    </tr>\n",
              "    <tr>\n",
              "      <th>1</th>\n",
              "      <td>893</td>\n",
              "      <td>0</td>\n",
              "    </tr>\n",
              "    <tr>\n",
              "      <th>2</th>\n",
              "      <td>894</td>\n",
              "      <td>0</td>\n",
              "    </tr>\n",
              "    <tr>\n",
              "      <th>3</th>\n",
              "      <td>895</td>\n",
              "      <td>0</td>\n",
              "    </tr>\n",
              "    <tr>\n",
              "      <th>4</th>\n",
              "      <td>896</td>\n",
              "      <td>0</td>\n",
              "    </tr>\n",
              "    <tr>\n",
              "      <th>...</th>\n",
              "      <td>...</td>\n",
              "      <td>...</td>\n",
              "    </tr>\n",
              "    <tr>\n",
              "      <th>413</th>\n",
              "      <td>1305</td>\n",
              "      <td>0</td>\n",
              "    </tr>\n",
              "    <tr>\n",
              "      <th>414</th>\n",
              "      <td>1306</td>\n",
              "      <td>1</td>\n",
              "    </tr>\n",
              "    <tr>\n",
              "      <th>415</th>\n",
              "      <td>1307</td>\n",
              "      <td>0</td>\n",
              "    </tr>\n",
              "    <tr>\n",
              "      <th>416</th>\n",
              "      <td>1308</td>\n",
              "      <td>0</td>\n",
              "    </tr>\n",
              "    <tr>\n",
              "      <th>417</th>\n",
              "      <td>1309</td>\n",
              "      <td>0</td>\n",
              "    </tr>\n",
              "  </tbody>\n",
              "</table>\n",
              "<p>418 rows × 2 columns</p>\n",
              "</div>"
            ],
            "text/plain": [
              "     PassengerId  Survived\n",
              "0            892         0\n",
              "1            893         0\n",
              "2            894         0\n",
              "3            895         0\n",
              "4            896         0\n",
              "..           ...       ...\n",
              "413         1305         0\n",
              "414         1306         1\n",
              "415         1307         0\n",
              "416         1308         0\n",
              "417         1309         0\n",
              "\n",
              "[418 rows x 2 columns]"
            ]
          },
          "metadata": {},
          "execution_count": 107
        }
      ]
    },
    {
      "cell_type": "code",
      "metadata": {
        "id": "I6C34MXcNXPl"
      },
      "source": [
        "submission.to_csv('submission.csv', index=False)"
      ],
      "execution_count": null,
      "outputs": []
    }
  ]
}