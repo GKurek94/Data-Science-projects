{
  "nbformat": 4,
  "nbformat_minor": 0,
  "metadata": {
    "colab": {
      "name": "Student_performance.ipynb",
      "provenance": [],
      "collapsed_sections": [],
      "authorship_tag": "ABX9TyOkIeNkgrxMA1XeslGR+jID",
      "include_colab_link": true
    },
    "kernelspec": {
      "name": "python3",
      "display_name": "Python 3"
    },
    "language_info": {
      "name": "python"
    }
  },
  "cells": [
    {
      "cell_type": "markdown",
      "metadata": {
        "id": "view-in-github",
        "colab_type": "text"
      },
      "source": [
        "<a href=\"https://colab.research.google.com/github/GKurek94/Data-Science-projects/blob/develop/Student_performance.ipynb\" target=\"_parent\"><img src=\"https://colab.research.google.com/assets/colab-badge.svg\" alt=\"Open In Colab\"/></a>"
      ]
    },
    {
      "cell_type": "markdown",
      "metadata": {
        "id": "Z-U0m82FoXiW"
      },
      "source": [
        "# Students Performance project with few cases"
      ]
    },
    {
      "cell_type": "markdown",
      "metadata": {
        "id": "wzNQqeu0olwx"
      },
      "source": [
        "## Visualisation of relationship between two variables: \"parental level of educaction\" and \"lunch\". \n"
      ]
    },
    {
      "cell_type": "markdown",
      "metadata": {
        "id": "FLf2MxSipNN0"
      },
      "source": [
        "Common sense tells us, that high parental level of education is connected with high income. The interesting case is, if the high income affects into better lunches for parent's children. "
      ]
    },
    {
      "cell_type": "markdown",
      "metadata": {
        "id": "r73mOR3sodea"
      },
      "source": [
        "### Importing crucial libraries. Data preprocessing."
      ]
    },
    {
      "cell_type": "code",
      "metadata": {
        "id": "CiwDZOZ5ZVx0"
      },
      "source": [
        "import pandas as pd\n",
        "pd.__version__\n",
        "import numpy as np\n",
        "import plotly.express as px\n",
        "import matplotlib\n",
        "import seaborn as sns"
      ],
      "execution_count": 68,
      "outputs": []
    },
    {
      "cell_type": "markdown",
      "metadata": {
        "id": "Etb_BF58oV-0"
      },
      "source": [
        "Loading data."
      ]
    },
    {
      "cell_type": "code",
      "metadata": {
        "colab": {
          "base_uri": "https://localhost:8080/",
          "height": 418
        },
        "id": "62xv0S0AezxB",
        "outputId": "5250444f-bb88-4a00-cb83-ff68e3bdd926"
      },
      "source": [
        "StudentsPerformance = pd.read_csv('StudentsPerformance.csv')\n",
        "StudentsPerformance"
      ],
      "execution_count": 2,
      "outputs": [
        {
          "output_type": "execute_result",
          "data": {
            "text/html": [
              "<div>\n",
              "<style scoped>\n",
              "    .dataframe tbody tr th:only-of-type {\n",
              "        vertical-align: middle;\n",
              "    }\n",
              "\n",
              "    .dataframe tbody tr th {\n",
              "        vertical-align: top;\n",
              "    }\n",
              "\n",
              "    .dataframe thead th {\n",
              "        text-align: right;\n",
              "    }\n",
              "</style>\n",
              "<table border=\"1\" class=\"dataframe\">\n",
              "  <thead>\n",
              "    <tr style=\"text-align: right;\">\n",
              "      <th></th>\n",
              "      <th>gender</th>\n",
              "      <th>race/ethnicity</th>\n",
              "      <th>parental level of education</th>\n",
              "      <th>lunch</th>\n",
              "      <th>test preparation course</th>\n",
              "      <th>math score</th>\n",
              "      <th>reading score</th>\n",
              "      <th>writing score</th>\n",
              "    </tr>\n",
              "  </thead>\n",
              "  <tbody>\n",
              "    <tr>\n",
              "      <th>0</th>\n",
              "      <td>female</td>\n",
              "      <td>group B</td>\n",
              "      <td>bachelor's degree</td>\n",
              "      <td>standard</td>\n",
              "      <td>none</td>\n",
              "      <td>72</td>\n",
              "      <td>72</td>\n",
              "      <td>74</td>\n",
              "    </tr>\n",
              "    <tr>\n",
              "      <th>1</th>\n",
              "      <td>female</td>\n",
              "      <td>group C</td>\n",
              "      <td>some college</td>\n",
              "      <td>standard</td>\n",
              "      <td>completed</td>\n",
              "      <td>69</td>\n",
              "      <td>90</td>\n",
              "      <td>88</td>\n",
              "    </tr>\n",
              "    <tr>\n",
              "      <th>2</th>\n",
              "      <td>female</td>\n",
              "      <td>group B</td>\n",
              "      <td>master's degree</td>\n",
              "      <td>standard</td>\n",
              "      <td>none</td>\n",
              "      <td>90</td>\n",
              "      <td>95</td>\n",
              "      <td>93</td>\n",
              "    </tr>\n",
              "    <tr>\n",
              "      <th>3</th>\n",
              "      <td>male</td>\n",
              "      <td>group A</td>\n",
              "      <td>associate's degree</td>\n",
              "      <td>free/reduced</td>\n",
              "      <td>none</td>\n",
              "      <td>47</td>\n",
              "      <td>57</td>\n",
              "      <td>44</td>\n",
              "    </tr>\n",
              "    <tr>\n",
              "      <th>4</th>\n",
              "      <td>male</td>\n",
              "      <td>group C</td>\n",
              "      <td>some college</td>\n",
              "      <td>standard</td>\n",
              "      <td>none</td>\n",
              "      <td>76</td>\n",
              "      <td>78</td>\n",
              "      <td>75</td>\n",
              "    </tr>\n",
              "    <tr>\n",
              "      <th>...</th>\n",
              "      <td>...</td>\n",
              "      <td>...</td>\n",
              "      <td>...</td>\n",
              "      <td>...</td>\n",
              "      <td>...</td>\n",
              "      <td>...</td>\n",
              "      <td>...</td>\n",
              "      <td>...</td>\n",
              "    </tr>\n",
              "    <tr>\n",
              "      <th>995</th>\n",
              "      <td>female</td>\n",
              "      <td>group E</td>\n",
              "      <td>master's degree</td>\n",
              "      <td>standard</td>\n",
              "      <td>completed</td>\n",
              "      <td>88</td>\n",
              "      <td>99</td>\n",
              "      <td>95</td>\n",
              "    </tr>\n",
              "    <tr>\n",
              "      <th>996</th>\n",
              "      <td>male</td>\n",
              "      <td>group C</td>\n",
              "      <td>high school</td>\n",
              "      <td>free/reduced</td>\n",
              "      <td>none</td>\n",
              "      <td>62</td>\n",
              "      <td>55</td>\n",
              "      <td>55</td>\n",
              "    </tr>\n",
              "    <tr>\n",
              "      <th>997</th>\n",
              "      <td>female</td>\n",
              "      <td>group C</td>\n",
              "      <td>high school</td>\n",
              "      <td>free/reduced</td>\n",
              "      <td>completed</td>\n",
              "      <td>59</td>\n",
              "      <td>71</td>\n",
              "      <td>65</td>\n",
              "    </tr>\n",
              "    <tr>\n",
              "      <th>998</th>\n",
              "      <td>female</td>\n",
              "      <td>group D</td>\n",
              "      <td>some college</td>\n",
              "      <td>standard</td>\n",
              "      <td>completed</td>\n",
              "      <td>68</td>\n",
              "      <td>78</td>\n",
              "      <td>77</td>\n",
              "    </tr>\n",
              "    <tr>\n",
              "      <th>999</th>\n",
              "      <td>female</td>\n",
              "      <td>group D</td>\n",
              "      <td>some college</td>\n",
              "      <td>free/reduced</td>\n",
              "      <td>none</td>\n",
              "      <td>77</td>\n",
              "      <td>86</td>\n",
              "      <td>86</td>\n",
              "    </tr>\n",
              "  </tbody>\n",
              "</table>\n",
              "<p>1000 rows × 8 columns</p>\n",
              "</div>"
            ],
            "text/plain": [
              "     gender race/ethnicity  ... reading score writing score\n",
              "0    female        group B  ...            72            74\n",
              "1    female        group C  ...            90            88\n",
              "2    female        group B  ...            95            93\n",
              "3      male        group A  ...            57            44\n",
              "4      male        group C  ...            78            75\n",
              "..      ...            ...  ...           ...           ...\n",
              "995  female        group E  ...            99            95\n",
              "996    male        group C  ...            55            55\n",
              "997  female        group C  ...            71            65\n",
              "998  female        group D  ...            78            77\n",
              "999  female        group D  ...            86            86\n",
              "\n",
              "[1000 rows x 8 columns]"
            ]
          },
          "metadata": {},
          "execution_count": 2
        }
      ]
    },
    {
      "cell_type": "markdown",
      "metadata": {
        "id": "h0_y1mzdpyPR"
      },
      "source": [
        "Preliminary data preparation with view of some statistical information about the data."
      ]
    },
    {
      "cell_type": "code",
      "metadata": {
        "colab": {
          "base_uri": "https://localhost:8080/"
        },
        "id": "w-rYOHeLNcfe",
        "outputId": "52f36996-6312-4475-c0eb-99d41d3c8e58"
      },
      "source": [
        "StudentsPerformance.isnull().sum()"
      ],
      "execution_count": 4,
      "outputs": [
        {
          "output_type": "execute_result",
          "data": {
            "text/plain": [
              "gender                         0\n",
              "race/ethnicity                 0\n",
              "parental level of education    0\n",
              "lunch                          0\n",
              "test preparation course        0\n",
              "math score                     0\n",
              "reading score                  0\n",
              "writing score                  0\n",
              "dtype: int64"
            ]
          },
          "metadata": {},
          "execution_count": 4
        }
      ]
    },
    {
      "cell_type": "code",
      "metadata": {
        "id": "FxRiipapg6H0"
      },
      "source": [
        "StudentsPerformance.describe()\n",
        "StudentsPerformance.columns = [col.replace(' ','_') for col in StudentsPerformance.columns]"
      ],
      "execution_count": 5,
      "outputs": []
    },
    {
      "cell_type": "code",
      "metadata": {
        "colab": {
          "base_uri": "https://localhost:8080/",
          "height": 418
        },
        "id": "OY8GxTAdiE4P",
        "outputId": "ff85993f-5a06-4a5d-ef2d-9fc40fca553c"
      },
      "source": [
        "df = StudentsPerformance[['lunch','parental_level_of_education']]\n",
        "df"
      ],
      "execution_count": 6,
      "outputs": [
        {
          "output_type": "execute_result",
          "data": {
            "text/html": [
              "<div>\n",
              "<style scoped>\n",
              "    .dataframe tbody tr th:only-of-type {\n",
              "        vertical-align: middle;\n",
              "    }\n",
              "\n",
              "    .dataframe tbody tr th {\n",
              "        vertical-align: top;\n",
              "    }\n",
              "\n",
              "    .dataframe thead th {\n",
              "        text-align: right;\n",
              "    }\n",
              "</style>\n",
              "<table border=\"1\" class=\"dataframe\">\n",
              "  <thead>\n",
              "    <tr style=\"text-align: right;\">\n",
              "      <th></th>\n",
              "      <th>lunch</th>\n",
              "      <th>parental_level_of_education</th>\n",
              "    </tr>\n",
              "  </thead>\n",
              "  <tbody>\n",
              "    <tr>\n",
              "      <th>0</th>\n",
              "      <td>standard</td>\n",
              "      <td>bachelor's degree</td>\n",
              "    </tr>\n",
              "    <tr>\n",
              "      <th>1</th>\n",
              "      <td>standard</td>\n",
              "      <td>some college</td>\n",
              "    </tr>\n",
              "    <tr>\n",
              "      <th>2</th>\n",
              "      <td>standard</td>\n",
              "      <td>master's degree</td>\n",
              "    </tr>\n",
              "    <tr>\n",
              "      <th>3</th>\n",
              "      <td>free/reduced</td>\n",
              "      <td>associate's degree</td>\n",
              "    </tr>\n",
              "    <tr>\n",
              "      <th>4</th>\n",
              "      <td>standard</td>\n",
              "      <td>some college</td>\n",
              "    </tr>\n",
              "    <tr>\n",
              "      <th>...</th>\n",
              "      <td>...</td>\n",
              "      <td>...</td>\n",
              "    </tr>\n",
              "    <tr>\n",
              "      <th>995</th>\n",
              "      <td>standard</td>\n",
              "      <td>master's degree</td>\n",
              "    </tr>\n",
              "    <tr>\n",
              "      <th>996</th>\n",
              "      <td>free/reduced</td>\n",
              "      <td>high school</td>\n",
              "    </tr>\n",
              "    <tr>\n",
              "      <th>997</th>\n",
              "      <td>free/reduced</td>\n",
              "      <td>high school</td>\n",
              "    </tr>\n",
              "    <tr>\n",
              "      <th>998</th>\n",
              "      <td>standard</td>\n",
              "      <td>some college</td>\n",
              "    </tr>\n",
              "    <tr>\n",
              "      <th>999</th>\n",
              "      <td>free/reduced</td>\n",
              "      <td>some college</td>\n",
              "    </tr>\n",
              "  </tbody>\n",
              "</table>\n",
              "<p>1000 rows × 2 columns</p>\n",
              "</div>"
            ],
            "text/plain": [
              "            lunch parental_level_of_education\n",
              "0        standard           bachelor's degree\n",
              "1        standard                some college\n",
              "2        standard             master's degree\n",
              "3    free/reduced          associate's degree\n",
              "4        standard                some college\n",
              "..            ...                         ...\n",
              "995      standard             master's degree\n",
              "996  free/reduced                 high school\n",
              "997  free/reduced                 high school\n",
              "998      standard                some college\n",
              "999  free/reduced                some college\n",
              "\n",
              "[1000 rows x 2 columns]"
            ]
          },
          "metadata": {},
          "execution_count": 6
        }
      ]
    },
    {
      "cell_type": "code",
      "metadata": {
        "colab": {
          "base_uri": "https://localhost:8080/"
        },
        "id": "fl7_2A1MDt1t",
        "outputId": "638d211c-7b23-42b5-d0e2-eea18220a94d"
      },
      "source": [
        "df.parental_level_of_education.value_counts()\n"
      ],
      "execution_count": 7,
      "outputs": [
        {
          "output_type": "execute_result",
          "data": {
            "text/plain": [
              "some college          226\n",
              "associate's degree    222\n",
              "high school           196\n",
              "some high school      179\n",
              "bachelor's degree     118\n",
              "master's degree        59\n",
              "Name: parental_level_of_education, dtype: int64"
            ]
          },
          "metadata": {},
          "execution_count": 7
        }
      ]
    },
    {
      "cell_type": "markdown",
      "metadata": {
        "id": "DvHKbgK0qxfH"
      },
      "source": [
        "Creating an array with value of parental level of education and their amount of people in that dataset. "
      ]
    },
    {
      "cell_type": "code",
      "metadata": {
        "colab": {
          "base_uri": "https://localhost:8080/"
        },
        "id": "b6ll-LAXGXQ5",
        "outputId": "6d2f5e4a-86cf-448a-9b76-8e20ffd3d53b"
      },
      "source": [
        "list_parental_lvl = list(df.parental_level_of_education.value_counts().nlargest(6))\n",
        "weights = [3/6, 4/6, 2/6, 1/6, 5/6, 6/6]\n",
        "zipped = zip(weights, list_parental_lvl)\n",
        "edu_lvl_weighted = list(zipped)\n",
        "edu_lvl_weighted = sorted(edu_lvl_weighted, key = lambda t: t[0])\n",
        "edu_lvl_weighted"
      ],
      "execution_count": 8,
      "outputs": [
        {
          "output_type": "execute_result",
          "data": {
            "text/plain": [
              "[(0.16666666666666666, 179),\n",
              " (0.3333333333333333, 196),\n",
              " (0.5, 226),\n",
              " (0.6666666666666666, 222),\n",
              " (0.8333333333333334, 118),\n",
              " (1.0, 59)]"
            ]
          },
          "metadata": {},
          "execution_count": 8
        }
      ]
    },
    {
      "cell_type": "markdown",
      "metadata": {
        "id": "X5ACgvm3rRTe"
      },
      "source": [
        "### First visualization using plotly libraray. Interactive chart and increasing level of education makes this visualization outstanding. "
      ]
    },
    {
      "cell_type": "code",
      "metadata": {
        "colab": {
          "base_uri": "https://localhost:8080/",
          "height": 542
        },
        "id": "EELQD-dNPYFd",
        "outputId": "e460d3c8-b795-4abd-9d8a-126c7faf303b"
      },
      "source": [
        "lista1= []\n",
        "lista2= []\n",
        "lista_names = [\"some high school\",\"high school\", \"associate's degree\",\"some college\", \"bachelor's degree\",\"master's degree\"]\n",
        "for ele in edu_lvl_weighted:\n",
        "  lista1.append(ele[0])\n",
        "  lista2.append(ele[1])\n",
        "px.bar(x=lista_names, y=lista2, width = 700, title = \"Amount of students with increasing level of education of their parents.\")"
      ],
      "execution_count": 9,
      "outputs": [
        {
          "output_type": "display_data",
          "data": {
            "text/html": [
              "<html>\n",
              "<head><meta charset=\"utf-8\" /></head>\n",
              "<body>\n",
              "    <div>\n",
              "            <script src=\"https://cdnjs.cloudflare.com/ajax/libs/mathjax/2.7.5/MathJax.js?config=TeX-AMS-MML_SVG\"></script><script type=\"text/javascript\">if (window.MathJax) {MathJax.Hub.Config({SVG: {font: \"STIX-Web\"}});}</script>\n",
              "                <script type=\"text/javascript\">window.PlotlyConfig = {MathJaxConfig: 'local'};</script>\n",
              "        <script src=\"https://cdn.plot.ly/plotly-latest.min.js\"></script>    \n",
              "            <div id=\"b57c5c23-c759-4d1f-9386-128c244c00fc\" class=\"plotly-graph-div\" style=\"height:525px; width:700px;\"></div>\n",
              "            <script type=\"text/javascript\">\n",
              "                \n",
              "                    window.PLOTLYENV=window.PLOTLYENV || {};\n",
              "                    \n",
              "                if (document.getElementById(\"b57c5c23-c759-4d1f-9386-128c244c00fc\")) {\n",
              "                    Plotly.newPlot(\n",
              "                        'b57c5c23-c759-4d1f-9386-128c244c00fc',\n",
              "                        [{\"alignmentgroup\": \"True\", \"hoverlabel\": {\"namelength\": 0}, \"hovertemplate\": \"x=%{x}<br>y=%{y}\", \"legendgroup\": \"\", \"marker\": {\"color\": \"#636efa\"}, \"name\": \"\", \"offsetgroup\": \"\", \"orientation\": \"v\", \"showlegend\": false, \"textposition\": \"auto\", \"type\": \"bar\", \"x\": [\"some high school\", \"high school\", \"associate's degree\", \"some college\", \"bachelor's degree\", \"master's degree\"], \"xaxis\": \"x\", \"y\": [179, 196, 226, 222, 118, 59], \"yaxis\": \"y\"}],\n",
              "                        {\"barmode\": \"relative\", \"legend\": {\"tracegroupgap\": 0}, \"template\": {\"data\": {\"bar\": [{\"error_x\": {\"color\": \"#2a3f5f\"}, \"error_y\": {\"color\": \"#2a3f5f\"}, \"marker\": {\"line\": {\"color\": \"#E5ECF6\", \"width\": 0.5}}, \"type\": \"bar\"}], \"barpolar\": [{\"marker\": {\"line\": {\"color\": \"#E5ECF6\", \"width\": 0.5}}, \"type\": \"barpolar\"}], \"carpet\": [{\"aaxis\": {\"endlinecolor\": \"#2a3f5f\", \"gridcolor\": \"white\", \"linecolor\": \"white\", \"minorgridcolor\": \"white\", \"startlinecolor\": \"#2a3f5f\"}, \"baxis\": {\"endlinecolor\": \"#2a3f5f\", \"gridcolor\": \"white\", \"linecolor\": \"white\", \"minorgridcolor\": \"white\", \"startlinecolor\": \"#2a3f5f\"}, \"type\": \"carpet\"}], \"choropleth\": [{\"colorbar\": {\"outlinewidth\": 0, \"ticks\": \"\"}, \"type\": \"choropleth\"}], \"contour\": [{\"colorbar\": {\"outlinewidth\": 0, \"ticks\": \"\"}, \"colorscale\": [[0.0, \"#0d0887\"], [0.1111111111111111, \"#46039f\"], [0.2222222222222222, \"#7201a8\"], [0.3333333333333333, \"#9c179e\"], [0.4444444444444444, \"#bd3786\"], [0.5555555555555556, \"#d8576b\"], [0.6666666666666666, \"#ed7953\"], [0.7777777777777778, \"#fb9f3a\"], [0.8888888888888888, \"#fdca26\"], [1.0, \"#f0f921\"]], \"type\": \"contour\"}], \"contourcarpet\": [{\"colorbar\": {\"outlinewidth\": 0, \"ticks\": \"\"}, \"type\": \"contourcarpet\"}], \"heatmap\": [{\"colorbar\": {\"outlinewidth\": 0, \"ticks\": \"\"}, \"colorscale\": [[0.0, \"#0d0887\"], [0.1111111111111111, \"#46039f\"], [0.2222222222222222, \"#7201a8\"], [0.3333333333333333, \"#9c179e\"], [0.4444444444444444, \"#bd3786\"], [0.5555555555555556, \"#d8576b\"], [0.6666666666666666, \"#ed7953\"], [0.7777777777777778, \"#fb9f3a\"], [0.8888888888888888, \"#fdca26\"], [1.0, \"#f0f921\"]], \"type\": \"heatmap\"}], \"heatmapgl\": [{\"colorbar\": {\"outlinewidth\": 0, \"ticks\": \"\"}, \"colorscale\": [[0.0, \"#0d0887\"], [0.1111111111111111, \"#46039f\"], [0.2222222222222222, \"#7201a8\"], [0.3333333333333333, \"#9c179e\"], [0.4444444444444444, \"#bd3786\"], [0.5555555555555556, \"#d8576b\"], [0.6666666666666666, \"#ed7953\"], [0.7777777777777778, \"#fb9f3a\"], [0.8888888888888888, \"#fdca26\"], [1.0, \"#f0f921\"]], \"type\": \"heatmapgl\"}], \"histogram\": [{\"marker\": {\"colorbar\": {\"outlinewidth\": 0, \"ticks\": \"\"}}, \"type\": \"histogram\"}], \"histogram2d\": [{\"colorbar\": {\"outlinewidth\": 0, \"ticks\": \"\"}, \"colorscale\": [[0.0, \"#0d0887\"], [0.1111111111111111, \"#46039f\"], [0.2222222222222222, \"#7201a8\"], [0.3333333333333333, \"#9c179e\"], [0.4444444444444444, \"#bd3786\"], [0.5555555555555556, \"#d8576b\"], [0.6666666666666666, \"#ed7953\"], [0.7777777777777778, \"#fb9f3a\"], [0.8888888888888888, \"#fdca26\"], [1.0, \"#f0f921\"]], \"type\": \"histogram2d\"}], \"histogram2dcontour\": [{\"colorbar\": {\"outlinewidth\": 0, \"ticks\": \"\"}, \"colorscale\": [[0.0, \"#0d0887\"], [0.1111111111111111, \"#46039f\"], [0.2222222222222222, \"#7201a8\"], [0.3333333333333333, \"#9c179e\"], [0.4444444444444444, \"#bd3786\"], [0.5555555555555556, \"#d8576b\"], [0.6666666666666666, \"#ed7953\"], [0.7777777777777778, \"#fb9f3a\"], [0.8888888888888888, \"#fdca26\"], [1.0, \"#f0f921\"]], \"type\": \"histogram2dcontour\"}], \"mesh3d\": [{\"colorbar\": {\"outlinewidth\": 0, \"ticks\": \"\"}, \"type\": \"mesh3d\"}], \"parcoords\": [{\"line\": {\"colorbar\": {\"outlinewidth\": 0, \"ticks\": \"\"}}, \"type\": \"parcoords\"}], \"pie\": [{\"automargin\": true, \"type\": \"pie\"}], \"scatter\": [{\"marker\": {\"colorbar\": {\"outlinewidth\": 0, \"ticks\": \"\"}}, \"type\": \"scatter\"}], \"scatter3d\": [{\"line\": {\"colorbar\": {\"outlinewidth\": 0, \"ticks\": \"\"}}, \"marker\": {\"colorbar\": {\"outlinewidth\": 0, \"ticks\": \"\"}}, \"type\": \"scatter3d\"}], \"scattercarpet\": [{\"marker\": {\"colorbar\": {\"outlinewidth\": 0, \"ticks\": \"\"}}, \"type\": \"scattercarpet\"}], \"scattergeo\": [{\"marker\": {\"colorbar\": {\"outlinewidth\": 0, \"ticks\": \"\"}}, \"type\": \"scattergeo\"}], \"scattergl\": [{\"marker\": {\"colorbar\": {\"outlinewidth\": 0, \"ticks\": \"\"}}, \"type\": \"scattergl\"}], \"scattermapbox\": [{\"marker\": {\"colorbar\": {\"outlinewidth\": 0, \"ticks\": \"\"}}, \"type\": \"scattermapbox\"}], \"scatterpolar\": [{\"marker\": {\"colorbar\": {\"outlinewidth\": 0, \"ticks\": \"\"}}, \"type\": \"scatterpolar\"}], \"scatterpolargl\": [{\"marker\": {\"colorbar\": {\"outlinewidth\": 0, \"ticks\": \"\"}}, \"type\": \"scatterpolargl\"}], \"scatterternary\": [{\"marker\": {\"colorbar\": {\"outlinewidth\": 0, \"ticks\": \"\"}}, \"type\": \"scatterternary\"}], \"surface\": [{\"colorbar\": {\"outlinewidth\": 0, \"ticks\": \"\"}, \"colorscale\": [[0.0, \"#0d0887\"], [0.1111111111111111, \"#46039f\"], [0.2222222222222222, \"#7201a8\"], [0.3333333333333333, \"#9c179e\"], [0.4444444444444444, \"#bd3786\"], [0.5555555555555556, \"#d8576b\"], [0.6666666666666666, \"#ed7953\"], [0.7777777777777778, \"#fb9f3a\"], [0.8888888888888888, \"#fdca26\"], [1.0, \"#f0f921\"]], \"type\": \"surface\"}], \"table\": [{\"cells\": {\"fill\": {\"color\": \"#EBF0F8\"}, \"line\": {\"color\": \"white\"}}, \"header\": {\"fill\": {\"color\": \"#C8D4E3\"}, \"line\": {\"color\": \"white\"}}, \"type\": \"table\"}]}, \"layout\": {\"annotationdefaults\": {\"arrowcolor\": \"#2a3f5f\", \"arrowhead\": 0, \"arrowwidth\": 1}, \"coloraxis\": {\"colorbar\": {\"outlinewidth\": 0, \"ticks\": \"\"}}, \"colorscale\": {\"diverging\": [[0, \"#8e0152\"], [0.1, \"#c51b7d\"], [0.2, \"#de77ae\"], [0.3, \"#f1b6da\"], [0.4, \"#fde0ef\"], [0.5, \"#f7f7f7\"], [0.6, \"#e6f5d0\"], [0.7, \"#b8e186\"], [0.8, \"#7fbc41\"], [0.9, \"#4d9221\"], [1, \"#276419\"]], \"sequential\": [[0.0, \"#0d0887\"], [0.1111111111111111, \"#46039f\"], [0.2222222222222222, \"#7201a8\"], [0.3333333333333333, \"#9c179e\"], [0.4444444444444444, \"#bd3786\"], [0.5555555555555556, \"#d8576b\"], [0.6666666666666666, \"#ed7953\"], [0.7777777777777778, \"#fb9f3a\"], [0.8888888888888888, \"#fdca26\"], [1.0, \"#f0f921\"]], \"sequentialminus\": [[0.0, \"#0d0887\"], [0.1111111111111111, \"#46039f\"], [0.2222222222222222, \"#7201a8\"], [0.3333333333333333, \"#9c179e\"], [0.4444444444444444, \"#bd3786\"], [0.5555555555555556, \"#d8576b\"], [0.6666666666666666, \"#ed7953\"], [0.7777777777777778, \"#fb9f3a\"], [0.8888888888888888, \"#fdca26\"], [1.0, \"#f0f921\"]]}, \"colorway\": [\"#636efa\", \"#EF553B\", \"#00cc96\", \"#ab63fa\", \"#FFA15A\", \"#19d3f3\", \"#FF6692\", \"#B6E880\", \"#FF97FF\", \"#FECB52\"], \"font\": {\"color\": \"#2a3f5f\"}, \"geo\": {\"bgcolor\": \"white\", \"lakecolor\": \"white\", \"landcolor\": \"#E5ECF6\", \"showlakes\": true, \"showland\": true, \"subunitcolor\": \"white\"}, \"hoverlabel\": {\"align\": \"left\"}, \"hovermode\": \"closest\", \"mapbox\": {\"style\": \"light\"}, \"paper_bgcolor\": \"white\", \"plot_bgcolor\": \"#E5ECF6\", \"polar\": {\"angularaxis\": {\"gridcolor\": \"white\", \"linecolor\": \"white\", \"ticks\": \"\"}, \"bgcolor\": \"#E5ECF6\", \"radialaxis\": {\"gridcolor\": \"white\", \"linecolor\": \"white\", \"ticks\": \"\"}}, \"scene\": {\"xaxis\": {\"backgroundcolor\": \"#E5ECF6\", \"gridcolor\": \"white\", \"gridwidth\": 2, \"linecolor\": \"white\", \"showbackground\": true, \"ticks\": \"\", \"zerolinecolor\": \"white\"}, \"yaxis\": {\"backgroundcolor\": \"#E5ECF6\", \"gridcolor\": \"white\", \"gridwidth\": 2, \"linecolor\": \"white\", \"showbackground\": true, \"ticks\": \"\", \"zerolinecolor\": \"white\"}, \"zaxis\": {\"backgroundcolor\": \"#E5ECF6\", \"gridcolor\": \"white\", \"gridwidth\": 2, \"linecolor\": \"white\", \"showbackground\": true, \"ticks\": \"\", \"zerolinecolor\": \"white\"}}, \"shapedefaults\": {\"line\": {\"color\": \"#2a3f5f\"}}, \"ternary\": {\"aaxis\": {\"gridcolor\": \"white\", \"linecolor\": \"white\", \"ticks\": \"\"}, \"baxis\": {\"gridcolor\": \"white\", \"linecolor\": \"white\", \"ticks\": \"\"}, \"bgcolor\": \"#E5ECF6\", \"caxis\": {\"gridcolor\": \"white\", \"linecolor\": \"white\", \"ticks\": \"\"}}, \"title\": {\"x\": 0.05}, \"xaxis\": {\"automargin\": true, \"gridcolor\": \"white\", \"linecolor\": \"white\", \"ticks\": \"\", \"title\": {\"standoff\": 15}, \"zerolinecolor\": \"white\", \"zerolinewidth\": 2}, \"yaxis\": {\"automargin\": true, \"gridcolor\": \"white\", \"linecolor\": \"white\", \"ticks\": \"\", \"title\": {\"standoff\": 15}, \"zerolinecolor\": \"white\", \"zerolinewidth\": 2}}}, \"title\": {\"text\": \"Amount of students with increasing level of education of their parents.\"}, \"width\": 700, \"xaxis\": {\"anchor\": \"y\", \"domain\": [0.0, 1.0], \"title\": {\"text\": \"x\"}}, \"yaxis\": {\"anchor\": \"x\", \"domain\": [0.0, 1.0], \"title\": {\"text\": \"y\"}}},\n",
              "                        {\"responsive\": true}\n",
              "                    ).then(function(){\n",
              "                            \n",
              "var gd = document.getElementById('b57c5c23-c759-4d1f-9386-128c244c00fc');\n",
              "var x = new MutationObserver(function (mutations, observer) {{\n",
              "        var display = window.getComputedStyle(gd).display;\n",
              "        if (!display || display === 'none') {{\n",
              "            console.log([gd, 'removed!']);\n",
              "            Plotly.purge(gd);\n",
              "            observer.disconnect();\n",
              "        }}\n",
              "}});\n",
              "\n",
              "// Listen for the removal of the full notebook cells\n",
              "var notebookContainer = gd.closest('#notebook-container');\n",
              "if (notebookContainer) {{\n",
              "    x.observe(notebookContainer, {childList: true});\n",
              "}}\n",
              "\n",
              "// Listen for the clearing of the current output cell\n",
              "var outputEl = gd.closest('.output');\n",
              "if (outputEl) {{\n",
              "    x.observe(outputEl, {childList: true});\n",
              "}}\n",
              "\n",
              "                        })\n",
              "                };\n",
              "                \n",
              "            </script>\n",
              "        </div>\n",
              "</body>\n",
              "</html>"
            ]
          },
          "metadata": {}
        }
      ]
    },
    {
      "cell_type": "markdown",
      "metadata": {
        "id": "8laZjxTqsHkh"
      },
      "source": [
        "### Second visualization using grouped values with matplotlib library. On chart above it's possible to see the relation between amount of luches in same level of parent's education. This chart is not sorted by level of education. "
      ]
    },
    {
      "cell_type": "code",
      "metadata": {
        "colab": {
          "base_uri": "https://localhost:8080/",
          "height": 450
        },
        "id": "eTRhAqsffIi6",
        "outputId": "0ab179bf-37a6-44cd-8cda-631bc50f5405"
      },
      "source": [
        "df2 = df.value_counts().to_frame().sort_index(ascending=True)\n",
        "df2"
      ],
      "execution_count": null,
      "outputs": [
        {
          "output_type": "execute_result",
          "data": {
            "text/html": [
              "<div>\n",
              "<style scoped>\n",
              "    .dataframe tbody tr th:only-of-type {\n",
              "        vertical-align: middle;\n",
              "    }\n",
              "\n",
              "    .dataframe tbody tr th {\n",
              "        vertical-align: top;\n",
              "    }\n",
              "\n",
              "    .dataframe thead th {\n",
              "        text-align: right;\n",
              "    }\n",
              "</style>\n",
              "<table border=\"1\" class=\"dataframe\">\n",
              "  <thead>\n",
              "    <tr style=\"text-align: right;\">\n",
              "      <th></th>\n",
              "      <th></th>\n",
              "      <th>0</th>\n",
              "    </tr>\n",
              "    <tr>\n",
              "      <th>lunch</th>\n",
              "      <th>parental_level_of_education</th>\n",
              "      <th></th>\n",
              "    </tr>\n",
              "  </thead>\n",
              "  <tbody>\n",
              "    <tr>\n",
              "      <th rowspan=\"6\" valign=\"top\">free/reduced</th>\n",
              "      <th>associate's degree</th>\n",
              "      <td>77</td>\n",
              "    </tr>\n",
              "    <tr>\n",
              "      <th>bachelor's degree</th>\n",
              "      <td>44</td>\n",
              "    </tr>\n",
              "    <tr>\n",
              "      <th>high school</th>\n",
              "      <td>70</td>\n",
              "    </tr>\n",
              "    <tr>\n",
              "      <th>master's degree</th>\n",
              "      <td>24</td>\n",
              "    </tr>\n",
              "    <tr>\n",
              "      <th>some college</th>\n",
              "      <td>79</td>\n",
              "    </tr>\n",
              "    <tr>\n",
              "      <th>some high school</th>\n",
              "      <td>61</td>\n",
              "    </tr>\n",
              "    <tr>\n",
              "      <th rowspan=\"6\" valign=\"top\">standard</th>\n",
              "      <th>associate's degree</th>\n",
              "      <td>145</td>\n",
              "    </tr>\n",
              "    <tr>\n",
              "      <th>bachelor's degree</th>\n",
              "      <td>74</td>\n",
              "    </tr>\n",
              "    <tr>\n",
              "      <th>high school</th>\n",
              "      <td>126</td>\n",
              "    </tr>\n",
              "    <tr>\n",
              "      <th>master's degree</th>\n",
              "      <td>35</td>\n",
              "    </tr>\n",
              "    <tr>\n",
              "      <th>some college</th>\n",
              "      <td>147</td>\n",
              "    </tr>\n",
              "    <tr>\n",
              "      <th>some high school</th>\n",
              "      <td>118</td>\n",
              "    </tr>\n",
              "  </tbody>\n",
              "</table>\n",
              "</div>"
            ],
            "text/plain": [
              "                                            0\n",
              "lunch        parental_level_of_education     \n",
              "free/reduced associate's degree            77\n",
              "             bachelor's degree             44\n",
              "             high school                   70\n",
              "             master's degree               24\n",
              "             some college                  79\n",
              "             some high school              61\n",
              "standard     associate's degree           145\n",
              "             bachelor's degree             74\n",
              "             high school                  126\n",
              "             master's degree               35\n",
              "             some college                 147\n",
              "             some high school             118"
            ]
          },
          "metadata": {},
          "execution_count": 10
        }
      ]
    },
    {
      "cell_type": "code",
      "metadata": {
        "colab": {
          "base_uri": "https://localhost:8080/",
          "height": 381
        },
        "id": "sCP__K71BODl",
        "outputId": "98ad26fa-191d-44be-bdbe-bdaafcd03d63"
      },
      "source": [
        "df2.unstack(level=0).plot(kind='bar', subplots=False)"
      ],
      "execution_count": null,
      "outputs": [
        {
          "output_type": "execute_result",
          "data": {
            "text/plain": [
              "<matplotlib.axes._subplots.AxesSubplot at 0x7f3b1610e650>"
            ]
          },
          "metadata": {},
          "execution_count": 11
        },
        {
          "output_type": "display_data",
          "data": {
            "image/png": "[encoded data removed]",
            "text/plain": [
              "<Figure size 432x288 with 1 Axes>"
            ]
          },
          "metadata": {
            "needs_background": "light"
          }
        }
      ]
    },
    {
      "cell_type": "markdown",
      "metadata": {
        "id": "SeFdZvj0tXOn"
      },
      "source": [
        "### Third chart about case on level of education of parents and their childrens type of lunch. On the chart the precantage relation is shown. Matplotlib is used in this case. "
      ]
    },
    {
      "cell_type": "code",
      "metadata": {
        "colab": {
          "base_uri": "https://localhost:8080/",
          "height": 451
        },
        "id": "ekMNxHUuuzWo",
        "outputId": "05ab65a9-12c3-47b5-92e7-ca9cf0a12f1a"
      },
      "source": [
        "df3 = df.groupby('parental_level_of_education')['lunch'].value_counts().to_frame()\n",
        "df3"
      ],
      "execution_count": 10,
      "outputs": [
        {
          "output_type": "execute_result",
          "data": {
            "text/html": [
              "<div>\n",
              "<style scoped>\n",
              "    .dataframe tbody tr th:only-of-type {\n",
              "        vertical-align: middle;\n",
              "    }\n",
              "\n",
              "    .dataframe tbody tr th {\n",
              "        vertical-align: top;\n",
              "    }\n",
              "\n",
              "    .dataframe thead th {\n",
              "        text-align: right;\n",
              "    }\n",
              "</style>\n",
              "<table border=\"1\" class=\"dataframe\">\n",
              "  <thead>\n",
              "    <tr style=\"text-align: right;\">\n",
              "      <th></th>\n",
              "      <th></th>\n",
              "      <th>lunch</th>\n",
              "    </tr>\n",
              "    <tr>\n",
              "      <th>parental_level_of_education</th>\n",
              "      <th>lunch</th>\n",
              "      <th></th>\n",
              "    </tr>\n",
              "  </thead>\n",
              "  <tbody>\n",
              "    <tr>\n",
              "      <th rowspan=\"2\" valign=\"top\">associate's degree</th>\n",
              "      <th>standard</th>\n",
              "      <td>145</td>\n",
              "    </tr>\n",
              "    <tr>\n",
              "      <th>free/reduced</th>\n",
              "      <td>77</td>\n",
              "    </tr>\n",
              "    <tr>\n",
              "      <th rowspan=\"2\" valign=\"top\">bachelor's degree</th>\n",
              "      <th>standard</th>\n",
              "      <td>74</td>\n",
              "    </tr>\n",
              "    <tr>\n",
              "      <th>free/reduced</th>\n",
              "      <td>44</td>\n",
              "    </tr>\n",
              "    <tr>\n",
              "      <th rowspan=\"2\" valign=\"top\">high school</th>\n",
              "      <th>standard</th>\n",
              "      <td>126</td>\n",
              "    </tr>\n",
              "    <tr>\n",
              "      <th>free/reduced</th>\n",
              "      <td>70</td>\n",
              "    </tr>\n",
              "    <tr>\n",
              "      <th rowspan=\"2\" valign=\"top\">master's degree</th>\n",
              "      <th>standard</th>\n",
              "      <td>35</td>\n",
              "    </tr>\n",
              "    <tr>\n",
              "      <th>free/reduced</th>\n",
              "      <td>24</td>\n",
              "    </tr>\n",
              "    <tr>\n",
              "      <th rowspan=\"2\" valign=\"top\">some college</th>\n",
              "      <th>standard</th>\n",
              "      <td>147</td>\n",
              "    </tr>\n",
              "    <tr>\n",
              "      <th>free/reduced</th>\n",
              "      <td>79</td>\n",
              "    </tr>\n",
              "    <tr>\n",
              "      <th rowspan=\"2\" valign=\"top\">some high school</th>\n",
              "      <th>standard</th>\n",
              "      <td>118</td>\n",
              "    </tr>\n",
              "    <tr>\n",
              "      <th>free/reduced</th>\n",
              "      <td>61</td>\n",
              "    </tr>\n",
              "  </tbody>\n",
              "</table>\n",
              "</div>"
            ],
            "text/plain": [
              "                                          lunch\n",
              "parental_level_of_education lunch              \n",
              "associate's degree          standard        145\n",
              "                            free/reduced     77\n",
              "bachelor's degree           standard         74\n",
              "                            free/reduced     44\n",
              "high school                 standard        126\n",
              "                            free/reduced     70\n",
              "master's degree             standard         35\n",
              "                            free/reduced     24\n",
              "some college                standard        147\n",
              "                            free/reduced     79\n",
              "some high school            standard        118\n",
              "                            free/reduced     61"
            ]
          },
          "metadata": {},
          "execution_count": 10
        }
      ]
    },
    {
      "cell_type": "markdown",
      "metadata": {
        "id": "2FodoNPDuMuQ"
      },
      "source": [
        "Exemplary precentage ratio was calculated."
      ]
    },
    {
      "cell_type": "code",
      "metadata": {
        "colab": {
          "base_uri": "https://localhost:8080/"
        },
        "id": "2L3GFJ0Hv6lb",
        "outputId": "e88bab0b-be13-4431-dcea-4eef007f8f1a"
      },
      "source": [
        "round(df3['lunch'][\"associate's degree\"]['standard']/sum(df3['lunch'][\"associate's degree\"]), 3)"
      ],
      "execution_count": 11,
      "outputs": [
        {
          "output_type": "execute_result",
          "data": {
            "text/plain": [
              "0.653"
            ]
          },
          "metadata": {},
          "execution_count": 11
        }
      ]
    },
    {
      "cell_type": "code",
      "metadata": {
        "colab": {
          "base_uri": "https://localhost:8080/",
          "height": 398
        },
        "id": "f9vrQAPq37vX",
        "outputId": "782650a2-669b-440e-b687-11015eb720a6"
      },
      "source": [
        "df4 = df3.groupby(level='parental_level_of_education')['lunch'].apply(lambda y: y / y.sum()).to_frame()\n",
        "df4.unstack(level=1).plot(kind='bar', subplots=False, title = \"Precentage diversion of student's breakfasts with the level of eduaction of their parents shown.\", stacked=True)"
      ],
      "execution_count": 12,
      "outputs": [
        {
          "output_type": "execute_result",
          "data": {
            "text/plain": [
              "<matplotlib.axes._subplots.AxesSubplot at 0x7f0fd49c5cd0>"
            ]
          },
          "metadata": {},
          "execution_count": 12
        },
        {
          "output_type": "display_data",
          "data": {
            "image/png": "[encoded data removed]",
            "text/plain": [
              "<Figure size 432x288 with 1 Axes>"
            ]
          },
          "metadata": {
            "needs_background": "light"
          }
        }
      ]
    },
    {
      "cell_type": "markdown",
      "metadata": {
        "id": "aW619fAz1Yf1"
      },
      "source": [
        " The goal of this project was to find not obviously interesting case in this dataset. Correlation between parents's level of education and their child's breakfast should be related to financial aspect of family, which seemed interesting."
      ]
    },
    {
      "cell_type": "markdown",
      "metadata": {
        "id": "6hrB0a67O9JB"
      },
      "source": [
        "## Correlation between variables"
      ]
    },
    {
      "cell_type": "markdown",
      "metadata": {
        "id": "4bQXf1gNQoyU"
      },
      "source": [
        "### Data Preprocessing "
      ]
    },
    {
      "cell_type": "markdown",
      "metadata": {
        "id": "n_DCZSxmRfaX"
      },
      "source": [
        "Creating copy of raw dataset. Checking if there is any duplicated arrays."
      ]
    },
    {
      "cell_type": "code",
      "metadata": {
        "colab": {
          "base_uri": "https://localhost:8080/",
          "height": 49
        },
        "id": "hbrzfd4pQnlJ",
        "outputId": "554a826b-c0ec-4b0c-b20a-c3f72d90e3ff"
      },
      "source": [
        "dff = StudentsPerformance.copy()\n",
        "dff[dff.duplicated()]"
      ],
      "execution_count": 16,
      "outputs": [
        {
          "output_type": "execute_result",
          "data": {
            "text/html": [
              "<div>\n",
              "<style scoped>\n",
              "    .dataframe tbody tr th:only-of-type {\n",
              "        vertical-align: middle;\n",
              "    }\n",
              "\n",
              "    .dataframe tbody tr th {\n",
              "        vertical-align: top;\n",
              "    }\n",
              "\n",
              "    .dataframe thead th {\n",
              "        text-align: right;\n",
              "    }\n",
              "</style>\n",
              "<table border=\"1\" class=\"dataframe\">\n",
              "  <thead>\n",
              "    <tr style=\"text-align: right;\">\n",
              "      <th></th>\n",
              "      <th>gender</th>\n",
              "      <th>race/ethnicity</th>\n",
              "      <th>parental_level_of_education</th>\n",
              "      <th>lunch</th>\n",
              "      <th>test_preparation_course</th>\n",
              "      <th>math_score</th>\n",
              "      <th>reading_score</th>\n",
              "      <th>writing_score</th>\n",
              "    </tr>\n",
              "  </thead>\n",
              "  <tbody>\n",
              "  </tbody>\n",
              "</table>\n",
              "</div>"
            ],
            "text/plain": [
              "Empty DataFrame\n",
              "Columns: [gender, race/ethnicity, parental_level_of_education, lunch, test_preparation_course, math_score, reading_score, writing_score]\n",
              "Index: []"
            ]
          },
          "metadata": {},
          "execution_count": 16
        }
      ]
    },
    {
      "cell_type": "markdown",
      "metadata": {
        "id": "TDMn1MtWRxzC"
      },
      "source": [
        "Creating list of category columns made of object values."
      ]
    },
    {
      "cell_type": "code",
      "metadata": {
        "colab": {
          "base_uri": "https://localhost:8080/"
        },
        "id": "GTGzzSnuQ-3X",
        "outputId": "20b59575-3d2e-4949-8f2e-aa7fc0d17a74"
      },
      "source": [
        "category_columns = [column for column in df.columns if df[column].dtype == 'O']\n",
        "category_columns"
      ],
      "execution_count": 17,
      "outputs": [
        {
          "output_type": "execute_result",
          "data": {
            "text/plain": [
              "['gender',\n",
              " 'race/ethnicity',\n",
              " 'parental_level_of_education',\n",
              " 'lunch',\n",
              " 'test_preparation_course']"
            ]
          },
          "metadata": {},
          "execution_count": 17
        }
      ]
    },
    {
      "cell_type": "markdown",
      "metadata": {
        "id": "tD9mJpzeSB1s"
      },
      "source": [
        "\n",
        "Changing type of those columns to category."
      ]
    },
    {
      "cell_type": "code",
      "metadata": {
        "colab": {
          "base_uri": "https://localhost:8080/"
        },
        "id": "FVSYnnngSBZN",
        "outputId": "f7c62bad-7ebf-44b6-d30d-2902ef9b83cd"
      },
      "source": [
        "for column in category_columns:\n",
        "  dff[column] = dff[column].astype('category')\n",
        "dff.info()"
      ],
      "execution_count": 18,
      "outputs": [
        {
          "output_type": "stream",
          "name": "stdout",
          "text": [
            "<class 'pandas.core.frame.DataFrame'>\n",
            "RangeIndex: 1000 entries, 0 to 999\n",
            "Data columns (total 8 columns):\n",
            " #   Column                       Non-Null Count  Dtype   \n",
            "---  ------                       --------------  -----   \n",
            " 0   gender                       1000 non-null   category\n",
            " 1   race/ethnicity               1000 non-null   category\n",
            " 2   parental_level_of_education  1000 non-null   category\n",
            " 3   lunch                        1000 non-null   category\n",
            " 4   test_preparation_course      1000 non-null   category\n",
            " 5   math_score                   1000 non-null   int64   \n",
            " 6   reading_score                1000 non-null   int64   \n",
            " 7   writing_score                1000 non-null   int64   \n",
            "dtypes: category(5), int64(3)\n",
            "memory usage: 29.1 KB\n"
          ]
        }
      ]
    },
    {
      "cell_type": "code",
      "metadata": {
        "colab": {
          "base_uri": "https://localhost:8080/",
          "height": 141
        },
        "id": "peTj5LuSSYKH",
        "outputId": "18a6931a-4fc0-46a6-b74b-8c73e9291f7d"
      },
      "source": [
        "dff.describe().T"
      ],
      "execution_count": 19,
      "outputs": [
        {
          "output_type": "execute_result",
          "data": {
            "text/html": [
              "<div>\n",
              "<style scoped>\n",
              "    .dataframe tbody tr th:only-of-type {\n",
              "        vertical-align: middle;\n",
              "    }\n",
              "\n",
              "    .dataframe tbody tr th {\n",
              "        vertical-align: top;\n",
              "    }\n",
              "\n",
              "    .dataframe thead th {\n",
              "        text-align: right;\n",
              "    }\n",
              "</style>\n",
              "<table border=\"1\" class=\"dataframe\">\n",
              "  <thead>\n",
              "    <tr style=\"text-align: right;\">\n",
              "      <th></th>\n",
              "      <th>count</th>\n",
              "      <th>mean</th>\n",
              "      <th>std</th>\n",
              "      <th>min</th>\n",
              "      <th>25%</th>\n",
              "      <th>50%</th>\n",
              "      <th>75%</th>\n",
              "      <th>max</th>\n",
              "    </tr>\n",
              "  </thead>\n",
              "  <tbody>\n",
              "    <tr>\n",
              "      <th>math_score</th>\n",
              "      <td>1000.0</td>\n",
              "      <td>66.089</td>\n",
              "      <td>15.163080</td>\n",
              "      <td>0.0</td>\n",
              "      <td>57.00</td>\n",
              "      <td>66.0</td>\n",
              "      <td>77.0</td>\n",
              "      <td>100.0</td>\n",
              "    </tr>\n",
              "    <tr>\n",
              "      <th>reading_score</th>\n",
              "      <td>1000.0</td>\n",
              "      <td>69.169</td>\n",
              "      <td>14.600192</td>\n",
              "      <td>17.0</td>\n",
              "      <td>59.00</td>\n",
              "      <td>70.0</td>\n",
              "      <td>79.0</td>\n",
              "      <td>100.0</td>\n",
              "    </tr>\n",
              "    <tr>\n",
              "      <th>writing_score</th>\n",
              "      <td>1000.0</td>\n",
              "      <td>68.054</td>\n",
              "      <td>15.195657</td>\n",
              "      <td>10.0</td>\n",
              "      <td>57.75</td>\n",
              "      <td>69.0</td>\n",
              "      <td>79.0</td>\n",
              "      <td>100.0</td>\n",
              "    </tr>\n",
              "  </tbody>\n",
              "</table>\n",
              "</div>"
            ],
            "text/plain": [
              "                count    mean        std   min    25%   50%   75%    max\n",
              "math_score     1000.0  66.089  15.163080   0.0  57.00  66.0  77.0  100.0\n",
              "reading_score  1000.0  69.169  14.600192  17.0  59.00  70.0  79.0  100.0\n",
              "writing_score  1000.0  68.054  15.195657  10.0  57.75  69.0  79.0  100.0"
            ]
          },
          "metadata": {},
          "execution_count": 19
        }
      ]
    },
    {
      "cell_type": "code",
      "metadata": {
        "colab": {
          "base_uri": "https://localhost:8080/",
          "height": 204
        },
        "id": "yqsIBquaSi9t",
        "outputId": "1099f66e-9941-4fc9-c5b2-af7b3653efa5"
      },
      "source": [
        "dff.describe(include=['category']).T"
      ],
      "execution_count": 20,
      "outputs": [
        {
          "output_type": "execute_result",
          "data": {
            "text/html": [
              "<div>\n",
              "<style scoped>\n",
              "    .dataframe tbody tr th:only-of-type {\n",
              "        vertical-align: middle;\n",
              "    }\n",
              "\n",
              "    .dataframe tbody tr th {\n",
              "        vertical-align: top;\n",
              "    }\n",
              "\n",
              "    .dataframe thead th {\n",
              "        text-align: right;\n",
              "    }\n",
              "</style>\n",
              "<table border=\"1\" class=\"dataframe\">\n",
              "  <thead>\n",
              "    <tr style=\"text-align: right;\">\n",
              "      <th></th>\n",
              "      <th>count</th>\n",
              "      <th>unique</th>\n",
              "      <th>top</th>\n",
              "      <th>freq</th>\n",
              "    </tr>\n",
              "  </thead>\n",
              "  <tbody>\n",
              "    <tr>\n",
              "      <th>gender</th>\n",
              "      <td>1000</td>\n",
              "      <td>2</td>\n",
              "      <td>female</td>\n",
              "      <td>518</td>\n",
              "    </tr>\n",
              "    <tr>\n",
              "      <th>race/ethnicity</th>\n",
              "      <td>1000</td>\n",
              "      <td>5</td>\n",
              "      <td>group C</td>\n",
              "      <td>319</td>\n",
              "    </tr>\n",
              "    <tr>\n",
              "      <th>parental_level_of_education</th>\n",
              "      <td>1000</td>\n",
              "      <td>6</td>\n",
              "      <td>some college</td>\n",
              "      <td>226</td>\n",
              "    </tr>\n",
              "    <tr>\n",
              "      <th>lunch</th>\n",
              "      <td>1000</td>\n",
              "      <td>2</td>\n",
              "      <td>standard</td>\n",
              "      <td>645</td>\n",
              "    </tr>\n",
              "    <tr>\n",
              "      <th>test_preparation_course</th>\n",
              "      <td>1000</td>\n",
              "      <td>2</td>\n",
              "      <td>none</td>\n",
              "      <td>642</td>\n",
              "    </tr>\n",
              "  </tbody>\n",
              "</table>\n",
              "</div>"
            ],
            "text/plain": [
              "                            count unique           top freq\n",
              "gender                       1000      2        female  518\n",
              "race/ethnicity               1000      5       group C  319\n",
              "parental_level_of_education  1000      6  some college  226\n",
              "lunch                        1000      2      standard  645\n",
              "test_preparation_course      1000      2          none  642"
            ]
          },
          "metadata": {},
          "execution_count": 20
        }
      ]
    },
    {
      "cell_type": "markdown",
      "metadata": {
        "id": "useGvdd-wcSe"
      },
      "source": [
        "Creating new column with contains sum of exams score which will be the target column."
      ]
    },
    {
      "cell_type": "code",
      "metadata": {
        "id": "q9Xd_YNxySHu"
      },
      "source": [
        "dff['score'] = dff['math_score'] + dff['reading_score'] + dff['writing_score']\n"
      ],
      "execution_count": null,
      "outputs": []
    },
    {
      "cell_type": "markdown",
      "metadata": {
        "id": "NHbVS0FjyXxQ"
      },
      "source": [
        "Deleting unused columns."
      ]
    },
    {
      "cell_type": "code",
      "metadata": {
        "colab": {
          "base_uri": "https://localhost:8080/",
          "height": 418
        },
        "id": "IFrcxm2fwbfH",
        "outputId": "f16d8d9c-0557-4cfc-fe6c-dee4b027b65c"
      },
      "source": [
        "dff = dff.drop('math_score', axis=1)\n",
        "dff = dff.drop('reading_score', axis=1)\n",
        "dff = dff.drop('writing_score', axis=1)"
      ],
      "execution_count": 36,
      "outputs": [
        {
          "output_type": "execute_result",
          "data": {
            "text/html": [
              "<div>\n",
              "<style scoped>\n",
              "    .dataframe tbody tr th:only-of-type {\n",
              "        vertical-align: middle;\n",
              "    }\n",
              "\n",
              "    .dataframe tbody tr th {\n",
              "        vertical-align: top;\n",
              "    }\n",
              "\n",
              "    .dataframe thead th {\n",
              "        text-align: right;\n",
              "    }\n",
              "</style>\n",
              "<table border=\"1\" class=\"dataframe\">\n",
              "  <thead>\n",
              "    <tr style=\"text-align: right;\">\n",
              "      <th></th>\n",
              "      <th>gender</th>\n",
              "      <th>race/ethnicity</th>\n",
              "      <th>parental_level_of_education</th>\n",
              "      <th>lunch</th>\n",
              "      <th>test_preparation_course</th>\n",
              "      <th>score</th>\n",
              "    </tr>\n",
              "  </thead>\n",
              "  <tbody>\n",
              "    <tr>\n",
              "      <th>1</th>\n",
              "      <td>female</td>\n",
              "      <td>group C</td>\n",
              "      <td>some college</td>\n",
              "      <td>standard</td>\n",
              "      <td>completed</td>\n",
              "      <td>247</td>\n",
              "    </tr>\n",
              "    <tr>\n",
              "      <th>2</th>\n",
              "      <td>female</td>\n",
              "      <td>group B</td>\n",
              "      <td>master's degree</td>\n",
              "      <td>standard</td>\n",
              "      <td>none</td>\n",
              "      <td>278</td>\n",
              "    </tr>\n",
              "    <tr>\n",
              "      <th>3</th>\n",
              "      <td>male</td>\n",
              "      <td>group A</td>\n",
              "      <td>associate's degree</td>\n",
              "      <td>free/reduced</td>\n",
              "      <td>none</td>\n",
              "      <td>148</td>\n",
              "    </tr>\n",
              "    <tr>\n",
              "      <th>4</th>\n",
              "      <td>male</td>\n",
              "      <td>group C</td>\n",
              "      <td>some college</td>\n",
              "      <td>standard</td>\n",
              "      <td>none</td>\n",
              "      <td>229</td>\n",
              "    </tr>\n",
              "    <tr>\n",
              "      <th>5</th>\n",
              "      <td>female</td>\n",
              "      <td>group B</td>\n",
              "      <td>associate's degree</td>\n",
              "      <td>standard</td>\n",
              "      <td>none</td>\n",
              "      <td>232</td>\n",
              "    </tr>\n",
              "    <tr>\n",
              "      <th>...</th>\n",
              "      <td>...</td>\n",
              "      <td>...</td>\n",
              "      <td>...</td>\n",
              "      <td>...</td>\n",
              "      <td>...</td>\n",
              "      <td>...</td>\n",
              "    </tr>\n",
              "    <tr>\n",
              "      <th>995</th>\n",
              "      <td>female</td>\n",
              "      <td>group E</td>\n",
              "      <td>master's degree</td>\n",
              "      <td>standard</td>\n",
              "      <td>completed</td>\n",
              "      <td>282</td>\n",
              "    </tr>\n",
              "    <tr>\n",
              "      <th>996</th>\n",
              "      <td>male</td>\n",
              "      <td>group C</td>\n",
              "      <td>high school</td>\n",
              "      <td>free/reduced</td>\n",
              "      <td>none</td>\n",
              "      <td>172</td>\n",
              "    </tr>\n",
              "    <tr>\n",
              "      <th>997</th>\n",
              "      <td>female</td>\n",
              "      <td>group C</td>\n",
              "      <td>high school</td>\n",
              "      <td>free/reduced</td>\n",
              "      <td>completed</td>\n",
              "      <td>195</td>\n",
              "    </tr>\n",
              "    <tr>\n",
              "      <th>998</th>\n",
              "      <td>female</td>\n",
              "      <td>group D</td>\n",
              "      <td>some college</td>\n",
              "      <td>standard</td>\n",
              "      <td>completed</td>\n",
              "      <td>223</td>\n",
              "    </tr>\n",
              "    <tr>\n",
              "      <th>999</th>\n",
              "      <td>female</td>\n",
              "      <td>group D</td>\n",
              "      <td>some college</td>\n",
              "      <td>free/reduced</td>\n",
              "      <td>none</td>\n",
              "      <td>249</td>\n",
              "    </tr>\n",
              "  </tbody>\n",
              "</table>\n",
              "<p>919 rows × 6 columns</p>\n",
              "</div>"
            ],
            "text/plain": [
              "     gender race/ethnicity  ... test_preparation_course score\n",
              "1    female        group C  ...               completed   247\n",
              "2    female        group B  ...                    none   278\n",
              "3      male        group A  ...                    none   148\n",
              "4      male        group C  ...                    none   229\n",
              "5    female        group B  ...                    none   232\n",
              "..      ...            ...  ...                     ...   ...\n",
              "995  female        group E  ...               completed   282\n",
              "996    male        group C  ...                    none   172\n",
              "997  female        group C  ...               completed   195\n",
              "998  female        group D  ...               completed   223\n",
              "999  female        group D  ...                    none   249\n",
              "\n",
              "[919 rows x 6 columns]"
            ]
          },
          "metadata": {},
          "execution_count": 36
        }
      ]
    },
    {
      "cell_type": "code",
      "metadata": {
        "colab": {
          "base_uri": "https://localhost:8080/",
          "height": 744
        },
        "id": "uNz0feLnyw2T",
        "outputId": "75b0da00-f3e3-420e-f6ca-399e0133562e"
      },
      "source": [
        "dff_dummies = pd.get_dummies(dff)\n",
        "corr = dff_dummies.corr(method='pearson', min_periods=1)\n",
        "corr"
      ],
      "execution_count": 69,
      "outputs": [
        {
          "output_type": "execute_result",
          "data": {
            "text/html": [
              "<div>\n",
              "<style scoped>\n",
              "    .dataframe tbody tr th:only-of-type {\n",
              "        vertical-align: middle;\n",
              "    }\n",
              "\n",
              "    .dataframe tbody tr th {\n",
              "        vertical-align: top;\n",
              "    }\n",
              "\n",
              "    .dataframe thead th {\n",
              "        text-align: right;\n",
              "    }\n",
              "</style>\n",
              "<table border=\"1\" class=\"dataframe\">\n",
              "  <thead>\n",
              "    <tr style=\"text-align: right;\">\n",
              "      <th></th>\n",
              "      <th>score</th>\n",
              "      <th>gender_female</th>\n",
              "      <th>gender_male</th>\n",
              "      <th>race/ethnicity_group A</th>\n",
              "      <th>race/ethnicity_group B</th>\n",
              "      <th>race/ethnicity_group C</th>\n",
              "      <th>race/ethnicity_group D</th>\n",
              "      <th>race/ethnicity_group E</th>\n",
              "      <th>parental_level_of_education_associate's degree</th>\n",
              "      <th>parental_level_of_education_bachelor's degree</th>\n",
              "      <th>parental_level_of_education_high school</th>\n",
              "      <th>parental_level_of_education_master's degree</th>\n",
              "      <th>parental_level_of_education_some college</th>\n",
              "      <th>parental_level_of_education_some high school</th>\n",
              "      <th>lunch_free/reduced</th>\n",
              "      <th>lunch_standard</th>\n",
              "      <th>test_preparation_course_completed</th>\n",
              "      <th>test_preparation_course_none</th>\n",
              "    </tr>\n",
              "  </thead>\n",
              "  <tbody>\n",
              "    <tr>\n",
              "      <th>score</th>\n",
              "      <td>1.000000</td>\n",
              "      <td>0.118754</td>\n",
              "      <td>-0.118754</td>\n",
              "      <td>-0.105870</td>\n",
              "      <td>-0.083388</td>\n",
              "      <td>-0.030272</td>\n",
              "      <td>0.061064</td>\n",
              "      <td>0.145351</td>\n",
              "      <td>0.081016</td>\n",
              "      <td>0.095273</td>\n",
              "      <td>-0.178417</td>\n",
              "      <td>0.111968</td>\n",
              "      <td>0.023180</td>\n",
              "      <td>-0.074969</td>\n",
              "      <td>-0.286256</td>\n",
              "      <td>0.286256</td>\n",
              "      <td>0.251883</td>\n",
              "      <td>-0.251883</td>\n",
              "    </tr>\n",
              "    <tr>\n",
              "      <th>gender_female</th>\n",
              "      <td>0.118754</td>\n",
              "      <td>1.000000</td>\n",
              "      <td>-1.000000</td>\n",
              "      <td>-0.074423</td>\n",
              "      <td>0.045755</td>\n",
              "      <td>0.059596</td>\n",
              "      <td>-0.042561</td>\n",
              "      <td>-0.017087</td>\n",
              "      <td>-0.000845</td>\n",
              "      <td>0.007652</td>\n",
              "      <td>-0.026818</td>\n",
              "      <td>0.039790</td>\n",
              "      <td>0.008508</td>\n",
              "      <td>-0.011357</td>\n",
              "      <td>0.037291</td>\n",
              "      <td>-0.037291</td>\n",
              "      <td>0.006299</td>\n",
              "      <td>-0.006299</td>\n",
              "    </tr>\n",
              "    <tr>\n",
              "      <th>gender_male</th>\n",
              "      <td>-0.118754</td>\n",
              "      <td>-1.000000</td>\n",
              "      <td>1.000000</td>\n",
              "      <td>0.074423</td>\n",
              "      <td>-0.045755</td>\n",
              "      <td>-0.059596</td>\n",
              "      <td>0.042561</td>\n",
              "      <td>0.017087</td>\n",
              "      <td>0.000845</td>\n",
              "      <td>-0.007652</td>\n",
              "      <td>0.026818</td>\n",
              "      <td>-0.039790</td>\n",
              "      <td>-0.008508</td>\n",
              "      <td>0.011357</td>\n",
              "      <td>-0.037291</td>\n",
              "      <td>0.037291</td>\n",
              "      <td>-0.006299</td>\n",
              "      <td>0.006299</td>\n",
              "    </tr>\n",
              "    <tr>\n",
              "      <th>race/ethnicity_group A</th>\n",
              "      <td>-0.105870</td>\n",
              "      <td>-0.074423</td>\n",
              "      <td>0.074423</td>\n",
              "      <td>1.000000</td>\n",
              "      <td>-0.152337</td>\n",
              "      <td>-0.214673</td>\n",
              "      <td>-0.185562</td>\n",
              "      <td>-0.125910</td>\n",
              "      <td>-0.060464</td>\n",
              "      <td>0.012835</td>\n",
              "      <td>0.013336</td>\n",
              "      <td>-0.030695</td>\n",
              "      <td>-0.021792</td>\n",
              "      <td>0.082322</td>\n",
              "      <td>0.026153</td>\n",
              "      <td>-0.026153</td>\n",
              "      <td>-0.014999</td>\n",
              "      <td>0.014999</td>\n",
              "    </tr>\n",
              "    <tr>\n",
              "      <th>race/ethnicity_group B</th>\n",
              "      <td>-0.083388</td>\n",
              "      <td>0.045755</td>\n",
              "      <td>-0.045755</td>\n",
              "      <td>-0.152337</td>\n",
              "      <td>1.000000</td>\n",
              "      <td>-0.333807</td>\n",
              "      <td>-0.288540</td>\n",
              "      <td>-0.195785</td>\n",
              "      <td>-0.017124</td>\n",
              "      <td>-0.019160</td>\n",
              "      <td>0.078316</td>\n",
              "      <td>-0.052848</td>\n",
              "      <td>-0.042781</td>\n",
              "      <td>0.031705</td>\n",
              "      <td>0.013523</td>\n",
              "      <td>-0.013523</td>\n",
              "      <td>0.010591</td>\n",
              "      <td>-0.010591</td>\n",
              "    </tr>\n",
              "    <tr>\n",
              "      <th>race/ethnicity_group C</th>\n",
              "      <td>-0.030272</td>\n",
              "      <td>0.059596</td>\n",
              "      <td>-0.059596</td>\n",
              "      <td>-0.214673</td>\n",
              "      <td>-0.333807</td>\n",
              "      <td>1.000000</td>\n",
              "      <td>-0.406610</td>\n",
              "      <td>-0.275899</td>\n",
              "      <td>0.047253</td>\n",
              "      <td>0.017823</td>\n",
              "      <td>-0.008731</td>\n",
              "      <td>0.003981</td>\n",
              "      <td>-0.005046</td>\n",
              "      <td>-0.053401</td>\n",
              "      <td>-0.000059</td>\n",
              "      <td>0.000059</td>\n",
              "      <td>0.023407</td>\n",
              "      <td>-0.023407</td>\n",
              "    </tr>\n",
              "    <tr>\n",
              "      <th>race/ethnicity_group D</th>\n",
              "      <td>0.061064</td>\n",
              "      <td>-0.042561</td>\n",
              "      <td>0.042561</td>\n",
              "      <td>-0.185562</td>\n",
              "      <td>-0.288540</td>\n",
              "      <td>-0.406610</td>\n",
              "      <td>1.000000</td>\n",
              "      <td>-0.238485</td>\n",
              "      <td>-0.036170</td>\n",
              "      <td>-0.021825</td>\n",
              "      <td>-0.045514</td>\n",
              "      <td>0.080484</td>\n",
              "      <td>0.038226</td>\n",
              "      <td>0.013503</td>\n",
              "      <td>0.011745</td>\n",
              "      <td>-0.011745</td>\n",
              "      <td>-0.067628</td>\n",
              "      <td>0.067628</td>\n",
              "    </tr>\n",
              "    <tr>\n",
              "      <th>race/ethnicity_group E</th>\n",
              "      <td>0.145351</td>\n",
              "      <td>-0.017087</td>\n",
              "      <td>0.017087</td>\n",
              "      <td>-0.125910</td>\n",
              "      <td>-0.195785</td>\n",
              "      <td>-0.275899</td>\n",
              "      <td>-0.238485</td>\n",
              "      <td>1.000000</td>\n",
              "      <td>0.051410</td>\n",
              "      <td>0.014849</td>\n",
              "      <td>-0.030556</td>\n",
              "      <td>-0.022000</td>\n",
              "      <td>0.024929</td>\n",
              "      <td>-0.048978</td>\n",
              "      <td>-0.051702</td>\n",
              "      <td>0.051702</td>\n",
              "      <td>0.054462</td>\n",
              "      <td>-0.054462</td>\n",
              "    </tr>\n",
              "    <tr>\n",
              "      <th>parental_level_of_education_associate's degree</th>\n",
              "      <td>0.081016</td>\n",
              "      <td>-0.000845</td>\n",
              "      <td>0.000845</td>\n",
              "      <td>-0.060464</td>\n",
              "      <td>-0.017124</td>\n",
              "      <td>0.047253</td>\n",
              "      <td>-0.036170</td>\n",
              "      <td>0.051410</td>\n",
              "      <td>1.000000</td>\n",
              "      <td>-0.192981</td>\n",
              "      <td>-0.262279</td>\n",
              "      <td>-0.131366</td>\n",
              "      <td>-0.279864</td>\n",
              "      <td>-0.243565</td>\n",
              "      <td>-0.026029</td>\n",
              "      <td>0.026029</td>\n",
              "      <td>0.014090</td>\n",
              "      <td>-0.014090</td>\n",
              "    </tr>\n",
              "    <tr>\n",
              "      <th>parental_level_of_education_bachelor's degree</th>\n",
              "      <td>0.095273</td>\n",
              "      <td>0.007652</td>\n",
              "      <td>-0.007652</td>\n",
              "      <td>0.012835</td>\n",
              "      <td>-0.019160</td>\n",
              "      <td>0.017823</td>\n",
              "      <td>-0.021825</td>\n",
              "      <td>0.014849</td>\n",
              "      <td>-0.192981</td>\n",
              "      <td>1.000000</td>\n",
              "      <td>-0.186707</td>\n",
              "      <td>-0.093515</td>\n",
              "      <td>-0.199225</td>\n",
              "      <td>-0.173385</td>\n",
              "      <td>0.021751</td>\n",
              "      <td>-0.021751</td>\n",
              "      <td>0.017605</td>\n",
              "      <td>-0.017605</td>\n",
              "    </tr>\n",
              "    <tr>\n",
              "      <th>parental_level_of_education_high school</th>\n",
              "      <td>-0.178417</td>\n",
              "      <td>-0.026818</td>\n",
              "      <td>0.026818</td>\n",
              "      <td>0.013336</td>\n",
              "      <td>0.078316</td>\n",
              "      <td>-0.008731</td>\n",
              "      <td>-0.045514</td>\n",
              "      <td>-0.030556</td>\n",
              "      <td>-0.262279</td>\n",
              "      <td>-0.186707</td>\n",
              "      <td>1.000000</td>\n",
              "      <td>-0.127095</td>\n",
              "      <td>-0.270766</td>\n",
              "      <td>-0.235646</td>\n",
              "      <td>-0.000970</td>\n",
              "      <td>0.000970</td>\n",
              "      <td>-0.077664</td>\n",
              "      <td>0.077664</td>\n",
              "    </tr>\n",
              "    <tr>\n",
              "      <th>parental_level_of_education_master's degree</th>\n",
              "      <td>0.111968</td>\n",
              "      <td>0.039790</td>\n",
              "      <td>-0.039790</td>\n",
              "      <td>-0.030695</td>\n",
              "      <td>-0.052848</td>\n",
              "      <td>0.003981</td>\n",
              "      <td>0.080484</td>\n",
              "      <td>-0.022000</td>\n",
              "      <td>-0.131366</td>\n",
              "      <td>-0.093515</td>\n",
              "      <td>-0.127095</td>\n",
              "      <td>1.000000</td>\n",
              "      <td>-0.135617</td>\n",
              "      <td>-0.118027</td>\n",
              "      <td>0.026241</td>\n",
              "      <td>-0.026241</td>\n",
              "      <td>-0.009998</td>\n",
              "      <td>0.009998</td>\n",
              "    </tr>\n",
              "    <tr>\n",
              "      <th>parental_level_of_education_some college</th>\n",
              "      <td>0.023180</td>\n",
              "      <td>0.008508</td>\n",
              "      <td>-0.008508</td>\n",
              "      <td>-0.021792</td>\n",
              "      <td>-0.042781</td>\n",
              "      <td>-0.005046</td>\n",
              "      <td>0.038226</td>\n",
              "      <td>0.024929</td>\n",
              "      <td>-0.279864</td>\n",
              "      <td>-0.199225</td>\n",
              "      <td>-0.270766</td>\n",
              "      <td>-0.135617</td>\n",
              "      <td>1.000000</td>\n",
              "      <td>-0.251446</td>\n",
              "      <td>0.009962</td>\n",
              "      <td>-0.009962</td>\n",
              "      <td>-0.022187</td>\n",
              "      <td>0.022187</td>\n",
              "    </tr>\n",
              "    <tr>\n",
              "      <th>parental_level_of_education_some high school</th>\n",
              "      <td>-0.074969</td>\n",
              "      <td>-0.011357</td>\n",
              "      <td>0.011357</td>\n",
              "      <td>0.082322</td>\n",
              "      <td>0.031705</td>\n",
              "      <td>-0.053401</td>\n",
              "      <td>0.013503</td>\n",
              "      <td>-0.048978</td>\n",
              "      <td>-0.243565</td>\n",
              "      <td>-0.173385</td>\n",
              "      <td>-0.235646</td>\n",
              "      <td>-0.118027</td>\n",
              "      <td>-0.251446</td>\n",
              "      <td>1.000000</td>\n",
              "      <td>-0.016715</td>\n",
              "      <td>0.016715</td>\n",
              "      <td>0.081603</td>\n",
              "      <td>-0.081603</td>\n",
              "    </tr>\n",
              "    <tr>\n",
              "      <th>lunch_free/reduced</th>\n",
              "      <td>-0.286256</td>\n",
              "      <td>0.037291</td>\n",
              "      <td>-0.037291</td>\n",
              "      <td>0.026153</td>\n",
              "      <td>0.013523</td>\n",
              "      <td>-0.000059</td>\n",
              "      <td>0.011745</td>\n",
              "      <td>-0.051702</td>\n",
              "      <td>-0.026029</td>\n",
              "      <td>0.021751</td>\n",
              "      <td>-0.000970</td>\n",
              "      <td>0.026241</td>\n",
              "      <td>0.009962</td>\n",
              "      <td>-0.016715</td>\n",
              "      <td>1.000000</td>\n",
              "      <td>-1.000000</td>\n",
              "      <td>0.002950</td>\n",
              "      <td>-0.002950</td>\n",
              "    </tr>\n",
              "    <tr>\n",
              "      <th>lunch_standard</th>\n",
              "      <td>0.286256</td>\n",
              "      <td>-0.037291</td>\n",
              "      <td>0.037291</td>\n",
              "      <td>-0.026153</td>\n",
              "      <td>-0.013523</td>\n",
              "      <td>0.000059</td>\n",
              "      <td>-0.011745</td>\n",
              "      <td>0.051702</td>\n",
              "      <td>0.026029</td>\n",
              "      <td>-0.021751</td>\n",
              "      <td>0.000970</td>\n",
              "      <td>-0.026241</td>\n",
              "      <td>-0.009962</td>\n",
              "      <td>0.016715</td>\n",
              "      <td>-1.000000</td>\n",
              "      <td>1.000000</td>\n",
              "      <td>-0.002950</td>\n",
              "      <td>0.002950</td>\n",
              "    </tr>\n",
              "    <tr>\n",
              "      <th>test_preparation_course_completed</th>\n",
              "      <td>0.251883</td>\n",
              "      <td>0.006299</td>\n",
              "      <td>-0.006299</td>\n",
              "      <td>-0.014999</td>\n",
              "      <td>0.010591</td>\n",
              "      <td>0.023407</td>\n",
              "      <td>-0.067628</td>\n",
              "      <td>0.054462</td>\n",
              "      <td>0.014090</td>\n",
              "      <td>0.017605</td>\n",
              "      <td>-0.077664</td>\n",
              "      <td>-0.009998</td>\n",
              "      <td>-0.022187</td>\n",
              "      <td>0.081603</td>\n",
              "      <td>0.002950</td>\n",
              "      <td>-0.002950</td>\n",
              "      <td>1.000000</td>\n",
              "      <td>-1.000000</td>\n",
              "    </tr>\n",
              "    <tr>\n",
              "      <th>test_preparation_course_none</th>\n",
              "      <td>-0.251883</td>\n",
              "      <td>-0.006299</td>\n",
              "      <td>0.006299</td>\n",
              "      <td>0.014999</td>\n",
              "      <td>-0.010591</td>\n",
              "      <td>-0.023407</td>\n",
              "      <td>0.067628</td>\n",
              "      <td>-0.054462</td>\n",
              "      <td>-0.014090</td>\n",
              "      <td>-0.017605</td>\n",
              "      <td>0.077664</td>\n",
              "      <td>0.009998</td>\n",
              "      <td>0.022187</td>\n",
              "      <td>-0.081603</td>\n",
              "      <td>-0.002950</td>\n",
              "      <td>0.002950</td>\n",
              "      <td>-1.000000</td>\n",
              "      <td>1.000000</td>\n",
              "    </tr>\n",
              "  </tbody>\n",
              "</table>\n",
              "</div>"
            ],
            "text/plain": [
              "                                                   score  ...  test_preparation_course_none\n",
              "score                                           1.000000  ...                     -0.251883\n",
              "gender_female                                   0.118754  ...                     -0.006299\n",
              "gender_male                                    -0.118754  ...                      0.006299\n",
              "race/ethnicity_group A                         -0.105870  ...                      0.014999\n",
              "race/ethnicity_group B                         -0.083388  ...                     -0.010591\n",
              "race/ethnicity_group C                         -0.030272  ...                     -0.023407\n",
              "race/ethnicity_group D                          0.061064  ...                      0.067628\n",
              "race/ethnicity_group E                          0.145351  ...                     -0.054462\n",
              "parental_level_of_education_associate's degree  0.081016  ...                     -0.014090\n",
              "parental_level_of_education_bachelor's degree   0.095273  ...                     -0.017605\n",
              "parental_level_of_education_high school        -0.178417  ...                      0.077664\n",
              "parental_level_of_education_master's degree     0.111968  ...                      0.009998\n",
              "parental_level_of_education_some college        0.023180  ...                      0.022187\n",
              "parental_level_of_education_some high school   -0.074969  ...                     -0.081603\n",
              "lunch_free/reduced                             -0.286256  ...                     -0.002950\n",
              "lunch_standard                                  0.286256  ...                      0.002950\n",
              "test_preparation_course_completed               0.251883  ...                     -1.000000\n",
              "test_preparation_course_none                   -0.251883  ...                      1.000000\n",
              "\n",
              "[18 rows x 18 columns]"
            ]
          },
          "metadata": {},
          "execution_count": 69
        }
      ]
    },
    {
      "cell_type": "code",
      "metadata": {
        "colab": {
          "base_uri": "https://localhost:8080/",
          "height": 283
        },
        "id": "38owm3S69hjD",
        "outputId": "0144bee6-b788-44c5-a552-558cd20f664b"
      },
      "source": [
        "dff.score.plot(kind='hist', bins=30)"
      ],
      "execution_count": 67,
      "outputs": [
        {
          "output_type": "execute_result",
          "data": {
            "text/plain": [
              "<matplotlib.axes._subplots.AxesSubplot at 0x7f0fa97c7d50>"
            ]
          },
          "metadata": {},
          "execution_count": 67
        },
        {
          "output_type": "display_data",
          "data": {
            "image/png": "[encoded data removed]",
            "text/plain": [
              "<Figure size 432x288 with 1 Axes>"
            ]
          },
          "metadata": {
            "needs_background": "light"
          }
        }
      ]
    },
    {
      "cell_type": "code",
      "metadata": {
        "colab": {
          "base_uri": "https://localhost:8080/",
          "height": 648
        },
        "id": "w4vw6TuG-4P1",
        "outputId": "b017d978-6e3f-4944-f21f-7f09b9d7862e"
      },
      "source": [
        "sns.set(style='white')\n",
        "mask = np.zeros_like(corr, dtype=np.bool)\n",
        "mask[np.triu_indices_from(mask)] = True\n",
        "f, ax = plt.subplots(figsize=(8, 6))\n",
        "cmap = sns.diverging_palette(220, 10, as_cmap=True)\n",
        "sns.heatmap(corr, mask=mask, cmap=cmap, vmax=.3, center=0,\n",
        "            square=True, linewidths=.5, cbar_kws={\"shrink\": .5})"
      ],
      "execution_count": 70,
      "outputs": [
        {
          "output_type": "execute_result",
          "data": {
            "text/plain": [
              "<matplotlib.axes._subplots.AxesSubplot at 0x7f0fa9768750>"
            ]
          },
          "metadata": {},
          "execution_count": 70
        },
        {
          "output_type": "display_data",
          "data": {
            "image/png": "[encoded data removed]",
            "text/plain": [
              "<Figure size 576x432 with 2 Axes>"
            ]
          },
          "metadata": {}
        }
      ]
    },
    {
      "cell_type": "code",
      "metadata": {
        "colab": {
          "base_uri": "https://localhost:8080/"
        },
        "id": "RPZLrCdx_1FG",
        "outputId": "f65809fe-f78e-4d94-efd4-6470a08e1b41"
      },
      "source": [
        "dff_dummies.corr()['score'].sort_values(ascending=False)"
      ],
      "execution_count": 71,
      "outputs": [
        {
          "output_type": "execute_result",
          "data": {
            "text/plain": [
              "score                                             1.000000\n",
              "lunch_standard                                    0.286256\n",
              "test_preparation_course_completed                 0.251883\n",
              "race/ethnicity_group E                            0.145351\n",
              "gender_female                                     0.118754\n",
              "parental_level_of_education_master's degree       0.111968\n",
              "parental_level_of_education_bachelor's degree     0.095273\n",
              "parental_level_of_education_associate's degree    0.081016\n",
              "race/ethnicity_group D                            0.061064\n",
              "parental_level_of_education_some college          0.023180\n",
              "race/ethnicity_group C                           -0.030272\n",
              "parental_level_of_education_some high school     -0.074969\n",
              "race/ethnicity_group B                           -0.083388\n",
              "race/ethnicity_group A                           -0.105870\n",
              "gender_male                                      -0.118754\n",
              "parental_level_of_education_high school          -0.178417\n",
              "test_preparation_course_none                     -0.251883\n",
              "lunch_free/reduced                               -0.286256\n",
              "Name: score, dtype: float64"
            ]
          },
          "metadata": {},
          "execution_count": 71
        }
      ]
    },
    {
      "cell_type": "markdown",
      "metadata": {
        "id": "LNptuJBS9v6V"
      },
      "source": [
        "Final conclusion about correlation between variables: The target variable was sum of scores of children. The most frequent score was around 200 value, which is ~70 per each test. The results of corr() function shows that the highest impact into score value was lunch. The second most-impactful variable was test preparation course."
      ]
    }
  ]
}