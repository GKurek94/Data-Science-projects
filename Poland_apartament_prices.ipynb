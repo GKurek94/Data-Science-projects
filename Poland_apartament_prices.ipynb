{
  "nbformat": 4,
  "nbformat_minor": 0,
  "metadata": {
    "colab": {
      "name": "Poland_apartament_prices.ipynb",
      "provenance": [],
      "collapsed_sections": [],
      "authorship_tag": "ABX9TyPLCe/VuSyYhqrNgXjwlKcS",
      "include_colab_link": true
    },
    "kernelspec": {
      "name": "python3",
      "display_name": "Python 3"
    },
    "language_info": {
      "name": "python"
    }
  },
  "cells": [
    {
      "cell_type": "markdown",
      "metadata": {
        "id": "view-in-github",
        "colab_type": "text"
      },
      "source": [
        "<a href=\"https://colab.research.google.com/github/GKurek94/Data-Science-projects/blob/main/Poland_apartament_prices.ipynb\" target=\"_parent\"><img src=\"https://colab.research.google.com/assets/colab-badge.svg\" alt=\"Open In Colab\"/></a>"
      ]
    },
    {
      "cell_type": "markdown",
      "metadata": {
        "id": "t4X_Qzl24Igy"
      },
      "source": [
        "#Data science project on housing prices in 16 largest cities in Poland since 2006. \n",
        "##Project constains some visualization of changing prices of specific cities every quater of previous years."
      ]
    },
    {
      "cell_type": "markdown",
      "metadata": {
        "id": "ltqmRRDh8mB5"
      },
      "source": [
        "## Loading dataset and necessary libraries with preliminary preparation for project."
      ]
    },
    {
      "cell_type": "markdown",
      "metadata": {
        "id": "6g0Hoq9Z7u_t"
      },
      "source": [
        "Importing required libraries."
      ]
    },
    {
      "cell_type": "code",
      "metadata": {
        "id": "8QNvs1qnxuVg"
      },
      "source": [
        "import pandas\n",
        "import numpy as np\n",
        "import plotly.express as px\n",
        "import tensorflow\n",
        "import matplotlib.pyplot as plt\n",
        "import seaborn as sns\n"
      ],
      "execution_count": 129,
      "outputs": []
    },
    {
      "cell_type": "code",
      "metadata": {
        "colab": {
          "base_uri": "https://localhost:8080/"
        },
        "id": "G6OGlQBqJqEj",
        "outputId": "8759e200-f827-41ae-c6ff-9c43db70b887"
      },
      "source": [
        "pip install plotly==5.2.1"
      ],
      "execution_count": 130,
      "outputs": [
        {
          "output_type": "stream",
          "name": "stdout",
          "text": [
            "Requirement already satisfied: plotly==5.2.1 in /usr/local/lib/python3.7/dist-packages (5.2.1)\n",
            "Requirement already satisfied: six in /usr/local/lib/python3.7/dist-packages (from plotly==5.2.1) (1.15.0)\n",
            "Requirement already satisfied: tenacity>=6.2.0 in /usr/local/lib/python3.7/dist-packages (from plotly==5.2.1) (8.0.1)\n"
          ]
        }
      ]
    },
    {
      "cell_type": "markdown",
      "metadata": {
        "id": "MuT4yLFZ731s"
      },
      "source": [
        "Function to rename the column name which contains polish characters, what could cause errors."
      ]
    },
    {
      "cell_type": "code",
      "metadata": {
        "id": "501dmTMGx-FN"
      },
      "source": [
        "\n",
        "# In this case its unnecessary.\n",
        "def replace_char(string):\n",
        "    new_char = ''\n",
        "    polish_char = ['ą', 'ć', 'ę', 'ł', 'ń', 'ó', 'ź', 'ż']\n",
        "    english_char = ['a', 'c', 'e', 'l', 'n', 'o', 'z', 'z']\n",
        "    for character in string:\n",
        "        if character in polish_char:\n",
        "            index = polish_char.index(character)\n",
        "            character = english_char[index]\n",
        "            new_char += str(character)\n",
        "        else:\n",
        "            new_char += str(character)\n",
        "    return new_char\n",
        "  "
      ],
      "execution_count": 131,
      "outputs": []
    },
    {
      "cell_type": "markdown",
      "metadata": {
        "id": "gCSjV_LO8AVV"
      },
      "source": [
        "Creating list of new name of columns in dataframe to make invidual names."
      ]
    },
    {
      "cell_type": "code",
      "metadata": {
        "id": "RBUnWz80yBdS"
      },
      "source": [
        "df_new_names_of_columns = ['Kwartał', 'Białystok', 'Bydgoszcz', 'Gdańsk', 'Gdynia', 'Katowice',\n",
        "                           'Kielce', 'Kraków', 'Lublin', 'Łódź', 'Olsztyn', 'Opole', 'Poznań',\n",
        "                           'Rzeszów', 'Szczecin', 'Warszawa', 'Wrocław', 'Zielona Góra', '7 miast',\n",
        "                           '10 miast', '6 miast bez Warszawy', '9 miast', 'Unnamed: 22', 'Kwartał_ceny_tr',\n",
        "                           'Białystok_ceny_tr', 'Bydgoszcz_ceny_tr', 'Gdańsk_ceny_tr', 'Gdynia_ceny_tr',\n",
        "                           'Katowice_ceny_tr', 'Kielce_ceny_tr', 'Kraków_ceny_tr', 'Lublin_ceny_tr', 'Łódź_ceny_tr',\n",
        "                           'Olsztyn_ceny_tr', 'Opole_ceny_tr', 'Poznań_ceny_tr', 'Rzeszów_ceny_tr',\n",
        "                           'Szczecin_ceny_tr', 'Warszawa_ceny_tr', 'Wrocław_ceny_tr', 'Zielona Góra_ceny_tr',\n",
        "                           '7 miast_ceny_tr', '10 miast_ceny_tr', '6 miast bez Warszawy_ceny_tr', '9 miast_ceny_tr']\n",
        "      "
      ],
      "execution_count": 132,
      "outputs": []
    },
    {
      "cell_type": "markdown",
      "metadata": {
        "id": "XQiA_Cb-3rmb"
      },
      "source": [
        "## Loading data and some statistical informations about the data. "
      ]
    },
    {
      "cell_type": "markdown",
      "metadata": {
        "id": "imjIE1dM9cke"
      },
      "source": [
        "Statistical informations show that the data set is chaotic. Names of columns are not specyfied. Data preparation is required."
      ]
    },
    {
      "cell_type": "code",
      "metadata": {
        "id": "mpnJMFNFyDz3",
        "colab": {
          "base_uri": "https://localhost:8080/",
          "height": 1000
        },
        "outputId": "da7de371-7323-49ef-8d35-2cf70a204480"
      },
      "source": [
        "# Read dataset of prices of houses in biggest cities in Poland\n",
        "df_raw = pandas.read_excel('ceny_mieszkan.xls', sheet_name='Rynek pierwotny')\n",
        "df = df_raw.copy()\n",
        "\n",
        "\n",
        "#shape of dataset\n",
        "print(\"shape of dataframe is : \", df.shape)\n",
        "#Let's look at first 5 rows of dataset\n",
        "df.head(5)\n",
        "# summary of data\n",
        "df.info()\n",
        "# Get Statistical details of data\n",
        "df.describe()"
      ],
      "execution_count": 133,
      "outputs": [
        {
          "output_type": "stream",
          "name": "stdout",
          "text": [
            "shape of dataframe is :  (65, 45)\n",
            "<class 'pandas.core.frame.DataFrame'>\n",
            "RangeIndex: 65 entries, 0 to 64\n",
            "Data columns (total 45 columns):\n",
            " #   Column             Non-Null Count  Dtype  \n",
            "---  ------             --------------  -----  \n",
            " 0   Rynek pierwotny    62 non-null     object \n",
            " 1   Unnamed: 1         62 non-null     object \n",
            " 2   Unnamed: 2         60 non-null     object \n",
            " 3   Unnamed: 3         60 non-null     object \n",
            " 4   Unnamed: 4         60 non-null     object \n",
            " 5   Unnamed: 5         60 non-null     object \n",
            " 6   Unnamed: 6         60 non-null     object \n",
            " 7   Unnamed: 7         60 non-null     object \n",
            " 8   Unnamed: 8         60 non-null     object \n",
            " 9   Unnamed: 9         60 non-null     object \n",
            " 10  Unnamed: 10        60 non-null     object \n",
            " 11  Unnamed: 11        57 non-null     object \n",
            " 12  Unnamed: 12        60 non-null     object \n",
            " 13  Unnamed: 13        60 non-null     object \n",
            " 14  Unnamed: 14        60 non-null     object \n",
            " 15  Unnamed: 15        60 non-null     object \n",
            " 16  Unnamed: 16        60 non-null     object \n",
            " 17  Unnamed: 17        60 non-null     object \n",
            " 18  Unnamed: 18        63 non-null     object \n",
            " 19  Unnamed: 19        61 non-null     object \n",
            " 20  Unnamed: 20        61 non-null     object \n",
            " 21  Unnamed: 21        33 non-null     object \n",
            " 22  Unnamed: 22        0 non-null      float64\n",
            " 23  Rynek pierwotny.1  64 non-null     object \n",
            " 24  Unnamed: 24        60 non-null     object \n",
            " 25  Unnamed: 25        60 non-null     object \n",
            " 26  Unnamed: 26        60 non-null     object \n",
            " 27  Unnamed: 27        60 non-null     object \n",
            " 28  Unnamed: 28        60 non-null     object \n",
            " 29  Unnamed: 29        60 non-null     object \n",
            " 30  Unnamed: 30        60 non-null     object \n",
            " 31  Unnamed: 31        60 non-null     object \n",
            " 32  Unnamed: 32        60 non-null     object \n",
            " 33  Unnamed: 33        60 non-null     object \n",
            " 34  Unnamed: 34        59 non-null     object \n",
            " 35  Unnamed: 35        60 non-null     object \n",
            " 36  Unnamed: 36        60 non-null     object \n",
            " 37  Unnamed: 37        60 non-null     object \n",
            " 38  Unnamed: 38        60 non-null     object \n",
            " 39  Unnamed: 39        60 non-null     object \n",
            " 40  Unnamed: 40        60 non-null     object \n",
            " 41  Unnamed: 41        63 non-null     object \n",
            " 42  Unnamed: 42        61 non-null     object \n",
            " 43  Unnamed: 43        61 non-null     object \n",
            " 44  Unnamed: 44        33 non-null     object \n",
            "dtypes: float64(1), object(44)\n",
            "memory usage: 23.0+ KB\n"
          ]
        },
        {
          "output_type": "execute_result",
          "data": {
            "text/html": [
              "<div>\n",
              "<style scoped>\n",
              "    .dataframe tbody tr th:only-of-type {\n",
              "        vertical-align: middle;\n",
              "    }\n",
              "\n",
              "    .dataframe tbody tr th {\n",
              "        vertical-align: top;\n",
              "    }\n",
              "\n",
              "    .dataframe thead th {\n",
              "        text-align: right;\n",
              "    }\n",
              "</style>\n",
              "<table border=\"1\" class=\"dataframe\">\n",
              "  <thead>\n",
              "    <tr style=\"text-align: right;\">\n",
              "      <th></th>\n",
              "      <th>Unnamed: 22</th>\n",
              "    </tr>\n",
              "  </thead>\n",
              "  <tbody>\n",
              "    <tr>\n",
              "      <th>count</th>\n",
              "      <td>0.0</td>\n",
              "    </tr>\n",
              "    <tr>\n",
              "      <th>mean</th>\n",
              "      <td>NaN</td>\n",
              "    </tr>\n",
              "    <tr>\n",
              "      <th>std</th>\n",
              "      <td>NaN</td>\n",
              "    </tr>\n",
              "    <tr>\n",
              "      <th>min</th>\n",
              "      <td>NaN</td>\n",
              "    </tr>\n",
              "    <tr>\n",
              "      <th>25%</th>\n",
              "      <td>NaN</td>\n",
              "    </tr>\n",
              "    <tr>\n",
              "      <th>50%</th>\n",
              "      <td>NaN</td>\n",
              "    </tr>\n",
              "    <tr>\n",
              "      <th>75%</th>\n",
              "      <td>NaN</td>\n",
              "    </tr>\n",
              "    <tr>\n",
              "      <th>max</th>\n",
              "      <td>NaN</td>\n",
              "    </tr>\n",
              "  </tbody>\n",
              "</table>\n",
              "</div>"
            ],
            "text/plain": [
              "       Unnamed: 22\n",
              "count          0.0\n",
              "mean           NaN\n",
              "std            NaN\n",
              "min            NaN\n",
              "25%            NaN\n",
              "50%            NaN\n",
              "75%            NaN\n",
              "max            NaN"
            ]
          },
          "metadata": {},
          "execution_count": 133
        }
      ]
    },
    {
      "cell_type": "markdown",
      "metadata": {
        "id": "tH7LVylk-c5T"
      },
      "source": [
        "Data preparation. Dropping unnecessary columns and axis. Renaming column names. "
      ]
    },
    {
      "cell_type": "code",
      "metadata": {
        "id": "1_gWqmrC2eoh"
      },
      "source": [
        "# Modifying the dataframe with proper column name and indexing\n",
        "df = df[df.index > 4]\n",
        "df = df.reset_index(drop=True)\n",
        "\n",
        "# Loop which renames columns names to names included in first cell of each column\n",
        "for column in df.columns:\n",
        "    if type(df[column][0]) is str:\n",
        "        df = df.rename({column: df[column][0]}, axis=1)\n",
        "    else:\n",
        "        pass\n",
        "df = df[df.index > 0]\n",
        "df.columns = df_new_names_of_columns\n",
        "df = df.drop('Unnamed: 22', axis=1)  # Column contains only missing values, probably created just for visual aspect in xls file\n",
        "df = df.drop('Kwartał_ceny_tr', axis=1)"
      ],
      "execution_count": 134,
      "outputs": []
    },
    {
      "cell_type": "markdown",
      "metadata": {
        "id": "X69tWO3e-w9D"
      },
      "source": [
        "Statistical information about the modified data set. Names of columns describe prices of apartments in specific city. Data set contains 59 axis, 44 columns. Half of the columns is about the same cities, but describes the transaction price of each city."
      ]
    },
    {
      "cell_type": "code",
      "metadata": {
        "colab": {
          "base_uri": "https://localhost:8080/",
          "height": 1000
        },
        "id": "GwYLt-rG3J3A",
        "outputId": "9f44af18-3fe3-4710-fb84-f42d22b22698"
      },
      "source": [
        "#shape of dataset\n",
        "print(\"shape of dataframe is : \", df.shape)\n",
        "#Let's look at first 5 rows of dataset\n",
        "df.head(5)\n",
        "# summary of data\n",
        "df.info()\n",
        "# Get Statistical details of data\n",
        "df.describe()"
      ],
      "execution_count": 135,
      "outputs": [
        {
          "output_type": "stream",
          "name": "stdout",
          "text": [
            "shape of dataframe is :  (59, 43)\n",
            "<class 'pandas.core.frame.DataFrame'>\n",
            "Int64Index: 59 entries, 1 to 59\n",
            "Data columns (total 43 columns):\n",
            " #   Column                        Non-Null Count  Dtype \n",
            "---  ------                        --------------  ----- \n",
            " 0   Kwartał                       59 non-null     object\n",
            " 1   Białystok                     59 non-null     object\n",
            " 2   Bydgoszcz                     59 non-null     object\n",
            " 3   Gdańsk                        59 non-null     object\n",
            " 4   Gdynia                        59 non-null     object\n",
            " 5   Katowice                      59 non-null     object\n",
            " 6   Kielce                        59 non-null     object\n",
            " 7   Kraków                        59 non-null     object\n",
            " 8   Lublin                        59 non-null     object\n",
            " 9   Łódź                          59 non-null     object\n",
            " 10  Olsztyn                       59 non-null     object\n",
            " 11  Opole                         56 non-null     object\n",
            " 12  Poznań                        59 non-null     object\n",
            " 13  Rzeszów                       59 non-null     object\n",
            " 14  Szczecin                      59 non-null     object\n",
            " 15  Warszawa                      59 non-null     object\n",
            " 16  Wrocław                       59 non-null     object\n",
            " 17  Zielona Góra                  59 non-null     object\n",
            " 18  7 miast                       59 non-null     object\n",
            " 19  10 miast                      59 non-null     object\n",
            " 20  6 miast bez Warszawy          59 non-null     object\n",
            " 21  9 miast                       32 non-null     object\n",
            " 22  Białystok_ceny_tr             59 non-null     object\n",
            " 23  Bydgoszcz_ceny_tr             59 non-null     object\n",
            " 24  Gdańsk_ceny_tr                59 non-null     object\n",
            " 25  Gdynia_ceny_tr                59 non-null     object\n",
            " 26  Katowice_ceny_tr              59 non-null     object\n",
            " 27  Kielce_ceny_tr                59 non-null     object\n",
            " 28  Kraków_ceny_tr                59 non-null     object\n",
            " 29  Lublin_ceny_tr                59 non-null     object\n",
            " 30  Łódź_ceny_tr                  59 non-null     object\n",
            " 31  Olsztyn_ceny_tr               59 non-null     object\n",
            " 32  Opole_ceny_tr                 58 non-null     object\n",
            " 33  Poznań_ceny_tr                59 non-null     object\n",
            " 34  Rzeszów_ceny_tr               59 non-null     object\n",
            " 35  Szczecin_ceny_tr              59 non-null     object\n",
            " 36  Warszawa_ceny_tr              59 non-null     object\n",
            " 37  Wrocław_ceny_tr               59 non-null     object\n",
            " 38  Zielona Góra_ceny_tr          59 non-null     object\n",
            " 39  7 miast_ceny_tr               59 non-null     object\n",
            " 40  10 miast_ceny_tr              59 non-null     object\n",
            " 41  6 miast bez Warszawy_ceny_tr  59 non-null     object\n",
            " 42  9 miast_ceny_tr               32 non-null     object\n",
            "dtypes: object(43)\n",
            "memory usage: 20.3+ KB\n"
          ]
        },
        {
          "output_type": "execute_result",
          "data": {
            "text/html": [
              "<div>\n",
              "<style scoped>\n",
              "    .dataframe tbody tr th:only-of-type {\n",
              "        vertical-align: middle;\n",
              "    }\n",
              "\n",
              "    .dataframe tbody tr th {\n",
              "        vertical-align: top;\n",
              "    }\n",
              "\n",
              "    .dataframe thead th {\n",
              "        text-align: right;\n",
              "    }\n",
              "</style>\n",
              "<table border=\"1\" class=\"dataframe\">\n",
              "  <thead>\n",
              "    <tr style=\"text-align: right;\">\n",
              "      <th></th>\n",
              "      <th>Kwartał</th>\n",
              "      <th>Białystok</th>\n",
              "      <th>Bydgoszcz</th>\n",
              "      <th>Gdańsk</th>\n",
              "      <th>Gdynia</th>\n",
              "      <th>Katowice</th>\n",
              "      <th>Kielce</th>\n",
              "      <th>Kraków</th>\n",
              "      <th>Lublin</th>\n",
              "      <th>Łódź</th>\n",
              "      <th>Olsztyn</th>\n",
              "      <th>Opole</th>\n",
              "      <th>Poznań</th>\n",
              "      <th>Rzeszów</th>\n",
              "      <th>Szczecin</th>\n",
              "      <th>Warszawa</th>\n",
              "      <th>Wrocław</th>\n",
              "      <th>Zielona Góra</th>\n",
              "      <th>7 miast</th>\n",
              "      <th>10 miast</th>\n",
              "      <th>6 miast bez Warszawy</th>\n",
              "      <th>9 miast</th>\n",
              "      <th>Białystok_ceny_tr</th>\n",
              "      <th>Bydgoszcz_ceny_tr</th>\n",
              "      <th>Gdańsk_ceny_tr</th>\n",
              "      <th>Gdynia_ceny_tr</th>\n",
              "      <th>Katowice_ceny_tr</th>\n",
              "      <th>Kielce_ceny_tr</th>\n",
              "      <th>Kraków_ceny_tr</th>\n",
              "      <th>Lublin_ceny_tr</th>\n",
              "      <th>Łódź_ceny_tr</th>\n",
              "      <th>Olsztyn_ceny_tr</th>\n",
              "      <th>Opole_ceny_tr</th>\n",
              "      <th>Poznań_ceny_tr</th>\n",
              "      <th>Rzeszów_ceny_tr</th>\n",
              "      <th>Szczecin_ceny_tr</th>\n",
              "      <th>Warszawa_ceny_tr</th>\n",
              "      <th>Wrocław_ceny_tr</th>\n",
              "      <th>Zielona Góra_ceny_tr</th>\n",
              "      <th>7 miast_ceny_tr</th>\n",
              "      <th>10 miast_ceny_tr</th>\n",
              "      <th>6 miast bez Warszawy_ceny_tr</th>\n",
              "      <th>9 miast_ceny_tr</th>\n",
              "    </tr>\n",
              "  </thead>\n",
              "  <tbody>\n",
              "    <tr>\n",
              "      <th>count</th>\n",
              "      <td>59</td>\n",
              "      <td>59.0</td>\n",
              "      <td>59.0</td>\n",
              "      <td>59.0</td>\n",
              "      <td>59.0</td>\n",
              "      <td>59.000000</td>\n",
              "      <td>59.000000</td>\n",
              "      <td>59.000000</td>\n",
              "      <td>59.0</td>\n",
              "      <td>59.0</td>\n",
              "      <td>59.0</td>\n",
              "      <td>56.000000</td>\n",
              "      <td>59.000000</td>\n",
              "      <td>59.0</td>\n",
              "      <td>59.000000</td>\n",
              "      <td>59.000000</td>\n",
              "      <td>59.0</td>\n",
              "      <td>59.0</td>\n",
              "      <td>59.0</td>\n",
              "      <td>59.000000</td>\n",
              "      <td>59.0</td>\n",
              "      <td>32.00000</td>\n",
              "      <td>59.0</td>\n",
              "      <td>59.0</td>\n",
              "      <td>59.000000</td>\n",
              "      <td>59.000000</td>\n",
              "      <td>59.000000</td>\n",
              "      <td>59.000000</td>\n",
              "      <td>59.000000</td>\n",
              "      <td>59.0</td>\n",
              "      <td>59.0</td>\n",
              "      <td>59.00</td>\n",
              "      <td>58.00000</td>\n",
              "      <td>59.000000</td>\n",
              "      <td>59.0</td>\n",
              "      <td>59.000000</td>\n",
              "      <td>59.000000</td>\n",
              "      <td>59.0</td>\n",
              "      <td>59.0</td>\n",
              "      <td>59.000000</td>\n",
              "      <td>59.000000</td>\n",
              "      <td>59.000000</td>\n",
              "      <td>32.000000</td>\n",
              "    </tr>\n",
              "    <tr>\n",
              "      <th>unique</th>\n",
              "      <td>59</td>\n",
              "      <td>55.0</td>\n",
              "      <td>59.0</td>\n",
              "      <td>59.0</td>\n",
              "      <td>58.0</td>\n",
              "      <td>59.000000</td>\n",
              "      <td>59.000000</td>\n",
              "      <td>59.000000</td>\n",
              "      <td>58.0</td>\n",
              "      <td>59.0</td>\n",
              "      <td>55.0</td>\n",
              "      <td>56.000000</td>\n",
              "      <td>59.000000</td>\n",
              "      <td>57.0</td>\n",
              "      <td>59.000000</td>\n",
              "      <td>59.000000</td>\n",
              "      <td>59.0</td>\n",
              "      <td>56.0</td>\n",
              "      <td>59.0</td>\n",
              "      <td>59.000000</td>\n",
              "      <td>59.0</td>\n",
              "      <td>32.00000</td>\n",
              "      <td>58.0</td>\n",
              "      <td>58.0</td>\n",
              "      <td>59.000000</td>\n",
              "      <td>59.000000</td>\n",
              "      <td>59.000000</td>\n",
              "      <td>59.000000</td>\n",
              "      <td>59.000000</td>\n",
              "      <td>59.0</td>\n",
              "      <td>59.0</td>\n",
              "      <td>59.00</td>\n",
              "      <td>58.00000</td>\n",
              "      <td>59.000000</td>\n",
              "      <td>59.0</td>\n",
              "      <td>59.000000</td>\n",
              "      <td>59.000000</td>\n",
              "      <td>59.0</td>\n",
              "      <td>57.0</td>\n",
              "      <td>59.000000</td>\n",
              "      <td>59.000000</td>\n",
              "      <td>59.000000</td>\n",
              "      <td>32.000000</td>\n",
              "    </tr>\n",
              "    <tr>\n",
              "      <th>top</th>\n",
              "      <td>II 2014</td>\n",
              "      <td>4790.0</td>\n",
              "      <td>5148.0</td>\n",
              "      <td>5630.0</td>\n",
              "      <td>6344.0</td>\n",
              "      <td>5630.474968</td>\n",
              "      <td>4475.155576</td>\n",
              "      <td>6214.309634</td>\n",
              "      <td>5134.0</td>\n",
              "      <td>4863.0</td>\n",
              "      <td>4800.0</td>\n",
              "      <td>4730.889147</td>\n",
              "      <td>6376.381121</td>\n",
              "      <td>4952.0</td>\n",
              "      <td>4859.808385</td>\n",
              "      <td>7807.028089</td>\n",
              "      <td>5759.0</td>\n",
              "      <td>3784.0</td>\n",
              "      <td>6783.0</td>\n",
              "      <td>5148.914022</td>\n",
              "      <td>7423.0</td>\n",
              "      <td>4991.97293</td>\n",
              "      <td>4526.0</td>\n",
              "      <td>4954.0</td>\n",
              "      <td>5501.162748</td>\n",
              "      <td>7803.314461</td>\n",
              "      <td>4603.599668</td>\n",
              "      <td>4797.970649</td>\n",
              "      <td>8837.636541</td>\n",
              "      <td>4861.0</td>\n",
              "      <td>5148.0</td>\n",
              "      <td>5247.57</td>\n",
              "      <td>4350.12375</td>\n",
              "      <td>6228.153566</td>\n",
              "      <td>4990.0</td>\n",
              "      <td>4734.917534</td>\n",
              "      <td>7679.589222</td>\n",
              "      <td>5793.0</td>\n",
              "      <td>3750.0</td>\n",
              "      <td>8063.814882</td>\n",
              "      <td>5503.176535</td>\n",
              "      <td>5631.258184</td>\n",
              "      <td>4671.173683</td>\n",
              "    </tr>\n",
              "    <tr>\n",
              "      <th>freq</th>\n",
              "      <td>1</td>\n",
              "      <td>2.0</td>\n",
              "      <td>1.0</td>\n",
              "      <td>1.0</td>\n",
              "      <td>2.0</td>\n",
              "      <td>1.000000</td>\n",
              "      <td>1.000000</td>\n",
              "      <td>1.000000</td>\n",
              "      <td>2.0</td>\n",
              "      <td>1.0</td>\n",
              "      <td>3.0</td>\n",
              "      <td>1.000000</td>\n",
              "      <td>1.000000</td>\n",
              "      <td>2.0</td>\n",
              "      <td>1.000000</td>\n",
              "      <td>1.000000</td>\n",
              "      <td>1.0</td>\n",
              "      <td>2.0</td>\n",
              "      <td>1.0</td>\n",
              "      <td>1.000000</td>\n",
              "      <td>1.0</td>\n",
              "      <td>1.00000</td>\n",
              "      <td>2.0</td>\n",
              "      <td>2.0</td>\n",
              "      <td>1.000000</td>\n",
              "      <td>1.000000</td>\n",
              "      <td>1.000000</td>\n",
              "      <td>1.000000</td>\n",
              "      <td>1.000000</td>\n",
              "      <td>1.0</td>\n",
              "      <td>1.0</td>\n",
              "      <td>1.00</td>\n",
              "      <td>1.00000</td>\n",
              "      <td>1.000000</td>\n",
              "      <td>1.0</td>\n",
              "      <td>1.000000</td>\n",
              "      <td>1.000000</td>\n",
              "      <td>1.0</td>\n",
              "      <td>2.0</td>\n",
              "      <td>1.000000</td>\n",
              "      <td>1.000000</td>\n",
              "      <td>1.000000</td>\n",
              "      <td>1.000000</td>\n",
              "    </tr>\n",
              "  </tbody>\n",
              "</table>\n",
              "</div>"
            ],
            "text/plain": [
              "        Kwartał  Białystok  ...  6 miast bez Warszawy_ceny_tr  9 miast_ceny_tr\n",
              "count        59       59.0  ...                     59.000000        32.000000\n",
              "unique       59       55.0  ...                     59.000000        32.000000\n",
              "top     II 2014     4790.0  ...                   5631.258184      4671.173683\n",
              "freq          1        2.0  ...                      1.000000         1.000000\n",
              "\n",
              "[4 rows x 43 columns]"
            ]
          },
          "metadata": {},
          "execution_count": 135
        }
      ]
    },
    {
      "cell_type": "markdown",
      "metadata": {
        "id": "UZYIrNJdACpu"
      },
      "source": [
        "## Data cleaning.\n",
        "\n"
      ]
    },
    {
      "cell_type": "markdown",
      "metadata": {
        "id": "tTVVguwdASQc"
      },
      "source": [
        "Checking if there is any column which contains only one unique value. "
      ]
    },
    {
      "cell_type": "code",
      "metadata": {
        "colab": {
          "base_uri": "https://localhost:8080/"
        },
        "id": "4_idduEY3cyc",
        "outputId": "96f88d2b-990f-4f8f-9665-af46cf6c2656"
      },
      "source": [
        "#Checking the unique value counts in columns\n",
        "featureValues={}\n",
        "for d in df.columns.tolist():\n",
        "    count=df[d].nunique()\n",
        "    if count==1:\n",
        "        featureValues[d]=count\n",
        "# List of columns having same 1 unique value        \n",
        "cols_to_drop= list(featureValues.keys())\n",
        "print(\"Columns having 1 unique value are :n\",cols_to_drop)"
      ],
      "execution_count": 136,
      "outputs": [
        {
          "output_type": "stream",
          "name": "stdout",
          "text": [
            "Columns having 1 unique value are :n []\n"
          ]
        }
      ]
    },
    {
      "cell_type": "markdown",
      "metadata": {
        "id": "JBKQe6o6FM4i"
      },
      "source": [
        "Checking the precentage of null values in columns. "
      ]
    },
    {
      "cell_type": "code",
      "metadata": {
        "colab": {
          "base_uri": "https://localhost:8080/"
        },
        "id": "EZgjqsT5E4CT",
        "outputId": "5628e665-42db-46ba-a028-5c50d79fccd7"
      },
      "source": [
        "df.isnull().mean()*100"
      ],
      "execution_count": 52,
      "outputs": [
        {
          "output_type": "execute_result",
          "data": {
            "text/plain": [
              "Kwartał                          0.000000\n",
              "Białystok                        0.000000\n",
              "Bydgoszcz                        0.000000\n",
              "Gdańsk                           0.000000\n",
              "Gdynia                           0.000000\n",
              "Katowice                         0.000000\n",
              "Kielce                           0.000000\n",
              "Kraków                           0.000000\n",
              "Lublin                           0.000000\n",
              "Łódź                             0.000000\n",
              "Olsztyn                          0.000000\n",
              "Opole                            5.084746\n",
              "Poznań                           0.000000\n",
              "Rzeszów                          0.000000\n",
              "Szczecin                         0.000000\n",
              "Warszawa                         0.000000\n",
              "Wrocław                          0.000000\n",
              "Zielona Góra                     0.000000\n",
              "7 miast                          0.000000\n",
              "10 miast                         0.000000\n",
              "6 miast bez Warszawy             0.000000\n",
              "9 miast                         45.762712\n",
              "Białystok_ceny_tr                0.000000\n",
              "Bydgoszcz_ceny_tr                0.000000\n",
              "Gdańsk_ceny_tr                   0.000000\n",
              "Gdynia_ceny_tr                   0.000000\n",
              "Katowice_ceny_tr                 0.000000\n",
              "Kielce_ceny_tr                   0.000000\n",
              "Kraków_ceny_tr                   0.000000\n",
              "Lublin_ceny_tr                   0.000000\n",
              "Łódź_ceny_tr                     0.000000\n",
              "Olsztyn_ceny_tr                  0.000000\n",
              "Opole_ceny_tr                    1.694915\n",
              "Poznań_ceny_tr                   0.000000\n",
              "Rzeszów_ceny_tr                  0.000000\n",
              "Szczecin_ceny_tr                 0.000000\n",
              "Warszawa_ceny_tr                 0.000000\n",
              "Wrocław_ceny_tr                  0.000000\n",
              "Zielona Góra_ceny_tr             0.000000\n",
              "7 miast_ceny_tr                  0.000000\n",
              "10 miast_ceny_tr                 0.000000\n",
              "6 miast bez Warszawy_ceny_tr     0.000000\n",
              "9 miast_ceny_tr                 45.762712\n",
              "dtype: float64"
            ]
          },
          "metadata": {},
          "execution_count": 52
        }
      ]
    },
    {
      "cell_type": "markdown",
      "metadata": {
        "id": "XU0pLDoUFKIo"
      },
      "source": [
        "Since there are two columns with more than 40 precentage of null values, I've decided to drop them."
      ]
    },
    {
      "cell_type": "code",
      "metadata": {
        "colab": {
          "base_uri": "https://localhost:8080/"
        },
        "id": "7lYdTnUMFJBk",
        "outputId": "6ae32f18-a996-4f54-bdd6-b4f529c86909"
      },
      "source": [
        "df = df.drop('9 miast_ceny_tr', axis=1)\n",
        "df = df.drop('9 miast', axis=1)\n",
        "df.isnull().mean()*100"
      ],
      "execution_count": 137,
      "outputs": [
        {
          "output_type": "execute_result",
          "data": {
            "text/plain": [
              "Kwartał                         0.000000\n",
              "Białystok                       0.000000\n",
              "Bydgoszcz                       0.000000\n",
              "Gdańsk                          0.000000\n",
              "Gdynia                          0.000000\n",
              "Katowice                        0.000000\n",
              "Kielce                          0.000000\n",
              "Kraków                          0.000000\n",
              "Lublin                          0.000000\n",
              "Łódź                            0.000000\n",
              "Olsztyn                         0.000000\n",
              "Opole                           5.084746\n",
              "Poznań                          0.000000\n",
              "Rzeszów                         0.000000\n",
              "Szczecin                        0.000000\n",
              "Warszawa                        0.000000\n",
              "Wrocław                         0.000000\n",
              "Zielona Góra                    0.000000\n",
              "7 miast                         0.000000\n",
              "10 miast                        0.000000\n",
              "6 miast bez Warszawy            0.000000\n",
              "Białystok_ceny_tr               0.000000\n",
              "Bydgoszcz_ceny_tr               0.000000\n",
              "Gdańsk_ceny_tr                  0.000000\n",
              "Gdynia_ceny_tr                  0.000000\n",
              "Katowice_ceny_tr                0.000000\n",
              "Kielce_ceny_tr                  0.000000\n",
              "Kraków_ceny_tr                  0.000000\n",
              "Lublin_ceny_tr                  0.000000\n",
              "Łódź_ceny_tr                    0.000000\n",
              "Olsztyn_ceny_tr                 0.000000\n",
              "Opole_ceny_tr                   1.694915\n",
              "Poznań_ceny_tr                  0.000000\n",
              "Rzeszów_ceny_tr                 0.000000\n",
              "Szczecin_ceny_tr                0.000000\n",
              "Warszawa_ceny_tr                0.000000\n",
              "Wrocław_ceny_tr                 0.000000\n",
              "Zielona Góra_ceny_tr            0.000000\n",
              "7 miast_ceny_tr                 0.000000\n",
              "10 miast_ceny_tr                0.000000\n",
              "6 miast bez Warszawy_ceny_tr    0.000000\n",
              "dtype: float64"
            ]
          },
          "metadata": {},
          "execution_count": 137
        }
      ]
    },
    {
      "cell_type": "markdown",
      "metadata": {
        "id": "zihhbXMNHJpx"
      },
      "source": [
        "The remainder for null values will be replaced with mean of close to null values."
      ]
    },
    {
      "cell_type": "code",
      "metadata": {
        "colab": {
          "base_uri": "https://localhost:8080/"
        },
        "id": "PDRmUcawIIgQ",
        "outputId": "9f754a46-0ed0-44be-f826-32847d46360c"
      },
      "source": [
        "df['Opole'] = pandas.to_numeric(df['Opole'], errors = 'coerce')\n",
        "df['Opole_ceny_tr'] = pandas.to_numeric(df['Opole_ceny_tr'], errors = 'coerce')\n",
        "df['Opole'].interpolate(inplace=True)\n",
        "df['Opole_ceny_tr'].interpolate(inplace=True)\n",
        "df.isnull().mean()*100"
      ],
      "execution_count": 138,
      "outputs": [
        {
          "output_type": "execute_result",
          "data": {
            "text/plain": [
              "Kwartał                         0.0\n",
              "Białystok                       0.0\n",
              "Bydgoszcz                       0.0\n",
              "Gdańsk                          0.0\n",
              "Gdynia                          0.0\n",
              "Katowice                        0.0\n",
              "Kielce                          0.0\n",
              "Kraków                          0.0\n",
              "Lublin                          0.0\n",
              "Łódź                            0.0\n",
              "Olsztyn                         0.0\n",
              "Opole                           0.0\n",
              "Poznań                          0.0\n",
              "Rzeszów                         0.0\n",
              "Szczecin                        0.0\n",
              "Warszawa                        0.0\n",
              "Wrocław                         0.0\n",
              "Zielona Góra                    0.0\n",
              "7 miast                         0.0\n",
              "10 miast                        0.0\n",
              "6 miast bez Warszawy            0.0\n",
              "Białystok_ceny_tr               0.0\n",
              "Bydgoszcz_ceny_tr               0.0\n",
              "Gdańsk_ceny_tr                  0.0\n",
              "Gdynia_ceny_tr                  0.0\n",
              "Katowice_ceny_tr                0.0\n",
              "Kielce_ceny_tr                  0.0\n",
              "Kraków_ceny_tr                  0.0\n",
              "Lublin_ceny_tr                  0.0\n",
              "Łódź_ceny_tr                    0.0\n",
              "Olsztyn_ceny_tr                 0.0\n",
              "Opole_ceny_tr                   0.0\n",
              "Poznań_ceny_tr                  0.0\n",
              "Rzeszów_ceny_tr                 0.0\n",
              "Szczecin_ceny_tr                0.0\n",
              "Warszawa_ceny_tr                0.0\n",
              "Wrocław_ceny_tr                 0.0\n",
              "Zielona Góra_ceny_tr            0.0\n",
              "7 miast_ceny_tr                 0.0\n",
              "10 miast_ceny_tr                0.0\n",
              "6 miast bez Warszawy_ceny_tr    0.0\n",
              "dtype: float64"
            ]
          },
          "metadata": {},
          "execution_count": 138
        }
      ]
    },
    {
      "cell_type": "markdown",
      "metadata": {
        "id": "JBrae1n9wY5r"
      },
      "source": [
        "##Visualization"
      ]
    },
    {
      "cell_type": "code",
      "metadata": {
        "id": "8MrobbIJwUMJ"
      },
      "source": [
        "# creating copy of dataframe and dropping some columns for easier calculations.\n",
        "df_for_calc = df.copy()\n",
        "df_for_calc = df_for_calc.drop(['Kwartał'], axis=1)\n",
        "mean_ceny = df_for_calc.mean()\n",
        "max_ceny = df_for_calc.max()\n",
        "min_ceny = df_for_calc.min()\n"
      ],
      "execution_count": 139,
      "outputs": []
    },
    {
      "cell_type": "markdown",
      "metadata": {
        "id": "zs56UfwupRcG"
      },
      "source": [
        "Statistic values like minimum, maximum and mean value of housing prices in specific cities in last 15 years are shown on chart below. Its possible to check value or some informations by moving cursor into interactive marker or bar. "
      ]
    },
    {
      "cell_type": "code",
      "metadata": {
        "colab": {
          "base_uri": "https://localhost:8080/",
          "height": 541
        },
        "id": "3DaWyx_3drdA",
        "outputId": "3aea4f81-d2e7-4690-f0e2-4c81b120a167"
      },
      "source": [
        "fig = px.bar(\n",
        "    x=df_for_calc.columns,\n",
        "    y=max_ceny,\n",
        "    title='Statistics of housing prices in specific cities in Poland in last 15 years.',\n",
        "    hover_name='Max of ' + df_for_calc.columns,\n",
        ")\n",
        "fig.add_scatter(x=df_for_calc.columns, y=min_ceny, mode='markers', name='Min')\n",
        "fig.add_scatter(x=df_for_calc.columns, y=mean_ceny, mode='markers', name='Mean')\n",
        "fig.show()"
      ],
      "execution_count": 140,
      "outputs": [
        {
          "output_type": "display_data",
          "data": {
            "text/html": [
              "<html>\n",
              "<head><meta charset=\"utf-8\" /></head>\n",
              "<body>\n",
              "    <div>            <script src=\"https://cdnjs.cloudflare.com/ajax/libs/mathjax/2.7.5/MathJax.js?config=TeX-AMS-MML_SVG\"></script><script type=\"text/javascript\">if (window.MathJax) {MathJax.Hub.Config({SVG: {font: \"STIX-Web\"}});}</script>                <script type=\"text/javascript\">window.PlotlyConfig = {MathJaxConfig: 'local'};</script>\n",
              "        <script src=\"https://cdn.plot.ly/plotly-2.3.1.min.js\"></script>                <div id=\"17bb5710-e15f-4de6-b2bd-f7441ebdaebc\" class=\"plotly-graph-div\" style=\"height:525px; width:100%;\"></div>            <script type=\"text/javascript\">                                    window.PLOTLYENV=window.PLOTLYENV || {};                                    if (document.getElementById(\"17bb5710-e15f-4de6-b2bd-f7441ebdaebc\")) {                    Plotly.newPlot(                        \"17bb5710-e15f-4de6-b2bd-f7441ebdaebc\",                        [{\"alignmentgroup\":\"True\",\"hovertemplate\":\"<b>%{hovertext}</b><br><br>x=%{x}<br>y=%{y}<extra></extra>\",\"hovertext\":[\"Max of Bia\\u0142ystok\",\"Max of Bydgoszcz\",\"Max of Gda\\u0144sk\",\"Max of Gdynia\",\"Max of Katowice\",\"Max of Kielce\",\"Max of Krak\\u00f3w\",\"Max of Lublin\",\"Max of \\u0141\\u00f3d\\u017a\",\"Max of Olsztyn\",\"Max of Opole\",\"Max of Pozna\\u0144\",\"Max of Rzesz\\u00f3w\",\"Max of Szczecin\",\"Max of Warszawa\",\"Max of Wroc\\u0142aw\",\"Max of Zielona G\\u00f3ra\",\"Max of 7 miast\",\"Max of 10 miast\",\"Max of 6 miast bez Warszawy\",\"Max of Bia\\u0142ystok_ceny_tr\",\"Max of Bydgoszcz_ceny_tr\",\"Max of Gda\\u0144sk_ceny_tr\",\"Max of Gdynia_ceny_tr\",\"Max of Katowice_ceny_tr\",\"Max of Kielce_ceny_tr\",\"Max of Krak\\u00f3w_ceny_tr\",\"Max of Lublin_ceny_tr\",\"Max of \\u0141\\u00f3d\\u017a_ceny_tr\",\"Max of Olsztyn_ceny_tr\",\"Max of Opole_ceny_tr\",\"Max of Pozna\\u0144_ceny_tr\",\"Max of Rzesz\\u00f3w_ceny_tr\",\"Max of Szczecin_ceny_tr\",\"Max of Warszawa_ceny_tr\",\"Max of Wroc\\u0142aw_ceny_tr\",\"Max of Zielona G\\u00f3ra_ceny_tr\",\"Max of 7 miast_ceny_tr\",\"Max of 10 miast_ceny_tr\",\"Max of 6 miast bez Warszawy_ceny_tr\"],\"legendgroup\":\"\",\"marker\":{\"color\":\"#636efa\",\"pattern\":{\"shape\":\"\"}},\"name\":\"\",\"offsetgroup\":\"\",\"orientation\":\"v\",\"showlegend\":false,\"textposition\":\"auto\",\"type\":\"bar\",\"x\":[\"Bia\\u0142ystok\",\"Bydgoszcz\",\"Gda\\u0144sk\",\"Gdynia\",\"Katowice\",\"Kielce\",\"Krak\\u00f3w\",\"Lublin\",\"\\u0141\\u00f3d\\u017a\",\"Olsztyn\",\"Opole\",\"Pozna\\u0144\",\"Rzesz\\u00f3w\",\"Szczecin\",\"Warszawa\",\"Wroc\\u0142aw\",\"Zielona G\\u00f3ra\",\"7 miast\",\"10 miast\",\"6 miast bez Warszawy\",\"Bia\\u0142ystok_ceny_tr\",\"Bydgoszcz_ceny_tr\",\"Gda\\u0144sk_ceny_tr\",\"Gdynia_ceny_tr\",\"Katowice_ceny_tr\",\"Kielce_ceny_tr\",\"Krak\\u00f3w_ceny_tr\",\"Lublin_ceny_tr\",\"\\u0141\\u00f3d\\u017a_ceny_tr\",\"Olsztyn_ceny_tr\",\"Opole_ceny_tr\",\"Pozna\\u0144_ceny_tr\",\"Rzesz\\u00f3w_ceny_tr\",\"Szczecin_ceny_tr\",\"Warszawa_ceny_tr\",\"Wroc\\u0142aw_ceny_tr\",\"Zielona G\\u00f3ra_ceny_tr\",\"7 miast_ceny_tr\",\"10 miast_ceny_tr\",\"6 miast bez Warszawy_ceny_tr\"],\"xaxis\":\"x\",\"y\":[6509.418692435176,7271.7214204549655,10068.034893304173,10327.49250112852,8050.995341621772,6234.6913819961,9757.800055124757,7082.1,6854.06145036981,6589.56,6097.751435107439,7988.023802816922,6362.14,8281.626649293965,10969.466772967678,9061.962481766914,5635.256648479672,9609.93186167319,7078.062303393357,8846.020597938188,6024.499424769682,6962.435250506264,9793.824852250107,9439.83784594441,7371.154257574024,5982.056423370471,8877.889296998857,6848.71,6624.22485816054,6446.569128041788,6254.147900892419,7976.4238739330285,6437.62,7354.09847861361,10666.038962758628,8423.430648940894,5350.012250977429,9152.532748538035,6680.560673643282,8305.199948630361],\"yaxis\":\"y\"},{\"mode\":\"markers\",\"name\":\"Min\",\"type\":\"scatter\",\"x\":[\"Bia\\u0142ystok\",\"Bydgoszcz\",\"Gda\\u0144sk\",\"Gdynia\",\"Katowice\",\"Kielce\",\"Krak\\u00f3w\",\"Lublin\",\"\\u0141\\u00f3d\\u017a\",\"Olsztyn\",\"Opole\",\"Pozna\\u0144\",\"Rzesz\\u00f3w\",\"Szczecin\",\"Warszawa\",\"Wroc\\u0142aw\",\"Zielona G\\u00f3ra\",\"7 miast\",\"10 miast\",\"6 miast bez Warszawy\",\"Bia\\u0142ystok_ceny_tr\",\"Bydgoszcz_ceny_tr\",\"Gda\\u0144sk_ceny_tr\",\"Gdynia_ceny_tr\",\"Katowice_ceny_tr\",\"Kielce_ceny_tr\",\"Krak\\u00f3w_ceny_tr\",\"Lublin_ceny_tr\",\"\\u0141\\u00f3d\\u017a_ceny_tr\",\"Olsztyn_ceny_tr\",\"Opole_ceny_tr\",\"Pozna\\u0144_ceny_tr\",\"Rzesz\\u00f3w_ceny_tr\",\"Szczecin_ceny_tr\",\"Warszawa_ceny_tr\",\"Wroc\\u0142aw_ceny_tr\",\"Zielona G\\u00f3ra_ceny_tr\",\"7 miast_ceny_tr\",\"10 miast_ceny_tr\",\"6 miast bez Warszawy_ceny_tr\"],\"y\":[2727.0,3243.0,5004.0,4937.0,3986.27,2918.6444430330034,6021.0,3314.0,3210.0,4000.0,3342.843092343046,4769.933414634147,2862.0,3214.9806362351082,5873.0,4750.0,2754.275993195861,5427.0,3006.890240202035,4978.0,3008.0,2663.0,3494.0,4467.0,3522.59,2834.8393391977534,5722.1717480476555,3022.0,2860.0,2640.0,3299.1517226232645,3620.8452411575568,2656.0,3233.916487073571,5605.0,3211.0,2499.0089302648444,3590.50341493979,2663.155087330709,4231.0]},{\"mode\":\"markers\",\"name\":\"Mean\",\"type\":\"scatter\",\"x\":[\"Bia\\u0142ystok\",\"Bydgoszcz\",\"Gda\\u0144sk\",\"Gdynia\",\"Katowice\",\"Kielce\",\"Krak\\u00f3w\",\"Lublin\",\"\\u0141\\u00f3d\\u017a\",\"Olsztyn\",\"Opole\",\"Pozna\\u0144\",\"Rzesz\\u00f3w\",\"Szczecin\",\"Warszawa\",\"Wroc\\u0142aw\",\"Zielona G\\u00f3ra\",\"7 miast\",\"10 miast\",\"6 miast bez Warszawy\",\"Bia\\u0142ystok_ceny_tr\",\"Bydgoszcz_ceny_tr\",\"Gda\\u0144sk_ceny_tr\",\"Gdynia_ceny_tr\",\"Katowice_ceny_tr\",\"Kielce_ceny_tr\",\"Krak\\u00f3w_ceny_tr\",\"Lublin_ceny_tr\",\"\\u0141\\u00f3d\\u017a_ceny_tr\",\"Olsztyn_ceny_tr\",\"Opole_ceny_tr\",\"Pozna\\u0144_ceny_tr\",\"Rzesz\\u00f3w_ceny_tr\",\"Szczecin_ceny_tr\",\"Warszawa_ceny_tr\",\"Wroc\\u0142aw_ceny_tr\",\"Zielona G\\u00f3ra_ceny_tr\",\"7 miast_ceny_tr\",\"10 miast_ceny_tr\",\"6 miast bez Warszawy_ceny_tr\"],\"y\":[5008.6496431513715,5356.23594990123,7105.247550925882,7144.751866152703,5915.365465345081,4928.943564223415,7373.961826870342,5201.336922033898,5243.783180030601,5185.072610169494,4949.910158913288,6745.595885152947,4761.360000000001,5382.118904805179,8583.035156110045,6443.745254399353,3949.164026234113,7404.941943625699,5178.808537701785,6729.2669323756545,4798.607796817004,4940.683320823253,6484.844058162561,6622.772002582599,5273.787333931096,4704.945174868724,6992.1986529569795,4998.480284745761,5004.020740668601,4801.21234115325,4535.180632514026,6425.980937522442,4637.949830508474,5177.636384982692,7885.029002934584,6104.282121282396,3834.7361479638553,6839.287856796548,4886.169167700569,6289.087693801281]}],                        {\"barmode\":\"relative\",\"legend\":{\"tracegroupgap\":0},\"template\":{\"data\":{\"bar\":[{\"error_x\":{\"color\":\"#2a3f5f\"},\"error_y\":{\"color\":\"#2a3f5f\"},\"marker\":{\"line\":{\"color\":\"#E5ECF6\",\"width\":0.5},\"pattern\":{\"fillmode\":\"overlay\",\"size\":10,\"solidity\":0.2}},\"type\":\"bar\"}],\"barpolar\":[{\"marker\":{\"line\":{\"color\":\"#E5ECF6\",\"width\":0.5},\"pattern\":{\"fillmode\":\"overlay\",\"size\":10,\"solidity\":0.2}},\"type\":\"barpolar\"}],\"carpet\":[{\"aaxis\":{\"endlinecolor\":\"#2a3f5f\",\"gridcolor\":\"white\",\"linecolor\":\"white\",\"minorgridcolor\":\"white\",\"startlinecolor\":\"#2a3f5f\"},\"baxis\":{\"endlinecolor\":\"#2a3f5f\",\"gridcolor\":\"white\",\"linecolor\":\"white\",\"minorgridcolor\":\"white\",\"startlinecolor\":\"#2a3f5f\"},\"type\":\"carpet\"}],\"choropleth\":[{\"colorbar\":{\"outlinewidth\":0,\"ticks\":\"\"},\"type\":\"choropleth\"}],\"contour\":[{\"colorbar\":{\"outlinewidth\":0,\"ticks\":\"\"},\"colorscale\":[[0.0,\"#0d0887\"],[0.1111111111111111,\"#46039f\"],[0.2222222222222222,\"#7201a8\"],[0.3333333333333333,\"#9c179e\"],[0.4444444444444444,\"#bd3786\"],[0.5555555555555556,\"#d8576b\"],[0.6666666666666666,\"#ed7953\"],[0.7777777777777778,\"#fb9f3a\"],[0.8888888888888888,\"#fdca26\"],[1.0,\"#f0f921\"]],\"type\":\"contour\"}],\"contourcarpet\":[{\"colorbar\":{\"outlinewidth\":0,\"ticks\":\"\"},\"type\":\"contourcarpet\"}],\"heatmap\":[{\"colorbar\":{\"outlinewidth\":0,\"ticks\":\"\"},\"colorscale\":[[0.0,\"#0d0887\"],[0.1111111111111111,\"#46039f\"],[0.2222222222222222,\"#7201a8\"],[0.3333333333333333,\"#9c179e\"],[0.4444444444444444,\"#bd3786\"],[0.5555555555555556,\"#d8576b\"],[0.6666666666666666,\"#ed7953\"],[0.7777777777777778,\"#fb9f3a\"],[0.8888888888888888,\"#fdca26\"],[1.0,\"#f0f921\"]],\"type\":\"heatmap\"}],\"heatmapgl\":[{\"colorbar\":{\"outlinewidth\":0,\"ticks\":\"\"},\"colorscale\":[[0.0,\"#0d0887\"],[0.1111111111111111,\"#46039f\"],[0.2222222222222222,\"#7201a8\"],[0.3333333333333333,\"#9c179e\"],[0.4444444444444444,\"#bd3786\"],[0.5555555555555556,\"#d8576b\"],[0.6666666666666666,\"#ed7953\"],[0.7777777777777778,\"#fb9f3a\"],[0.8888888888888888,\"#fdca26\"],[1.0,\"#f0f921\"]],\"type\":\"heatmapgl\"}],\"histogram\":[{\"marker\":{\"pattern\":{\"fillmode\":\"overlay\",\"size\":10,\"solidity\":0.2}},\"type\":\"histogram\"}],\"histogram2d\":[{\"colorbar\":{\"outlinewidth\":0,\"ticks\":\"\"},\"colorscale\":[[0.0,\"#0d0887\"],[0.1111111111111111,\"#46039f\"],[0.2222222222222222,\"#7201a8\"],[0.3333333333333333,\"#9c179e\"],[0.4444444444444444,\"#bd3786\"],[0.5555555555555556,\"#d8576b\"],[0.6666666666666666,\"#ed7953\"],[0.7777777777777778,\"#fb9f3a\"],[0.8888888888888888,\"#fdca26\"],[1.0,\"#f0f921\"]],\"type\":\"histogram2d\"}],\"histogram2dcontour\":[{\"colorbar\":{\"outlinewidth\":0,\"ticks\":\"\"},\"colorscale\":[[0.0,\"#0d0887\"],[0.1111111111111111,\"#46039f\"],[0.2222222222222222,\"#7201a8\"],[0.3333333333333333,\"#9c179e\"],[0.4444444444444444,\"#bd3786\"],[0.5555555555555556,\"#d8576b\"],[0.6666666666666666,\"#ed7953\"],[0.7777777777777778,\"#fb9f3a\"],[0.8888888888888888,\"#fdca26\"],[1.0,\"#f0f921\"]],\"type\":\"histogram2dcontour\"}],\"mesh3d\":[{\"colorbar\":{\"outlinewidth\":0,\"ticks\":\"\"},\"type\":\"mesh3d\"}],\"parcoords\":[{\"line\":{\"colorbar\":{\"outlinewidth\":0,\"ticks\":\"\"}},\"type\":\"parcoords\"}],\"pie\":[{\"automargin\":true,\"type\":\"pie\"}],\"scatter\":[{\"marker\":{\"colorbar\":{\"outlinewidth\":0,\"ticks\":\"\"}},\"type\":\"scatter\"}],\"scatter3d\":[{\"line\":{\"colorbar\":{\"outlinewidth\":0,\"ticks\":\"\"}},\"marker\":{\"colorbar\":{\"outlinewidth\":0,\"ticks\":\"\"}},\"type\":\"scatter3d\"}],\"scattercarpet\":[{\"marker\":{\"colorbar\":{\"outlinewidth\":0,\"ticks\":\"\"}},\"type\":\"scattercarpet\"}],\"scattergeo\":[{\"marker\":{\"colorbar\":{\"outlinewidth\":0,\"ticks\":\"\"}},\"type\":\"scattergeo\"}],\"scattergl\":[{\"marker\":{\"colorbar\":{\"outlinewidth\":0,\"ticks\":\"\"}},\"type\":\"scattergl\"}],\"scattermapbox\":[{\"marker\":{\"colorbar\":{\"outlinewidth\":0,\"ticks\":\"\"}},\"type\":\"scattermapbox\"}],\"scatterpolar\":[{\"marker\":{\"colorbar\":{\"outlinewidth\":0,\"ticks\":\"\"}},\"type\":\"scatterpolar\"}],\"scatterpolargl\":[{\"marker\":{\"colorbar\":{\"outlinewidth\":0,\"ticks\":\"\"}},\"type\":\"scatterpolargl\"}],\"scatterternary\":[{\"marker\":{\"colorbar\":{\"outlinewidth\":0,\"ticks\":\"\"}},\"type\":\"scatterternary\"}],\"surface\":[{\"colorbar\":{\"outlinewidth\":0,\"ticks\":\"\"},\"colorscale\":[[0.0,\"#0d0887\"],[0.1111111111111111,\"#46039f\"],[0.2222222222222222,\"#7201a8\"],[0.3333333333333333,\"#9c179e\"],[0.4444444444444444,\"#bd3786\"],[0.5555555555555556,\"#d8576b\"],[0.6666666666666666,\"#ed7953\"],[0.7777777777777778,\"#fb9f3a\"],[0.8888888888888888,\"#fdca26\"],[1.0,\"#f0f921\"]],\"type\":\"surface\"}],\"table\":[{\"cells\":{\"fill\":{\"color\":\"#EBF0F8\"},\"line\":{\"color\":\"white\"}},\"header\":{\"fill\":{\"color\":\"#C8D4E3\"},\"line\":{\"color\":\"white\"}},\"type\":\"table\"}]},\"layout\":{\"annotationdefaults\":{\"arrowcolor\":\"#2a3f5f\",\"arrowhead\":0,\"arrowwidth\":1},\"autotypenumbers\":\"strict\",\"coloraxis\":{\"colorbar\":{\"outlinewidth\":0,\"ticks\":\"\"}},\"colorscale\":{\"diverging\":[[0,\"#8e0152\"],[0.1,\"#c51b7d\"],[0.2,\"#de77ae\"],[0.3,\"#f1b6da\"],[0.4,\"#fde0ef\"],[0.5,\"#f7f7f7\"],[0.6,\"#e6f5d0\"],[0.7,\"#b8e186\"],[0.8,\"#7fbc41\"],[0.9,\"#4d9221\"],[1,\"#276419\"]],\"sequential\":[[0.0,\"#0d0887\"],[0.1111111111111111,\"#46039f\"],[0.2222222222222222,\"#7201a8\"],[0.3333333333333333,\"#9c179e\"],[0.4444444444444444,\"#bd3786\"],[0.5555555555555556,\"#d8576b\"],[0.6666666666666666,\"#ed7953\"],[0.7777777777777778,\"#fb9f3a\"],[0.8888888888888888,\"#fdca26\"],[1.0,\"#f0f921\"]],\"sequentialminus\":[[0.0,\"#0d0887\"],[0.1111111111111111,\"#46039f\"],[0.2222222222222222,\"#7201a8\"],[0.3333333333333333,\"#9c179e\"],[0.4444444444444444,\"#bd3786\"],[0.5555555555555556,\"#d8576b\"],[0.6666666666666666,\"#ed7953\"],[0.7777777777777778,\"#fb9f3a\"],[0.8888888888888888,\"#fdca26\"],[1.0,\"#f0f921\"]]},\"colorway\":[\"#636efa\",\"#EF553B\",\"#00cc96\",\"#ab63fa\",\"#FFA15A\",\"#19d3f3\",\"#FF6692\",\"#B6E880\",\"#FF97FF\",\"#FECB52\"],\"font\":{\"color\":\"#2a3f5f\"},\"geo\":{\"bgcolor\":\"white\",\"lakecolor\":\"white\",\"landcolor\":\"#E5ECF6\",\"showlakes\":true,\"showland\":true,\"subunitcolor\":\"white\"},\"hoverlabel\":{\"align\":\"left\"},\"hovermode\":\"closest\",\"mapbox\":{\"style\":\"light\"},\"paper_bgcolor\":\"white\",\"plot_bgcolor\":\"#E5ECF6\",\"polar\":{\"angularaxis\":{\"gridcolor\":\"white\",\"linecolor\":\"white\",\"ticks\":\"\"},\"bgcolor\":\"#E5ECF6\",\"radialaxis\":{\"gridcolor\":\"white\",\"linecolor\":\"white\",\"ticks\":\"\"}},\"scene\":{\"xaxis\":{\"backgroundcolor\":\"#E5ECF6\",\"gridcolor\":\"white\",\"gridwidth\":2,\"linecolor\":\"white\",\"showbackground\":true,\"ticks\":\"\",\"zerolinecolor\":\"white\"},\"yaxis\":{\"backgroundcolor\":\"#E5ECF6\",\"gridcolor\":\"white\",\"gridwidth\":2,\"linecolor\":\"white\",\"showbackground\":true,\"ticks\":\"\",\"zerolinecolor\":\"white\"},\"zaxis\":{\"backgroundcolor\":\"#E5ECF6\",\"gridcolor\":\"white\",\"gridwidth\":2,\"linecolor\":\"white\",\"showbackground\":true,\"ticks\":\"\",\"zerolinecolor\":\"white\"}},\"shapedefaults\":{\"line\":{\"color\":\"#2a3f5f\"}},\"ternary\":{\"aaxis\":{\"gridcolor\":\"white\",\"linecolor\":\"white\",\"ticks\":\"\"},\"baxis\":{\"gridcolor\":\"white\",\"linecolor\":\"white\",\"ticks\":\"\"},\"bgcolor\":\"#E5ECF6\",\"caxis\":{\"gridcolor\":\"white\",\"linecolor\":\"white\",\"ticks\":\"\"}},\"title\":{\"x\":0.05},\"xaxis\":{\"automargin\":true,\"gridcolor\":\"white\",\"linecolor\":\"white\",\"ticks\":\"\",\"title\":{\"standoff\":15},\"zerolinecolor\":\"white\",\"zerolinewidth\":2},\"yaxis\":{\"automargin\":true,\"gridcolor\":\"white\",\"linecolor\":\"white\",\"ticks\":\"\",\"title\":{\"standoff\":15},\"zerolinecolor\":\"white\",\"zerolinewidth\":2}}},\"title\":{\"text\":\"Statistics of housing prices in specific cities in Poland in last 15 years.\"},\"xaxis\":{\"anchor\":\"y\",\"domain\":[0.0,1.0],\"title\":{\"text\":\"x\"}},\"yaxis\":{\"anchor\":\"x\",\"domain\":[0.0,1.0],\"title\":{\"text\":\"y\"}}},                        {\"responsive\": true}                    ).then(function(){\n",
              "                            \n",
              "var gd = document.getElementById('17bb5710-e15f-4de6-b2bd-f7441ebdaebc');\n",
              "var x = new MutationObserver(function (mutations, observer) {{\n",
              "        var display = window.getComputedStyle(gd).display;\n",
              "        if (!display || display === 'none') {{\n",
              "            console.log([gd, 'removed!']);\n",
              "            Plotly.purge(gd);\n",
              "            observer.disconnect();\n",
              "        }}\n",
              "}});\n",
              "\n",
              "// Listen for the removal of the full notebook cells\n",
              "var notebookContainer = gd.closest('#notebook-container');\n",
              "if (notebookContainer) {{\n",
              "    x.observe(notebookContainer, {childList: true});\n",
              "}}\n",
              "\n",
              "// Listen for the clearing of the current output cell\n",
              "var outputEl = gd.closest('.output');\n",
              "if (outputEl) {{\n",
              "    x.observe(outputEl, {childList: true});\n",
              "}}\n",
              "\n",
              "                        })                };                            </script>        </div>\n",
              "</body>\n",
              "</html>"
            ]
          },
          "metadata": {}
        }
      ]
    },
    {
      "cell_type": "markdown",
      "metadata": {
        "id": "qElh0M4nc0Hf"
      },
      "source": [
        "The next project's target is to create visualization for one of the cities, but with linear representation of its changes every period of time. To achieve that, time axis had to be changed into format readable for plotly express library. "
      ]
    },
    {
      "cell_type": "code",
      "metadata": {
        "colab": {
          "base_uri": "https://localhost:8080/",
          "height": 355
        },
        "id": "9CHft80hLaXM",
        "outputId": "91fe72ea-540d-4923-f1e2-09d8d5fa5ffb"
      },
      "source": [
        "\n",
        "DATA_VALUE1 = ['I','II','III','IV']\n",
        "CHANGED_VALUES = ['1','4','7','10']\n",
        "VALUES_OF_RAW_COLUMN = [e for e in df['Kwartał'].values]\n",
        "\n",
        "DATA_VALUES = [e.replace(DATA_VALUE1[3],CHANGED_VALUES[3]) for e in df['Kwartał'].values]\n",
        "DATA_VALUES = [e.replace(DATA_VALUE1[2],CHANGED_VALUES[2]) for e in DATA_VALUES]\n",
        "DATA_VALUES = [e.replace(DATA_VALUE1[1],CHANGED_VALUES[1]) for e in DATA_VALUES]\n",
        "DATA_VALUES = [e.replace(DATA_VALUE1[0],CHANGED_VALUES[0]) for e in DATA_VALUES]\n",
        "DATA_VALUES = [e.replace(' ', '/') for e in DATA_VALUES]\n",
        "\n",
        "df['Kwartał'] = df['Kwartał'].replace(VALUES_OF_RAW_COLUMN, DATA_VALUES).replace(' ', '/')"
      ],
      "execution_count": 156,
      "outputs": [
        {
          "output_type": "error",
          "ename": "AttributeError",
          "evalue": "ignored",
          "traceback": [
            "\u001b[0;31m---------------------------------------------------------------------------\u001b[0m",
            "\u001b[0;31mAttributeError\u001b[0m                            Traceback (most recent call last)",
            "\u001b[0;32m<ipython-input-156-ac3935661fa3>\u001b[0m in \u001b[0;36m<module>\u001b[0;34m()\u001b[0m\n\u001b[1;32m      4\u001b[0m \u001b[0mVALUES_OF_RAW_COLUMN\u001b[0m \u001b[0;34m=\u001b[0m \u001b[0;34m[\u001b[0m\u001b[0me\u001b[0m \u001b[0;32mfor\u001b[0m \u001b[0me\u001b[0m \u001b[0;32min\u001b[0m \u001b[0mdf\u001b[0m\u001b[0;34m[\u001b[0m\u001b[0;34m'Kwartał'\u001b[0m\u001b[0;34m]\u001b[0m\u001b[0;34m.\u001b[0m\u001b[0mvalues\u001b[0m\u001b[0;34m]\u001b[0m\u001b[0;34m\u001b[0m\u001b[0;34m\u001b[0m\u001b[0m\n\u001b[1;32m      5\u001b[0m \u001b[0;34m\u001b[0m\u001b[0m\n\u001b[0;32m----> 6\u001b[0;31m \u001b[0mDATA_VALUES\u001b[0m \u001b[0;34m=\u001b[0m \u001b[0;34m[\u001b[0m\u001b[0me\u001b[0m\u001b[0;34m.\u001b[0m\u001b[0mreplace\u001b[0m\u001b[0;34m(\u001b[0m\u001b[0mDATA_VALUE1\u001b[0m\u001b[0;34m[\u001b[0m\u001b[0;36m3\u001b[0m\u001b[0;34m]\u001b[0m\u001b[0;34m,\u001b[0m\u001b[0mCHANGED_VALUES\u001b[0m\u001b[0;34m[\u001b[0m\u001b[0;36m3\u001b[0m\u001b[0;34m]\u001b[0m\u001b[0;34m)\u001b[0m \u001b[0;32mfor\u001b[0m \u001b[0me\u001b[0m \u001b[0;32min\u001b[0m \u001b[0mdf\u001b[0m\u001b[0;34m[\u001b[0m\u001b[0;34m'Kwartał'\u001b[0m\u001b[0;34m]\u001b[0m\u001b[0;34m.\u001b[0m\u001b[0mvalues\u001b[0m\u001b[0;34m]\u001b[0m\u001b[0;34m\u001b[0m\u001b[0;34m\u001b[0m\u001b[0m\n\u001b[0m\u001b[1;32m      7\u001b[0m \u001b[0mDATA_VALUES\u001b[0m \u001b[0;34m=\u001b[0m \u001b[0;34m[\u001b[0m\u001b[0me\u001b[0m\u001b[0;34m.\u001b[0m\u001b[0mreplace\u001b[0m\u001b[0;34m(\u001b[0m\u001b[0mDATA_VALUE1\u001b[0m\u001b[0;34m[\u001b[0m\u001b[0;36m2\u001b[0m\u001b[0;34m]\u001b[0m\u001b[0;34m,\u001b[0m\u001b[0mCHANGED_VALUES\u001b[0m\u001b[0;34m[\u001b[0m\u001b[0;36m2\u001b[0m\u001b[0;34m]\u001b[0m\u001b[0;34m)\u001b[0m \u001b[0;32mfor\u001b[0m \u001b[0me\u001b[0m \u001b[0;32min\u001b[0m \u001b[0mDATA_VALUES\u001b[0m\u001b[0;34m]\u001b[0m\u001b[0;34m\u001b[0m\u001b[0;34m\u001b[0m\u001b[0m\n\u001b[1;32m      8\u001b[0m \u001b[0mDATA_VALUES\u001b[0m \u001b[0;34m=\u001b[0m \u001b[0;34m[\u001b[0m\u001b[0me\u001b[0m\u001b[0;34m.\u001b[0m\u001b[0mreplace\u001b[0m\u001b[0;34m(\u001b[0m\u001b[0mDATA_VALUE1\u001b[0m\u001b[0;34m[\u001b[0m\u001b[0;36m1\u001b[0m\u001b[0;34m]\u001b[0m\u001b[0;34m,\u001b[0m\u001b[0mCHANGED_VALUES\u001b[0m\u001b[0;34m[\u001b[0m\u001b[0;36m1\u001b[0m\u001b[0;34m]\u001b[0m\u001b[0;34m)\u001b[0m \u001b[0;32mfor\u001b[0m \u001b[0me\u001b[0m \u001b[0;32min\u001b[0m \u001b[0mDATA_VALUES\u001b[0m\u001b[0;34m]\u001b[0m\u001b[0;34m\u001b[0m\u001b[0;34m\u001b[0m\u001b[0m\n",
            "\u001b[0;32m<ipython-input-156-ac3935661fa3>\u001b[0m in \u001b[0;36m<listcomp>\u001b[0;34m(.0)\u001b[0m\n\u001b[1;32m      4\u001b[0m \u001b[0mVALUES_OF_RAW_COLUMN\u001b[0m \u001b[0;34m=\u001b[0m \u001b[0;34m[\u001b[0m\u001b[0me\u001b[0m \u001b[0;32mfor\u001b[0m \u001b[0me\u001b[0m \u001b[0;32min\u001b[0m \u001b[0mdf\u001b[0m\u001b[0;34m[\u001b[0m\u001b[0;34m'Kwartał'\u001b[0m\u001b[0;34m]\u001b[0m\u001b[0;34m.\u001b[0m\u001b[0mvalues\u001b[0m\u001b[0;34m]\u001b[0m\u001b[0;34m\u001b[0m\u001b[0;34m\u001b[0m\u001b[0m\n\u001b[1;32m      5\u001b[0m \u001b[0;34m\u001b[0m\u001b[0m\n\u001b[0;32m----> 6\u001b[0;31m \u001b[0mDATA_VALUES\u001b[0m \u001b[0;34m=\u001b[0m \u001b[0;34m[\u001b[0m\u001b[0me\u001b[0m\u001b[0;34m.\u001b[0m\u001b[0mreplace\u001b[0m\u001b[0;34m(\u001b[0m\u001b[0mDATA_VALUE1\u001b[0m\u001b[0;34m[\u001b[0m\u001b[0;36m3\u001b[0m\u001b[0;34m]\u001b[0m\u001b[0;34m,\u001b[0m\u001b[0mCHANGED_VALUES\u001b[0m\u001b[0;34m[\u001b[0m\u001b[0;36m3\u001b[0m\u001b[0;34m]\u001b[0m\u001b[0;34m)\u001b[0m \u001b[0;32mfor\u001b[0m \u001b[0me\u001b[0m \u001b[0;32min\u001b[0m \u001b[0mdf\u001b[0m\u001b[0;34m[\u001b[0m\u001b[0;34m'Kwartał'\u001b[0m\u001b[0;34m]\u001b[0m\u001b[0;34m.\u001b[0m\u001b[0mvalues\u001b[0m\u001b[0;34m]\u001b[0m\u001b[0;34m\u001b[0m\u001b[0;34m\u001b[0m\u001b[0m\n\u001b[0m\u001b[1;32m      7\u001b[0m \u001b[0mDATA_VALUES\u001b[0m \u001b[0;34m=\u001b[0m \u001b[0;34m[\u001b[0m\u001b[0me\u001b[0m\u001b[0;34m.\u001b[0m\u001b[0mreplace\u001b[0m\u001b[0;34m(\u001b[0m\u001b[0mDATA_VALUE1\u001b[0m\u001b[0;34m[\u001b[0m\u001b[0;36m2\u001b[0m\u001b[0;34m]\u001b[0m\u001b[0;34m,\u001b[0m\u001b[0mCHANGED_VALUES\u001b[0m\u001b[0;34m[\u001b[0m\u001b[0;36m2\u001b[0m\u001b[0;34m]\u001b[0m\u001b[0;34m)\u001b[0m \u001b[0;32mfor\u001b[0m \u001b[0me\u001b[0m \u001b[0;32min\u001b[0m \u001b[0mDATA_VALUES\u001b[0m\u001b[0;34m]\u001b[0m\u001b[0;34m\u001b[0m\u001b[0;34m\u001b[0m\u001b[0m\n\u001b[1;32m      8\u001b[0m \u001b[0mDATA_VALUES\u001b[0m \u001b[0;34m=\u001b[0m \u001b[0;34m[\u001b[0m\u001b[0me\u001b[0m\u001b[0;34m.\u001b[0m\u001b[0mreplace\u001b[0m\u001b[0;34m(\u001b[0m\u001b[0mDATA_VALUE1\u001b[0m\u001b[0;34m[\u001b[0m\u001b[0;36m1\u001b[0m\u001b[0;34m]\u001b[0m\u001b[0;34m,\u001b[0m\u001b[0mCHANGED_VALUES\u001b[0m\u001b[0;34m[\u001b[0m\u001b[0;36m1\u001b[0m\u001b[0;34m]\u001b[0m\u001b[0;34m)\u001b[0m \u001b[0;32mfor\u001b[0m \u001b[0me\u001b[0m \u001b[0;32min\u001b[0m \u001b[0mDATA_VALUES\u001b[0m\u001b[0;34m]\u001b[0m\u001b[0;34m\u001b[0m\u001b[0;34m\u001b[0m\u001b[0m\n",
            "\u001b[0;31mAttributeError\u001b[0m: 'numpy.datetime64' object has no attribute 'replace'"
          ]
        }
      ]
    },
    {
      "cell_type": "markdown",
      "metadata": {
        "id": "hRbXa7CBddkt"
      },
      "source": [
        "Visualization of prices of apartments in Kraków with Locally Weighted Scatterplot Smoothing line shown in the chart. Lowess fits better the changes of housing prices than Linear Regression line. Both of them are built into Plotly Express parameters of scatter chart."
      ]
    },
    {
      "cell_type": "code",
      "metadata": {
        "colab": {
          "base_uri": "https://localhost:8080/",
          "height": 541
        },
        "id": "j_QH1ginA2ux",
        "outputId": "3a55a896-9f22-4ca1-dfd7-8dd7bd259991"
      },
      "source": [
        "\n",
        "df[\"Kwartał\"] = pandas.to_datetime(df['Kwartał'], format=\"%m/%Y\")\n",
        "fig2 = px.scatter(\n",
        "    data_frame=df,\n",
        "    x=df['Kwartał'],\n",
        "    y=df['Kraków'],\n",
        "    title='Prices of apartments in Kraków since 2006 with Locally Weighted Scatterplot Smoothing line.',\n",
        "    labels={'Kwartał':'time', 'Kraków':'Price of apartament [zl/sqm]'},\n",
        "    trendline=\"lowess\",\n",
        ")\n",
        "fig2.show()"
      ],
      "execution_count": 161,
      "outputs": [
        {
          "output_type": "display_data",
          "data": {
            "text/html": [
              "<html>\n",
              "<head><meta charset=\"utf-8\" /></head>\n",
              "<body>\n",
              "    <div>            <script src=\"https://cdnjs.cloudflare.com/ajax/libs/mathjax/2.7.5/MathJax.js?config=TeX-AMS-MML_SVG\"></script><script type=\"text/javascript\">if (window.MathJax) {MathJax.Hub.Config({SVG: {font: \"STIX-Web\"}});}</script>                <script type=\"text/javascript\">window.PlotlyConfig = {MathJaxConfig: 'local'};</script>\n",
              "        <script src=\"https://cdn.plot.ly/plotly-2.3.1.min.js\"></script>                <div id=\"1294c2e0-3e38-4d51-b805-f709d5d428c4\" class=\"plotly-graph-div\" style=\"height:525px; width:100%;\"></div>            <script type=\"text/javascript\">                                    window.PLOTLYENV=window.PLOTLYENV || {};                                    if (document.getElementById(\"1294c2e0-3e38-4d51-b805-f709d5d428c4\")) {                    Plotly.newPlot(                        \"1294c2e0-3e38-4d51-b805-f709d5d428c4\",                        [{\"hovertemplate\":\"time=%{x}<br>Price of apartament [zl/sqm]=%{y}<extra></extra>\",\"legendgroup\":\"\",\"marker\":{\"color\":\"#636efa\",\"symbol\":\"circle\"},\"mode\":\"markers\",\"name\":\"\",\"orientation\":\"v\",\"showlegend\":false,\"type\":\"scatter\",\"x\":[\"2006-07-01T00:00:00\",\"2006-10-01T00:00:00\",\"2007-01-01T00:00:00\",\"2007-04-01T00:00:00\",\"2007-07-01T00:00:00\",\"2007-10-01T00:00:00\",\"2008-01-01T00:00:00\",\"2008-04-01T00:00:00\",\"2008-07-01T00:00:00\",\"2008-10-01T00:00:00\",\"2009-01-01T00:00:00\",\"2009-04-01T00:00:00\",\"2009-07-01T00:00:00\",\"2009-10-01T00:00:00\",\"2010-01-01T00:00:00\",\"2010-04-01T00:00:00\",\"2010-07-01T00:00:00\",\"2010-10-01T00:00:00\",\"2011-01-01T00:00:00\",\"2011-04-01T00:00:00\",\"2011-07-01T00:00:00\",\"2011-10-01T00:00:00\",\"2012-01-01T00:00:00\",\"2012-04-01T00:00:00\",\"2012-07-01T00:00:00\",\"2012-10-01T00:00:00\",\"2013-01-01T00:00:00\",\"2013-04-01T00:00:00\",\"2013-07-01T00:00:00\",\"2013-10-01T00:00:00\",\"2014-01-01T00:00:00\",\"2014-04-01T00:00:00\",\"2014-07-01T00:00:00\",\"2014-10-01T00:00:00\",\"2015-01-01T00:00:00\",\"2015-04-01T00:00:00\",\"2015-07-01T00:00:00\",\"2015-10-01T00:00:00\",\"2016-01-01T00:00:00\",\"2016-04-01T00:00:00\",\"2016-07-01T00:00:00\",\"2016-10-01T00:00:00\",\"2017-01-01T00:00:00\",\"2017-04-01T00:00:00\",\"2017-07-01T00:00:00\",\"2017-10-01T00:00:00\",\"2018-01-01T00:00:00\",\"2018-04-01T00:00:00\",\"2018-07-01T00:00:00\",\"2018-10-01T00:00:00\",\"2019-01-01T00:00:00\",\"2019-04-01T00:00:00\",\"2019-07-01T00:00:00\",\"2019-10-01T00:00:00\",\"2020-01-01T00:00:00\",\"2020-04-01T00:00:00\",\"2020-07-01T00:00:00\",\"2020-10-01T00:00:00\",\"2021-01-01T00:00:00\"],\"xaxis\":\"x\",\"y\":[6021,7929,8247,8129,8420,8355,8084,8034,8012,7751,7675,7622,7631,7521,7595,7559,7526,7564,7517,7209,7061,7039,7111.8968852809285,7082.544249948684,6893.044091390006,6773.493746136923,6361.697465776355,6265.893815760362,6071.463798360449,6122.340668805413,6472.426780025669,6433.618868815462,6214.309634313189,6491.090375463125,6564.528925327671,6720,6658,6524.534146084892,6524,6670.440828959773,6525.678266524273,6711,6618.933651146061,6746.158351015139,6931.476461244793,6923.771729952507,6918.257455352491,6902.119273518455,7040.135609426442,7355.588969653671,7622.580978288294,7956.7851949038695,8017.228687574799,8531.638307463085,9212.450326711425,9757.800055124757,9462.948701862468,9616.84879825691,9756.022686881894],\"yaxis\":\"y\"},{\"hovertemplate\":\"<b>LOWESS trendline</b><br><br>time=%{x}<br>Price of apartament [zl/sqm]=%{y} <b>(trend)</b><extra></extra>\",\"legendgroup\":\"\",\"marker\":{\"color\":\"#636efa\",\"symbol\":\"circle\"},\"mode\":\"lines\",\"name\":\"\",\"showlegend\":false,\"type\":\"scatter\",\"x\":[\"2006-07-01T00:00:00\",\"2006-10-01T00:00:00\",\"2007-01-01T00:00:00\",\"2007-04-01T00:00:00\",\"2007-07-01T00:00:00\",\"2007-10-01T00:00:00\",\"2008-01-01T00:00:00\",\"2008-04-01T00:00:00\",\"2008-07-01T00:00:00\",\"2008-10-01T00:00:00\",\"2009-01-01T00:00:00\",\"2009-04-01T00:00:00\",\"2009-07-01T00:00:00\",\"2009-10-01T00:00:00\",\"2010-01-01T00:00:00\",\"2010-04-01T00:00:00\",\"2010-07-01T00:00:00\",\"2010-10-01T00:00:00\",\"2011-01-01T00:00:00\",\"2011-04-01T00:00:00\",\"2011-07-01T00:00:00\",\"2011-10-01T00:00:00\",\"2012-01-01T00:00:00\",\"2012-04-01T00:00:00\",\"2012-07-01T00:00:00\",\"2012-10-01T00:00:00\",\"2013-01-01T00:00:00\",\"2013-04-01T00:00:00\",\"2013-07-01T00:00:00\",\"2013-10-01T00:00:00\",\"2014-01-01T00:00:00\",\"2014-04-01T00:00:00\",\"2014-07-01T00:00:00\",\"2014-10-01T00:00:00\",\"2015-01-01T00:00:00\",\"2015-04-01T00:00:00\",\"2015-07-01T00:00:00\",\"2015-10-01T00:00:00\",\"2016-01-01T00:00:00\",\"2016-04-01T00:00:00\",\"2016-07-01T00:00:00\",\"2016-10-01T00:00:00\",\"2017-01-01T00:00:00\",\"2017-04-01T00:00:00\",\"2017-07-01T00:00:00\",\"2017-10-01T00:00:00\",\"2018-01-01T00:00:00\",\"2018-04-01T00:00:00\",\"2018-07-01T00:00:00\",\"2018-10-01T00:00:00\",\"2019-01-01T00:00:00\",\"2019-04-01T00:00:00\",\"2019-07-01T00:00:00\",\"2019-10-01T00:00:00\",\"2020-01-01T00:00:00\",\"2020-04-01T00:00:00\",\"2020-07-01T00:00:00\",\"2020-10-01T00:00:00\",\"2021-01-01T00:00:00\"],\"xaxis\":\"x\",\"y\":[8430.37838524821,8367.179903844015,8303.72370264828,8241.410842871366,8178.193955752636,8114.098330382537,8049.83477458248,7986.102585497312,7922.193612775844,7857.383509051647,7792.343987750915,7728.4667793910385,7663.599321662525,7597.706158895547,7531.471531383303,7466.321163785002,7400.052683735764,7332.578502009431,7264.454550217511,7196.915569455229,7133.030170328456,7072.197794183958,7015.691050331896,6963.70947906904,6915.2070366093385,6869.475222063494,6826.817653405111,6787.755655863132,6751.045141369814,6717.272249099203,6687.91453350392,6663.126923571357,6643.179492602554,6629.844042091165,6625.681572908538,6630.755313345691,6646.511977731948,6673.124996027687,6710.828011652222,6758.0094778135035,6835.347242115215,6919.159216312234,7006.518772356905,7094.080001819738,7183.987547930946,7275.884823008866,7368.589018450104,7459.996101305003,7553.169912462913,7648.231241838316,7744.304685366618,7839.433365266701,7936.937173520834,8037.01036124954,8138.710897636392,8240.967293059299,8344.892947835553,8451.659337188908,8560.09702663355],\"yaxis\":\"y\"}],                        {\"legend\":{\"tracegroupgap\":0},\"template\":{\"data\":{\"bar\":[{\"error_x\":{\"color\":\"#2a3f5f\"},\"error_y\":{\"color\":\"#2a3f5f\"},\"marker\":{\"line\":{\"color\":\"#E5ECF6\",\"width\":0.5},\"pattern\":{\"fillmode\":\"overlay\",\"size\":10,\"solidity\":0.2}},\"type\":\"bar\"}],\"barpolar\":[{\"marker\":{\"line\":{\"color\":\"#E5ECF6\",\"width\":0.5},\"pattern\":{\"fillmode\":\"overlay\",\"size\":10,\"solidity\":0.2}},\"type\":\"barpolar\"}],\"carpet\":[{\"aaxis\":{\"endlinecolor\":\"#2a3f5f\",\"gridcolor\":\"white\",\"linecolor\":\"white\",\"minorgridcolor\":\"white\",\"startlinecolor\":\"#2a3f5f\"},\"baxis\":{\"endlinecolor\":\"#2a3f5f\",\"gridcolor\":\"white\",\"linecolor\":\"white\",\"minorgridcolor\":\"white\",\"startlinecolor\":\"#2a3f5f\"},\"type\":\"carpet\"}],\"choropleth\":[{\"colorbar\":{\"outlinewidth\":0,\"ticks\":\"\"},\"type\":\"choropleth\"}],\"contour\":[{\"colorbar\":{\"outlinewidth\":0,\"ticks\":\"\"},\"colorscale\":[[0.0,\"#0d0887\"],[0.1111111111111111,\"#46039f\"],[0.2222222222222222,\"#7201a8\"],[0.3333333333333333,\"#9c179e\"],[0.4444444444444444,\"#bd3786\"],[0.5555555555555556,\"#d8576b\"],[0.6666666666666666,\"#ed7953\"],[0.7777777777777778,\"#fb9f3a\"],[0.8888888888888888,\"#fdca26\"],[1.0,\"#f0f921\"]],\"type\":\"contour\"}],\"contourcarpet\":[{\"colorbar\":{\"outlinewidth\":0,\"ticks\":\"\"},\"type\":\"contourcarpet\"}],\"heatmap\":[{\"colorbar\":{\"outlinewidth\":0,\"ticks\":\"\"},\"colorscale\":[[0.0,\"#0d0887\"],[0.1111111111111111,\"#46039f\"],[0.2222222222222222,\"#7201a8\"],[0.3333333333333333,\"#9c179e\"],[0.4444444444444444,\"#bd3786\"],[0.5555555555555556,\"#d8576b\"],[0.6666666666666666,\"#ed7953\"],[0.7777777777777778,\"#fb9f3a\"],[0.8888888888888888,\"#fdca26\"],[1.0,\"#f0f921\"]],\"type\":\"heatmap\"}],\"heatmapgl\":[{\"colorbar\":{\"outlinewidth\":0,\"ticks\":\"\"},\"colorscale\":[[0.0,\"#0d0887\"],[0.1111111111111111,\"#46039f\"],[0.2222222222222222,\"#7201a8\"],[0.3333333333333333,\"#9c179e\"],[0.4444444444444444,\"#bd3786\"],[0.5555555555555556,\"#d8576b\"],[0.6666666666666666,\"#ed7953\"],[0.7777777777777778,\"#fb9f3a\"],[0.8888888888888888,\"#fdca26\"],[1.0,\"#f0f921\"]],\"type\":\"heatmapgl\"}],\"histogram\":[{\"marker\":{\"pattern\":{\"fillmode\":\"overlay\",\"size\":10,\"solidity\":0.2}},\"type\":\"histogram\"}],\"histogram2d\":[{\"colorbar\":{\"outlinewidth\":0,\"ticks\":\"\"},\"colorscale\":[[0.0,\"#0d0887\"],[0.1111111111111111,\"#46039f\"],[0.2222222222222222,\"#7201a8\"],[0.3333333333333333,\"#9c179e\"],[0.4444444444444444,\"#bd3786\"],[0.5555555555555556,\"#d8576b\"],[0.6666666666666666,\"#ed7953\"],[0.7777777777777778,\"#fb9f3a\"],[0.8888888888888888,\"#fdca26\"],[1.0,\"#f0f921\"]],\"type\":\"histogram2d\"}],\"histogram2dcontour\":[{\"colorbar\":{\"outlinewidth\":0,\"ticks\":\"\"},\"colorscale\":[[0.0,\"#0d0887\"],[0.1111111111111111,\"#46039f\"],[0.2222222222222222,\"#7201a8\"],[0.3333333333333333,\"#9c179e\"],[0.4444444444444444,\"#bd3786\"],[0.5555555555555556,\"#d8576b\"],[0.6666666666666666,\"#ed7953\"],[0.7777777777777778,\"#fb9f3a\"],[0.8888888888888888,\"#fdca26\"],[1.0,\"#f0f921\"]],\"type\":\"histogram2dcontour\"}],\"mesh3d\":[{\"colorbar\":{\"outlinewidth\":0,\"ticks\":\"\"},\"type\":\"mesh3d\"}],\"parcoords\":[{\"line\":{\"colorbar\":{\"outlinewidth\":0,\"ticks\":\"\"}},\"type\":\"parcoords\"}],\"pie\":[{\"automargin\":true,\"type\":\"pie\"}],\"scatter\":[{\"marker\":{\"colorbar\":{\"outlinewidth\":0,\"ticks\":\"\"}},\"type\":\"scatter\"}],\"scatter3d\":[{\"line\":{\"colorbar\":{\"outlinewidth\":0,\"ticks\":\"\"}},\"marker\":{\"colorbar\":{\"outlinewidth\":0,\"ticks\":\"\"}},\"type\":\"scatter3d\"}],\"scattercarpet\":[{\"marker\":{\"colorbar\":{\"outlinewidth\":0,\"ticks\":\"\"}},\"type\":\"scattercarpet\"}],\"scattergeo\":[{\"marker\":{\"colorbar\":{\"outlinewidth\":0,\"ticks\":\"\"}},\"type\":\"scattergeo\"}],\"scattergl\":[{\"marker\":{\"colorbar\":{\"outlinewidth\":0,\"ticks\":\"\"}},\"type\":\"scattergl\"}],\"scattermapbox\":[{\"marker\":{\"colorbar\":{\"outlinewidth\":0,\"ticks\":\"\"}},\"type\":\"scattermapbox\"}],\"scatterpolar\":[{\"marker\":{\"colorbar\":{\"outlinewidth\":0,\"ticks\":\"\"}},\"type\":\"scatterpolar\"}],\"scatterpolargl\":[{\"marker\":{\"colorbar\":{\"outlinewidth\":0,\"ticks\":\"\"}},\"type\":\"scatterpolargl\"}],\"scatterternary\":[{\"marker\":{\"colorbar\":{\"outlinewidth\":0,\"ticks\":\"\"}},\"type\":\"scatterternary\"}],\"surface\":[{\"colorbar\":{\"outlinewidth\":0,\"ticks\":\"\"},\"colorscale\":[[0.0,\"#0d0887\"],[0.1111111111111111,\"#46039f\"],[0.2222222222222222,\"#7201a8\"],[0.3333333333333333,\"#9c179e\"],[0.4444444444444444,\"#bd3786\"],[0.5555555555555556,\"#d8576b\"],[0.6666666666666666,\"#ed7953\"],[0.7777777777777778,\"#fb9f3a\"],[0.8888888888888888,\"#fdca26\"],[1.0,\"#f0f921\"]],\"type\":\"surface\"}],\"table\":[{\"cells\":{\"fill\":{\"color\":\"#EBF0F8\"},\"line\":{\"color\":\"white\"}},\"header\":{\"fill\":{\"color\":\"#C8D4E3\"},\"line\":{\"color\":\"white\"}},\"type\":\"table\"}]},\"layout\":{\"annotationdefaults\":{\"arrowcolor\":\"#2a3f5f\",\"arrowhead\":0,\"arrowwidth\":1},\"autotypenumbers\":\"strict\",\"coloraxis\":{\"colorbar\":{\"outlinewidth\":0,\"ticks\":\"\"}},\"colorscale\":{\"diverging\":[[0,\"#8e0152\"],[0.1,\"#c51b7d\"],[0.2,\"#de77ae\"],[0.3,\"#f1b6da\"],[0.4,\"#fde0ef\"],[0.5,\"#f7f7f7\"],[0.6,\"#e6f5d0\"],[0.7,\"#b8e186\"],[0.8,\"#7fbc41\"],[0.9,\"#4d9221\"],[1,\"#276419\"]],\"sequential\":[[0.0,\"#0d0887\"],[0.1111111111111111,\"#46039f\"],[0.2222222222222222,\"#7201a8\"],[0.3333333333333333,\"#9c179e\"],[0.4444444444444444,\"#bd3786\"],[0.5555555555555556,\"#d8576b\"],[0.6666666666666666,\"#ed7953\"],[0.7777777777777778,\"#fb9f3a\"],[0.8888888888888888,\"#fdca26\"],[1.0,\"#f0f921\"]],\"sequentialminus\":[[0.0,\"#0d0887\"],[0.1111111111111111,\"#46039f\"],[0.2222222222222222,\"#7201a8\"],[0.3333333333333333,\"#9c179e\"],[0.4444444444444444,\"#bd3786\"],[0.5555555555555556,\"#d8576b\"],[0.6666666666666666,\"#ed7953\"],[0.7777777777777778,\"#fb9f3a\"],[0.8888888888888888,\"#fdca26\"],[1.0,\"#f0f921\"]]},\"colorway\":[\"#636efa\",\"#EF553B\",\"#00cc96\",\"#ab63fa\",\"#FFA15A\",\"#19d3f3\",\"#FF6692\",\"#B6E880\",\"#FF97FF\",\"#FECB52\"],\"font\":{\"color\":\"#2a3f5f\"},\"geo\":{\"bgcolor\":\"white\",\"lakecolor\":\"white\",\"landcolor\":\"#E5ECF6\",\"showlakes\":true,\"showland\":true,\"subunitcolor\":\"white\"},\"hoverlabel\":{\"align\":\"left\"},\"hovermode\":\"closest\",\"mapbox\":{\"style\":\"light\"},\"paper_bgcolor\":\"white\",\"plot_bgcolor\":\"#E5ECF6\",\"polar\":{\"angularaxis\":{\"gridcolor\":\"white\",\"linecolor\":\"white\",\"ticks\":\"\"},\"bgcolor\":\"#E5ECF6\",\"radialaxis\":{\"gridcolor\":\"white\",\"linecolor\":\"white\",\"ticks\":\"\"}},\"scene\":{\"xaxis\":{\"backgroundcolor\":\"#E5ECF6\",\"gridcolor\":\"white\",\"gridwidth\":2,\"linecolor\":\"white\",\"showbackground\":true,\"ticks\":\"\",\"zerolinecolor\":\"white\"},\"yaxis\":{\"backgroundcolor\":\"#E5ECF6\",\"gridcolor\":\"white\",\"gridwidth\":2,\"linecolor\":\"white\",\"showbackground\":true,\"ticks\":\"\",\"zerolinecolor\":\"white\"},\"zaxis\":{\"backgroundcolor\":\"#E5ECF6\",\"gridcolor\":\"white\",\"gridwidth\":2,\"linecolor\":\"white\",\"showbackground\":true,\"ticks\":\"\",\"zerolinecolor\":\"white\"}},\"shapedefaults\":{\"line\":{\"color\":\"#2a3f5f\"}},\"ternary\":{\"aaxis\":{\"gridcolor\":\"white\",\"linecolor\":\"white\",\"ticks\":\"\"},\"baxis\":{\"gridcolor\":\"white\",\"linecolor\":\"white\",\"ticks\":\"\"},\"bgcolor\":\"#E5ECF6\",\"caxis\":{\"gridcolor\":\"white\",\"linecolor\":\"white\",\"ticks\":\"\"}},\"title\":{\"x\":0.05},\"xaxis\":{\"automargin\":true,\"gridcolor\":\"white\",\"linecolor\":\"white\",\"ticks\":\"\",\"title\":{\"standoff\":15},\"zerolinecolor\":\"white\",\"zerolinewidth\":2},\"yaxis\":{\"automargin\":true,\"gridcolor\":\"white\",\"linecolor\":\"white\",\"ticks\":\"\",\"title\":{\"standoff\":15},\"zerolinecolor\":\"white\",\"zerolinewidth\":2}}},\"title\":{\"text\":\"Prices of apartments in Krak\\u00f3w since 2006 with Locally Weighted Scatterplot Smoothing line.\"},\"xaxis\":{\"anchor\":\"y\",\"domain\":[0.0,1.0],\"title\":{\"text\":\"time\"}},\"yaxis\":{\"anchor\":\"x\",\"domain\":[0.0,1.0],\"title\":{\"text\":\"Price of apartament [zl/sqm]\"}}},                        {\"responsive\": true}                    ).then(function(){\n",
              "                            \n",
              "var gd = document.getElementById('1294c2e0-3e38-4d51-b805-f709d5d428c4');\n",
              "var x = new MutationObserver(function (mutations, observer) {{\n",
              "        var display = window.getComputedStyle(gd).display;\n",
              "        if (!display || display === 'none') {{\n",
              "            console.log([gd, 'removed!']);\n",
              "            Plotly.purge(gd);\n",
              "            observer.disconnect();\n",
              "        }}\n",
              "}});\n",
              "\n",
              "// Listen for the removal of the full notebook cells\n",
              "var notebookContainer = gd.closest('#notebook-container');\n",
              "if (notebookContainer) {{\n",
              "    x.observe(notebookContainer, {childList: true});\n",
              "}}\n",
              "\n",
              "// Listen for the clearing of the current output cell\n",
              "var outputEl = gd.closest('.output');\n",
              "if (outputEl) {{\n",
              "    x.observe(outputEl, {childList: true});\n",
              "}}\n",
              "\n",
              "                        })                };                            </script>        </div>\n",
              "</body>\n",
              "</html>"
            ]
          },
          "metadata": {}
        }
      ]
    },
    {
      "cell_type": "markdown",
      "metadata": {
        "id": "5S-t0F21u966"
      },
      "source": [
        "## Linear Regression."
      ]
    },
    {
      "cell_type": "code",
      "metadata": {
        "id": "xv0sqvmhvFH5"
      },
      "source": [
        "learning_rate = 0.01\n",
        "training_epochs = 1000"
      ],
      "execution_count": 15,
      "outputs": []
    }
  ]
}